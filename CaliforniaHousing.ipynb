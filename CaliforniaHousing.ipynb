{
  "nbformat": 4,
  "nbformat_minor": 0,
  "metadata": {
    "colab": {
      "provenance": [],
      "toc_visible": true,
      "authorship_tag": "ABX9TyNQDZM3RHE1nw9xrOvmEi/k",
      "include_colab_link": true
    },
    "kernelspec": {
      "name": "python3",
      "display_name": "Python 3"
    },
    "language_info": {
      "name": "python"
    }
  },
  "cells": [
    {
      "cell_type": "markdown",
      "metadata": {
        "id": "view-in-github",
        "colab_type": "text"
      },
      "source": [
        "<a href=\"https://colab.research.google.com/github/renzasprec/CaliforniaHouses/blob/main/CaliforniaHousingHypertuning.ipynb\" target=\"_parent\"><img src=\"https://colab.research.google.com/assets/colab-badge.svg\" alt=\"Open In Colab\"/></a>"
      ]
    },
    {
      "cell_type": "code",
      "execution_count": 129,
      "metadata": {
        "id": "R37FUVpE7p-q"
      },
      "outputs": [],
      "source": [
        "# import helpers\n",
        "import numpy as np\n",
        "import pandas as pd\n",
        "import matplotlib.pyplot as plt\n",
        "import seaborn as sns\n",
        "import os\n",
        "import tempfile\n",
        "from pathlib import Path\n",
        "import joblib"
      ]
    },
    {
      "cell_type": "code",
      "source": [
        "# import modules from sklearn\n",
        "from sklearn.datasets import fetch_california_housing\n",
        "from sklearn.preprocessing import MinMaxScaler"
      ],
      "metadata": {
        "id": "3Axs5XD478vD"
      },
      "execution_count": 130,
      "outputs": []
    },
    {
      "cell_type": "code",
      "source": [
        "# import libraries and modules from torch\n",
        "import torch\n",
        "import torch.nn as nn\n",
        "import torchvision.transforms as transforms\n",
        "import torch.nn.functional as F\n",
        "from torch.utils.data import TensorDataset, random_split, DataLoader\n",
        "import torch.optim as optim"
      ],
      "metadata": {
        "id": "JWlrWDVY-3uD"
      },
      "execution_count": 131,
      "outputs": []
    },
    {
      "cell_type": "code",
      "source": [
        "# install and import ray for hyperparameter tuning\n",
        "try:\n",
        "    import ray\n",
        "except ImportError:\n",
        "    !pip install ray\n",
        "    import ray\n",
        "\n",
        "from ray import tune\n",
        "from ray import train\n",
        "from ray.train import Checkpoint, get_checkpoint\n",
        "from ray.tune.schedulers import ASHAScheduler"
      ],
      "metadata": {
        "id": "RfpBLfijRLKf"
      },
      "execution_count": 132,
      "outputs": []
    },
    {
      "cell_type": "markdown",
      "source": [
        "# Data Preparation and Loading"
      ],
      "metadata": {
        "id": "HRTtUXxU8PfE"
      }
    },
    {
      "cell_type": "markdown",
      "source": [
        "Load data from fetch_california_housing function"
      ],
      "metadata": {
        "id": "JSCDRsqwdf4c"
      }
    },
    {
      "cell_type": "code",
      "source": [
        "features,target = fetch_california_housing(data_home='/california_housing', as_frame=True, return_X_y=True)"
      ],
      "metadata": {
        "id": "88wqoDaE8SCj"
      },
      "execution_count": 133,
      "outputs": []
    },
    {
      "cell_type": "code",
      "source": [
        "features.head()"
      ],
      "metadata": {
        "colab": {
          "base_uri": "https://localhost:8080/",
          "height": 206
        },
        "id": "WSQuTJ3V8m8P",
        "outputId": "7e486a6e-768b-44b7-df1b-910219ad3c9c"
      },
      "execution_count": 134,
      "outputs": [
        {
          "output_type": "execute_result",
          "data": {
            "text/plain": [
              "   MedInc  HouseAge  AveRooms  AveBedrms  Population  AveOccup  Latitude  \\\n",
              "0  8.3252      41.0  6.984127   1.023810       322.0  2.555556     37.88   \n",
              "1  8.3014      21.0  6.238137   0.971880      2401.0  2.109842     37.86   \n",
              "2  7.2574      52.0  8.288136   1.073446       496.0  2.802260     37.85   \n",
              "3  5.6431      52.0  5.817352   1.073059       558.0  2.547945     37.85   \n",
              "4  3.8462      52.0  6.281853   1.081081       565.0  2.181467     37.85   \n",
              "\n",
              "   Longitude  \n",
              "0    -122.23  \n",
              "1    -122.22  \n",
              "2    -122.24  \n",
              "3    -122.25  \n",
              "4    -122.25  "
            ],
            "text/html": [
              "\n",
              "  <div id=\"df-711d5744-8083-4f81-85ee-cfa9998a916f\" class=\"colab-df-container\">\n",
              "    <div>\n",
              "<style scoped>\n",
              "    .dataframe tbody tr th:only-of-type {\n",
              "        vertical-align: middle;\n",
              "    }\n",
              "\n",
              "    .dataframe tbody tr th {\n",
              "        vertical-align: top;\n",
              "    }\n",
              "\n",
              "    .dataframe thead th {\n",
              "        text-align: right;\n",
              "    }\n",
              "</style>\n",
              "<table border=\"1\" class=\"dataframe\">\n",
              "  <thead>\n",
              "    <tr style=\"text-align: right;\">\n",
              "      <th></th>\n",
              "      <th>MedInc</th>\n",
              "      <th>HouseAge</th>\n",
              "      <th>AveRooms</th>\n",
              "      <th>AveBedrms</th>\n",
              "      <th>Population</th>\n",
              "      <th>AveOccup</th>\n",
              "      <th>Latitude</th>\n",
              "      <th>Longitude</th>\n",
              "    </tr>\n",
              "  </thead>\n",
              "  <tbody>\n",
              "    <tr>\n",
              "      <th>0</th>\n",
              "      <td>8.3252</td>\n",
              "      <td>41.0</td>\n",
              "      <td>6.984127</td>\n",
              "      <td>1.023810</td>\n",
              "      <td>322.0</td>\n",
              "      <td>2.555556</td>\n",
              "      <td>37.88</td>\n",
              "      <td>-122.23</td>\n",
              "    </tr>\n",
              "    <tr>\n",
              "      <th>1</th>\n",
              "      <td>8.3014</td>\n",
              "      <td>21.0</td>\n",
              "      <td>6.238137</td>\n",
              "      <td>0.971880</td>\n",
              "      <td>2401.0</td>\n",
              "      <td>2.109842</td>\n",
              "      <td>37.86</td>\n",
              "      <td>-122.22</td>\n",
              "    </tr>\n",
              "    <tr>\n",
              "      <th>2</th>\n",
              "      <td>7.2574</td>\n",
              "      <td>52.0</td>\n",
              "      <td>8.288136</td>\n",
              "      <td>1.073446</td>\n",
              "      <td>496.0</td>\n",
              "      <td>2.802260</td>\n",
              "      <td>37.85</td>\n",
              "      <td>-122.24</td>\n",
              "    </tr>\n",
              "    <tr>\n",
              "      <th>3</th>\n",
              "      <td>5.6431</td>\n",
              "      <td>52.0</td>\n",
              "      <td>5.817352</td>\n",
              "      <td>1.073059</td>\n",
              "      <td>558.0</td>\n",
              "      <td>2.547945</td>\n",
              "      <td>37.85</td>\n",
              "      <td>-122.25</td>\n",
              "    </tr>\n",
              "    <tr>\n",
              "      <th>4</th>\n",
              "      <td>3.8462</td>\n",
              "      <td>52.0</td>\n",
              "      <td>6.281853</td>\n",
              "      <td>1.081081</td>\n",
              "      <td>565.0</td>\n",
              "      <td>2.181467</td>\n",
              "      <td>37.85</td>\n",
              "      <td>-122.25</td>\n",
              "    </tr>\n",
              "  </tbody>\n",
              "</table>\n",
              "</div>\n",
              "    <div class=\"colab-df-buttons\">\n",
              "\n",
              "  <div class=\"colab-df-container\">\n",
              "    <button class=\"colab-df-convert\" onclick=\"convertToInteractive('df-711d5744-8083-4f81-85ee-cfa9998a916f')\"\n",
              "            title=\"Convert this dataframe to an interactive table.\"\n",
              "            style=\"display:none;\">\n",
              "\n",
              "  <svg xmlns=\"http://www.w3.org/2000/svg\" height=\"24px\" viewBox=\"0 -960 960 960\">\n",
              "    <path d=\"M120-120v-720h720v720H120Zm60-500h600v-160H180v160Zm220 220h160v-160H400v160Zm0 220h160v-160H400v160ZM180-400h160v-160H180v160Zm440 0h160v-160H620v160ZM180-180h160v-160H180v160Zm440 0h160v-160H620v160Z\"/>\n",
              "  </svg>\n",
              "    </button>\n",
              "\n",
              "  <style>\n",
              "    .colab-df-container {\n",
              "      display:flex;\n",
              "      gap: 12px;\n",
              "    }\n",
              "\n",
              "    .colab-df-convert {\n",
              "      background-color: #E8F0FE;\n",
              "      border: none;\n",
              "      border-radius: 50%;\n",
              "      cursor: pointer;\n",
              "      display: none;\n",
              "      fill: #1967D2;\n",
              "      height: 32px;\n",
              "      padding: 0 0 0 0;\n",
              "      width: 32px;\n",
              "    }\n",
              "\n",
              "    .colab-df-convert:hover {\n",
              "      background-color: #E2EBFA;\n",
              "      box-shadow: 0px 1px 2px rgba(60, 64, 67, 0.3), 0px 1px 3px 1px rgba(60, 64, 67, 0.15);\n",
              "      fill: #174EA6;\n",
              "    }\n",
              "\n",
              "    .colab-df-buttons div {\n",
              "      margin-bottom: 4px;\n",
              "    }\n",
              "\n",
              "    [theme=dark] .colab-df-convert {\n",
              "      background-color: #3B4455;\n",
              "      fill: #D2E3FC;\n",
              "    }\n",
              "\n",
              "    [theme=dark] .colab-df-convert:hover {\n",
              "      background-color: #434B5C;\n",
              "      box-shadow: 0px 1px 3px 1px rgba(0, 0, 0, 0.15);\n",
              "      filter: drop-shadow(0px 1px 2px rgba(0, 0, 0, 0.3));\n",
              "      fill: #FFFFFF;\n",
              "    }\n",
              "  </style>\n",
              "\n",
              "    <script>\n",
              "      const buttonEl =\n",
              "        document.querySelector('#df-711d5744-8083-4f81-85ee-cfa9998a916f button.colab-df-convert');\n",
              "      buttonEl.style.display =\n",
              "        google.colab.kernel.accessAllowed ? 'block' : 'none';\n",
              "\n",
              "      async function convertToInteractive(key) {\n",
              "        const element = document.querySelector('#df-711d5744-8083-4f81-85ee-cfa9998a916f');\n",
              "        const dataTable =\n",
              "          await google.colab.kernel.invokeFunction('convertToInteractive',\n",
              "                                                    [key], {});\n",
              "        if (!dataTable) return;\n",
              "\n",
              "        const docLinkHtml = 'Like what you see? Visit the ' +\n",
              "          '<a target=\"_blank\" href=https://colab.research.google.com/notebooks/data_table.ipynb>data table notebook</a>'\n",
              "          + ' to learn more about interactive tables.';\n",
              "        element.innerHTML = '';\n",
              "        dataTable['output_type'] = 'display_data';\n",
              "        await google.colab.output.renderOutput(dataTable, element);\n",
              "        const docLink = document.createElement('div');\n",
              "        docLink.innerHTML = docLinkHtml;\n",
              "        element.appendChild(docLink);\n",
              "      }\n",
              "    </script>\n",
              "  </div>\n",
              "\n",
              "\n",
              "<div id=\"df-79de9900-9e9f-40a2-8b84-daa10efbc22d\">\n",
              "  <button class=\"colab-df-quickchart\" onclick=\"quickchart('df-79de9900-9e9f-40a2-8b84-daa10efbc22d')\"\n",
              "            title=\"Suggest charts\"\n",
              "            style=\"display:none;\">\n",
              "\n",
              "<svg xmlns=\"http://www.w3.org/2000/svg\" height=\"24px\"viewBox=\"0 0 24 24\"\n",
              "     width=\"24px\">\n",
              "    <g>\n",
              "        <path d=\"M19 3H5c-1.1 0-2 .9-2 2v14c0 1.1.9 2 2 2h14c1.1 0 2-.9 2-2V5c0-1.1-.9-2-2-2zM9 17H7v-7h2v7zm4 0h-2V7h2v10zm4 0h-2v-4h2v4z\"/>\n",
              "    </g>\n",
              "</svg>\n",
              "  </button>\n",
              "\n",
              "<style>\n",
              "  .colab-df-quickchart {\n",
              "      --bg-color: #E8F0FE;\n",
              "      --fill-color: #1967D2;\n",
              "      --hover-bg-color: #E2EBFA;\n",
              "      --hover-fill-color: #174EA6;\n",
              "      --disabled-fill-color: #AAA;\n",
              "      --disabled-bg-color: #DDD;\n",
              "  }\n",
              "\n",
              "  [theme=dark] .colab-df-quickchart {\n",
              "      --bg-color: #3B4455;\n",
              "      --fill-color: #D2E3FC;\n",
              "      --hover-bg-color: #434B5C;\n",
              "      --hover-fill-color: #FFFFFF;\n",
              "      --disabled-bg-color: #3B4455;\n",
              "      --disabled-fill-color: #666;\n",
              "  }\n",
              "\n",
              "  .colab-df-quickchart {\n",
              "    background-color: var(--bg-color);\n",
              "    border: none;\n",
              "    border-radius: 50%;\n",
              "    cursor: pointer;\n",
              "    display: none;\n",
              "    fill: var(--fill-color);\n",
              "    height: 32px;\n",
              "    padding: 0;\n",
              "    width: 32px;\n",
              "  }\n",
              "\n",
              "  .colab-df-quickchart:hover {\n",
              "    background-color: var(--hover-bg-color);\n",
              "    box-shadow: 0 1px 2px rgba(60, 64, 67, 0.3), 0 1px 3px 1px rgba(60, 64, 67, 0.15);\n",
              "    fill: var(--button-hover-fill-color);\n",
              "  }\n",
              "\n",
              "  .colab-df-quickchart-complete:disabled,\n",
              "  .colab-df-quickchart-complete:disabled:hover {\n",
              "    background-color: var(--disabled-bg-color);\n",
              "    fill: var(--disabled-fill-color);\n",
              "    box-shadow: none;\n",
              "  }\n",
              "\n",
              "  .colab-df-spinner {\n",
              "    border: 2px solid var(--fill-color);\n",
              "    border-color: transparent;\n",
              "    border-bottom-color: var(--fill-color);\n",
              "    animation:\n",
              "      spin 1s steps(1) infinite;\n",
              "  }\n",
              "\n",
              "  @keyframes spin {\n",
              "    0% {\n",
              "      border-color: transparent;\n",
              "      border-bottom-color: var(--fill-color);\n",
              "      border-left-color: var(--fill-color);\n",
              "    }\n",
              "    20% {\n",
              "      border-color: transparent;\n",
              "      border-left-color: var(--fill-color);\n",
              "      border-top-color: var(--fill-color);\n",
              "    }\n",
              "    30% {\n",
              "      border-color: transparent;\n",
              "      border-left-color: var(--fill-color);\n",
              "      border-top-color: var(--fill-color);\n",
              "      border-right-color: var(--fill-color);\n",
              "    }\n",
              "    40% {\n",
              "      border-color: transparent;\n",
              "      border-right-color: var(--fill-color);\n",
              "      border-top-color: var(--fill-color);\n",
              "    }\n",
              "    60% {\n",
              "      border-color: transparent;\n",
              "      border-right-color: var(--fill-color);\n",
              "    }\n",
              "    80% {\n",
              "      border-color: transparent;\n",
              "      border-right-color: var(--fill-color);\n",
              "      border-bottom-color: var(--fill-color);\n",
              "    }\n",
              "    90% {\n",
              "      border-color: transparent;\n",
              "      border-bottom-color: var(--fill-color);\n",
              "    }\n",
              "  }\n",
              "</style>\n",
              "\n",
              "  <script>\n",
              "    async function quickchart(key) {\n",
              "      const quickchartButtonEl =\n",
              "        document.querySelector('#' + key + ' button');\n",
              "      quickchartButtonEl.disabled = true;  // To prevent multiple clicks.\n",
              "      quickchartButtonEl.classList.add('colab-df-spinner');\n",
              "      try {\n",
              "        const charts = await google.colab.kernel.invokeFunction(\n",
              "            'suggestCharts', [key], {});\n",
              "      } catch (error) {\n",
              "        console.error('Error during call to suggestCharts:', error);\n",
              "      }\n",
              "      quickchartButtonEl.classList.remove('colab-df-spinner');\n",
              "      quickchartButtonEl.classList.add('colab-df-quickchart-complete');\n",
              "    }\n",
              "    (() => {\n",
              "      let quickchartButtonEl =\n",
              "        document.querySelector('#df-79de9900-9e9f-40a2-8b84-daa10efbc22d button');\n",
              "      quickchartButtonEl.style.display =\n",
              "        google.colab.kernel.accessAllowed ? 'block' : 'none';\n",
              "    })();\n",
              "  </script>\n",
              "</div>\n",
              "\n",
              "    </div>\n",
              "  </div>\n"
            ],
            "application/vnd.google.colaboratory.intrinsic+json": {
              "type": "dataframe",
              "variable_name": "features",
              "summary": "{\n  \"name\": \"features\",\n  \"rows\": 20640,\n  \"fields\": [\n    {\n      \"column\": \"MedInc\",\n      \"properties\": {\n        \"dtype\": \"number\",\n        \"std\": 1.8998217179452732,\n        \"min\": 0.4999,\n        \"max\": 15.0001,\n        \"num_unique_values\": 12928,\n        \"samples\": [\n          5.0286,\n          2.0433,\n          6.1228\n        ],\n        \"semantic_type\": \"\",\n        \"description\": \"\"\n      }\n    },\n    {\n      \"column\": \"HouseAge\",\n      \"properties\": {\n        \"dtype\": \"number\",\n        \"std\": 12.585557612111637,\n        \"min\": 1.0,\n        \"max\": 52.0,\n        \"num_unique_values\": 52,\n        \"samples\": [\n          35.0,\n          25.0,\n          7.0\n        ],\n        \"semantic_type\": \"\",\n        \"description\": \"\"\n      }\n    },\n    {\n      \"column\": \"AveRooms\",\n      \"properties\": {\n        \"dtype\": \"number\",\n        \"std\": 2.4741731394243205,\n        \"min\": 0.8461538461538461,\n        \"max\": 141.9090909090909,\n        \"num_unique_values\": 19392,\n        \"samples\": [\n          6.111269614835948,\n          5.912820512820513,\n          5.7924528301886795\n        ],\n        \"semantic_type\": \"\",\n        \"description\": \"\"\n      }\n    },\n    {\n      \"column\": \"AveBedrms\",\n      \"properties\": {\n        \"dtype\": \"number\",\n        \"std\": 0.47391085679546435,\n        \"min\": 0.3333333333333333,\n        \"max\": 34.06666666666667,\n        \"num_unique_values\": 14233,\n        \"samples\": [\n          0.9906542056074766,\n          1.112099644128114,\n          1.0398230088495575\n        ],\n        \"semantic_type\": \"\",\n        \"description\": \"\"\n      }\n    },\n    {\n      \"column\": \"Population\",\n      \"properties\": {\n        \"dtype\": \"number\",\n        \"std\": 1132.4621217653375,\n        \"min\": 3.0,\n        \"max\": 35682.0,\n        \"num_unique_values\": 3888,\n        \"samples\": [\n          4169.0,\n          636.0,\n          3367.0\n        ],\n        \"semantic_type\": \"\",\n        \"description\": \"\"\n      }\n    },\n    {\n      \"column\": \"AveOccup\",\n      \"properties\": {\n        \"dtype\": \"number\",\n        \"std\": 10.386049562213591,\n        \"min\": 0.6923076923076923,\n        \"max\": 1243.3333333333333,\n        \"num_unique_values\": 18841,\n        \"samples\": [\n          2.6939799331103678,\n          3.559375,\n          3.297082228116711\n        ],\n        \"semantic_type\": \"\",\n        \"description\": \"\"\n      }\n    },\n    {\n      \"column\": \"Latitude\",\n      \"properties\": {\n        \"dtype\": \"number\",\n        \"std\": 2.1359523974571117,\n        \"min\": 32.54,\n        \"max\": 41.95,\n        \"num_unique_values\": 862,\n        \"samples\": [\n          33.7,\n          34.41,\n          38.24\n        ],\n        \"semantic_type\": \"\",\n        \"description\": \"\"\n      }\n    },\n    {\n      \"column\": \"Longitude\",\n      \"properties\": {\n        \"dtype\": \"number\",\n        \"std\": 2.003531723502581,\n        \"min\": -124.35,\n        \"max\": -114.31,\n        \"num_unique_values\": 844,\n        \"samples\": [\n          -118.63,\n          -119.86,\n          -121.26\n        ],\n        \"semantic_type\": \"\",\n        \"description\": \"\"\n      }\n    }\n  ]\n}"
            }
          },
          "metadata": {},
          "execution_count": 134
        }
      ]
    },
    {
      "cell_type": "code",
      "source": [
        "features.shape"
      ],
      "metadata": {
        "colab": {
          "base_uri": "https://localhost:8080/"
        },
        "id": "vd6IG7RE94z0",
        "outputId": "7a260edd-5c87-4c1d-ecc1-6d0bd9660521"
      },
      "execution_count": 135,
      "outputs": [
        {
          "output_type": "execute_result",
          "data": {
            "text/plain": [
              "(20640, 8)"
            ]
          },
          "metadata": {},
          "execution_count": 135
        }
      ]
    },
    {
      "cell_type": "markdown",
      "source": [
        "## Data Information"
      ],
      "metadata": {
        "id": "Z7oRATx2-gFa"
      }
    },
    {
      "cell_type": "code",
      "source": [
        "pd.concat([features,target], axis=1).info()"
      ],
      "metadata": {
        "colab": {
          "base_uri": "https://localhost:8080/"
        },
        "id": "d9SwQr4f-l52",
        "outputId": "0d8a0e65-2219-4816-827c-b26d28b81614"
      },
      "execution_count": 136,
      "outputs": [
        {
          "output_type": "stream",
          "name": "stdout",
          "text": [
            "<class 'pandas.core.frame.DataFrame'>\n",
            "RangeIndex: 20640 entries, 0 to 20639\n",
            "Data columns (total 9 columns):\n",
            " #   Column       Non-Null Count  Dtype  \n",
            "---  ------       --------------  -----  \n",
            " 0   MedInc       20640 non-null  float64\n",
            " 1   HouseAge     20640 non-null  float64\n",
            " 2   AveRooms     20640 non-null  float64\n",
            " 3   AveBedrms    20640 non-null  float64\n",
            " 4   Population   20640 non-null  float64\n",
            " 5   AveOccup     20640 non-null  float64\n",
            " 6   Latitude     20640 non-null  float64\n",
            " 7   Longitude    20640 non-null  float64\n",
            " 8   MedHouseVal  20640 non-null  float64\n",
            "dtypes: float64(9)\n",
            "memory usage: 1.4 MB\n"
          ]
        }
      ]
    },
    {
      "cell_type": "markdown",
      "source": [
        "## Data Description"
      ],
      "metadata": {
        "id": "b-uAwFxp8ztt"
      }
    },
    {
      "cell_type": "code",
      "source": [
        "pd.concat([features,target], axis=1).describe().transpose()"
      ],
      "metadata": {
        "colab": {
          "base_uri": "https://localhost:8080/",
          "height": 332
        },
        "id": "s_auECI49-Ra",
        "outputId": "93f1253f-a0b4-486a-d437-26adbbc8bc64"
      },
      "execution_count": 137,
      "outputs": [
        {
          "output_type": "execute_result",
          "data": {
            "text/plain": [
              "               count         mean          std         min         25%  \\\n",
              "MedInc       20640.0     3.870671     1.899822    0.499900    2.563400   \n",
              "HouseAge     20640.0    28.639486    12.585558    1.000000   18.000000   \n",
              "AveRooms     20640.0     5.429000     2.474173    0.846154    4.440716   \n",
              "AveBedrms    20640.0     1.096675     0.473911    0.333333    1.006079   \n",
              "Population   20640.0  1425.476744  1132.462122    3.000000  787.000000   \n",
              "AveOccup     20640.0     3.070655    10.386050    0.692308    2.429741   \n",
              "Latitude     20640.0    35.631861     2.135952   32.540000   33.930000   \n",
              "Longitude    20640.0  -119.569704     2.003532 -124.350000 -121.800000   \n",
              "MedHouseVal  20640.0     2.068558     1.153956    0.149990    1.196000   \n",
              "\n",
              "                     50%          75%           max  \n",
              "MedInc          3.534800     4.743250     15.000100  \n",
              "HouseAge       29.000000    37.000000     52.000000  \n",
              "AveRooms        5.229129     6.052381    141.909091  \n",
              "AveBedrms       1.048780     1.099526     34.066667  \n",
              "Population   1166.000000  1725.000000  35682.000000  \n",
              "AveOccup        2.818116     3.282261   1243.333333  \n",
              "Latitude       34.260000    37.710000     41.950000  \n",
              "Longitude    -118.490000  -118.010000   -114.310000  \n",
              "MedHouseVal     1.797000     2.647250      5.000010  "
            ],
            "text/html": [
              "\n",
              "  <div id=\"df-328b8cae-3bc1-475c-bd94-2af8cb2128b2\" class=\"colab-df-container\">\n",
              "    <div>\n",
              "<style scoped>\n",
              "    .dataframe tbody tr th:only-of-type {\n",
              "        vertical-align: middle;\n",
              "    }\n",
              "\n",
              "    .dataframe tbody tr th {\n",
              "        vertical-align: top;\n",
              "    }\n",
              "\n",
              "    .dataframe thead th {\n",
              "        text-align: right;\n",
              "    }\n",
              "</style>\n",
              "<table border=\"1\" class=\"dataframe\">\n",
              "  <thead>\n",
              "    <tr style=\"text-align: right;\">\n",
              "      <th></th>\n",
              "      <th>count</th>\n",
              "      <th>mean</th>\n",
              "      <th>std</th>\n",
              "      <th>min</th>\n",
              "      <th>25%</th>\n",
              "      <th>50%</th>\n",
              "      <th>75%</th>\n",
              "      <th>max</th>\n",
              "    </tr>\n",
              "  </thead>\n",
              "  <tbody>\n",
              "    <tr>\n",
              "      <th>MedInc</th>\n",
              "      <td>20640.0</td>\n",
              "      <td>3.870671</td>\n",
              "      <td>1.899822</td>\n",
              "      <td>0.499900</td>\n",
              "      <td>2.563400</td>\n",
              "      <td>3.534800</td>\n",
              "      <td>4.743250</td>\n",
              "      <td>15.000100</td>\n",
              "    </tr>\n",
              "    <tr>\n",
              "      <th>HouseAge</th>\n",
              "      <td>20640.0</td>\n",
              "      <td>28.639486</td>\n",
              "      <td>12.585558</td>\n",
              "      <td>1.000000</td>\n",
              "      <td>18.000000</td>\n",
              "      <td>29.000000</td>\n",
              "      <td>37.000000</td>\n",
              "      <td>52.000000</td>\n",
              "    </tr>\n",
              "    <tr>\n",
              "      <th>AveRooms</th>\n",
              "      <td>20640.0</td>\n",
              "      <td>5.429000</td>\n",
              "      <td>2.474173</td>\n",
              "      <td>0.846154</td>\n",
              "      <td>4.440716</td>\n",
              "      <td>5.229129</td>\n",
              "      <td>6.052381</td>\n",
              "      <td>141.909091</td>\n",
              "    </tr>\n",
              "    <tr>\n",
              "      <th>AveBedrms</th>\n",
              "      <td>20640.0</td>\n",
              "      <td>1.096675</td>\n",
              "      <td>0.473911</td>\n",
              "      <td>0.333333</td>\n",
              "      <td>1.006079</td>\n",
              "      <td>1.048780</td>\n",
              "      <td>1.099526</td>\n",
              "      <td>34.066667</td>\n",
              "    </tr>\n",
              "    <tr>\n",
              "      <th>Population</th>\n",
              "      <td>20640.0</td>\n",
              "      <td>1425.476744</td>\n",
              "      <td>1132.462122</td>\n",
              "      <td>3.000000</td>\n",
              "      <td>787.000000</td>\n",
              "      <td>1166.000000</td>\n",
              "      <td>1725.000000</td>\n",
              "      <td>35682.000000</td>\n",
              "    </tr>\n",
              "    <tr>\n",
              "      <th>AveOccup</th>\n",
              "      <td>20640.0</td>\n",
              "      <td>3.070655</td>\n",
              "      <td>10.386050</td>\n",
              "      <td>0.692308</td>\n",
              "      <td>2.429741</td>\n",
              "      <td>2.818116</td>\n",
              "      <td>3.282261</td>\n",
              "      <td>1243.333333</td>\n",
              "    </tr>\n",
              "    <tr>\n",
              "      <th>Latitude</th>\n",
              "      <td>20640.0</td>\n",
              "      <td>35.631861</td>\n",
              "      <td>2.135952</td>\n",
              "      <td>32.540000</td>\n",
              "      <td>33.930000</td>\n",
              "      <td>34.260000</td>\n",
              "      <td>37.710000</td>\n",
              "      <td>41.950000</td>\n",
              "    </tr>\n",
              "    <tr>\n",
              "      <th>Longitude</th>\n",
              "      <td>20640.0</td>\n",
              "      <td>-119.569704</td>\n",
              "      <td>2.003532</td>\n",
              "      <td>-124.350000</td>\n",
              "      <td>-121.800000</td>\n",
              "      <td>-118.490000</td>\n",
              "      <td>-118.010000</td>\n",
              "      <td>-114.310000</td>\n",
              "    </tr>\n",
              "    <tr>\n",
              "      <th>MedHouseVal</th>\n",
              "      <td>20640.0</td>\n",
              "      <td>2.068558</td>\n",
              "      <td>1.153956</td>\n",
              "      <td>0.149990</td>\n",
              "      <td>1.196000</td>\n",
              "      <td>1.797000</td>\n",
              "      <td>2.647250</td>\n",
              "      <td>5.000010</td>\n",
              "    </tr>\n",
              "  </tbody>\n",
              "</table>\n",
              "</div>\n",
              "    <div class=\"colab-df-buttons\">\n",
              "\n",
              "  <div class=\"colab-df-container\">\n",
              "    <button class=\"colab-df-convert\" onclick=\"convertToInteractive('df-328b8cae-3bc1-475c-bd94-2af8cb2128b2')\"\n",
              "            title=\"Convert this dataframe to an interactive table.\"\n",
              "            style=\"display:none;\">\n",
              "\n",
              "  <svg xmlns=\"http://www.w3.org/2000/svg\" height=\"24px\" viewBox=\"0 -960 960 960\">\n",
              "    <path d=\"M120-120v-720h720v720H120Zm60-500h600v-160H180v160Zm220 220h160v-160H400v160Zm0 220h160v-160H400v160ZM180-400h160v-160H180v160Zm440 0h160v-160H620v160ZM180-180h160v-160H180v160Zm440 0h160v-160H620v160Z\"/>\n",
              "  </svg>\n",
              "    </button>\n",
              "\n",
              "  <style>\n",
              "    .colab-df-container {\n",
              "      display:flex;\n",
              "      gap: 12px;\n",
              "    }\n",
              "\n",
              "    .colab-df-convert {\n",
              "      background-color: #E8F0FE;\n",
              "      border: none;\n",
              "      border-radius: 50%;\n",
              "      cursor: pointer;\n",
              "      display: none;\n",
              "      fill: #1967D2;\n",
              "      height: 32px;\n",
              "      padding: 0 0 0 0;\n",
              "      width: 32px;\n",
              "    }\n",
              "\n",
              "    .colab-df-convert:hover {\n",
              "      background-color: #E2EBFA;\n",
              "      box-shadow: 0px 1px 2px rgba(60, 64, 67, 0.3), 0px 1px 3px 1px rgba(60, 64, 67, 0.15);\n",
              "      fill: #174EA6;\n",
              "    }\n",
              "\n",
              "    .colab-df-buttons div {\n",
              "      margin-bottom: 4px;\n",
              "    }\n",
              "\n",
              "    [theme=dark] .colab-df-convert {\n",
              "      background-color: #3B4455;\n",
              "      fill: #D2E3FC;\n",
              "    }\n",
              "\n",
              "    [theme=dark] .colab-df-convert:hover {\n",
              "      background-color: #434B5C;\n",
              "      box-shadow: 0px 1px 3px 1px rgba(0, 0, 0, 0.15);\n",
              "      filter: drop-shadow(0px 1px 2px rgba(0, 0, 0, 0.3));\n",
              "      fill: #FFFFFF;\n",
              "    }\n",
              "  </style>\n",
              "\n",
              "    <script>\n",
              "      const buttonEl =\n",
              "        document.querySelector('#df-328b8cae-3bc1-475c-bd94-2af8cb2128b2 button.colab-df-convert');\n",
              "      buttonEl.style.display =\n",
              "        google.colab.kernel.accessAllowed ? 'block' : 'none';\n",
              "\n",
              "      async function convertToInteractive(key) {\n",
              "        const element = document.querySelector('#df-328b8cae-3bc1-475c-bd94-2af8cb2128b2');\n",
              "        const dataTable =\n",
              "          await google.colab.kernel.invokeFunction('convertToInteractive',\n",
              "                                                    [key], {});\n",
              "        if (!dataTable) return;\n",
              "\n",
              "        const docLinkHtml = 'Like what you see? Visit the ' +\n",
              "          '<a target=\"_blank\" href=https://colab.research.google.com/notebooks/data_table.ipynb>data table notebook</a>'\n",
              "          + ' to learn more about interactive tables.';\n",
              "        element.innerHTML = '';\n",
              "        dataTable['output_type'] = 'display_data';\n",
              "        await google.colab.output.renderOutput(dataTable, element);\n",
              "        const docLink = document.createElement('div');\n",
              "        docLink.innerHTML = docLinkHtml;\n",
              "        element.appendChild(docLink);\n",
              "      }\n",
              "    </script>\n",
              "  </div>\n",
              "\n",
              "\n",
              "<div id=\"df-c5364d78-b07b-4ca2-9681-f2b5d91ba4f3\">\n",
              "  <button class=\"colab-df-quickchart\" onclick=\"quickchart('df-c5364d78-b07b-4ca2-9681-f2b5d91ba4f3')\"\n",
              "            title=\"Suggest charts\"\n",
              "            style=\"display:none;\">\n",
              "\n",
              "<svg xmlns=\"http://www.w3.org/2000/svg\" height=\"24px\"viewBox=\"0 0 24 24\"\n",
              "     width=\"24px\">\n",
              "    <g>\n",
              "        <path d=\"M19 3H5c-1.1 0-2 .9-2 2v14c0 1.1.9 2 2 2h14c1.1 0 2-.9 2-2V5c0-1.1-.9-2-2-2zM9 17H7v-7h2v7zm4 0h-2V7h2v10zm4 0h-2v-4h2v4z\"/>\n",
              "    </g>\n",
              "</svg>\n",
              "  </button>\n",
              "\n",
              "<style>\n",
              "  .colab-df-quickchart {\n",
              "      --bg-color: #E8F0FE;\n",
              "      --fill-color: #1967D2;\n",
              "      --hover-bg-color: #E2EBFA;\n",
              "      --hover-fill-color: #174EA6;\n",
              "      --disabled-fill-color: #AAA;\n",
              "      --disabled-bg-color: #DDD;\n",
              "  }\n",
              "\n",
              "  [theme=dark] .colab-df-quickchart {\n",
              "      --bg-color: #3B4455;\n",
              "      --fill-color: #D2E3FC;\n",
              "      --hover-bg-color: #434B5C;\n",
              "      --hover-fill-color: #FFFFFF;\n",
              "      --disabled-bg-color: #3B4455;\n",
              "      --disabled-fill-color: #666;\n",
              "  }\n",
              "\n",
              "  .colab-df-quickchart {\n",
              "    background-color: var(--bg-color);\n",
              "    border: none;\n",
              "    border-radius: 50%;\n",
              "    cursor: pointer;\n",
              "    display: none;\n",
              "    fill: var(--fill-color);\n",
              "    height: 32px;\n",
              "    padding: 0;\n",
              "    width: 32px;\n",
              "  }\n",
              "\n",
              "  .colab-df-quickchart:hover {\n",
              "    background-color: var(--hover-bg-color);\n",
              "    box-shadow: 0 1px 2px rgba(60, 64, 67, 0.3), 0 1px 3px 1px rgba(60, 64, 67, 0.15);\n",
              "    fill: var(--button-hover-fill-color);\n",
              "  }\n",
              "\n",
              "  .colab-df-quickchart-complete:disabled,\n",
              "  .colab-df-quickchart-complete:disabled:hover {\n",
              "    background-color: var(--disabled-bg-color);\n",
              "    fill: var(--disabled-fill-color);\n",
              "    box-shadow: none;\n",
              "  }\n",
              "\n",
              "  .colab-df-spinner {\n",
              "    border: 2px solid var(--fill-color);\n",
              "    border-color: transparent;\n",
              "    border-bottom-color: var(--fill-color);\n",
              "    animation:\n",
              "      spin 1s steps(1) infinite;\n",
              "  }\n",
              "\n",
              "  @keyframes spin {\n",
              "    0% {\n",
              "      border-color: transparent;\n",
              "      border-bottom-color: var(--fill-color);\n",
              "      border-left-color: var(--fill-color);\n",
              "    }\n",
              "    20% {\n",
              "      border-color: transparent;\n",
              "      border-left-color: var(--fill-color);\n",
              "      border-top-color: var(--fill-color);\n",
              "    }\n",
              "    30% {\n",
              "      border-color: transparent;\n",
              "      border-left-color: var(--fill-color);\n",
              "      border-top-color: var(--fill-color);\n",
              "      border-right-color: var(--fill-color);\n",
              "    }\n",
              "    40% {\n",
              "      border-color: transparent;\n",
              "      border-right-color: var(--fill-color);\n",
              "      border-top-color: var(--fill-color);\n",
              "    }\n",
              "    60% {\n",
              "      border-color: transparent;\n",
              "      border-right-color: var(--fill-color);\n",
              "    }\n",
              "    80% {\n",
              "      border-color: transparent;\n",
              "      border-right-color: var(--fill-color);\n",
              "      border-bottom-color: var(--fill-color);\n",
              "    }\n",
              "    90% {\n",
              "      border-color: transparent;\n",
              "      border-bottom-color: var(--fill-color);\n",
              "    }\n",
              "  }\n",
              "</style>\n",
              "\n",
              "  <script>\n",
              "    async function quickchart(key) {\n",
              "      const quickchartButtonEl =\n",
              "        document.querySelector('#' + key + ' button');\n",
              "      quickchartButtonEl.disabled = true;  // To prevent multiple clicks.\n",
              "      quickchartButtonEl.classList.add('colab-df-spinner');\n",
              "      try {\n",
              "        const charts = await google.colab.kernel.invokeFunction(\n",
              "            'suggestCharts', [key], {});\n",
              "      } catch (error) {\n",
              "        console.error('Error during call to suggestCharts:', error);\n",
              "      }\n",
              "      quickchartButtonEl.classList.remove('colab-df-spinner');\n",
              "      quickchartButtonEl.classList.add('colab-df-quickchart-complete');\n",
              "    }\n",
              "    (() => {\n",
              "      let quickchartButtonEl =\n",
              "        document.querySelector('#df-c5364d78-b07b-4ca2-9681-f2b5d91ba4f3 button');\n",
              "      quickchartButtonEl.style.display =\n",
              "        google.colab.kernel.accessAllowed ? 'block' : 'none';\n",
              "    })();\n",
              "  </script>\n",
              "</div>\n",
              "\n",
              "    </div>\n",
              "  </div>\n"
            ],
            "application/vnd.google.colaboratory.intrinsic+json": {
              "type": "dataframe",
              "summary": "{\n  \"name\": \"pd\",\n  \"rows\": 9,\n  \"fields\": [\n    {\n      \"column\": \"count\",\n      \"properties\": {\n        \"dtype\": \"number\",\n        \"std\": 0.0,\n        \"min\": 20640.0,\n        \"max\": 20640.0,\n        \"num_unique_values\": 1,\n        \"samples\": [\n          20640.0\n        ],\n        \"semantic_type\": \"\",\n        \"description\": \"\"\n      }\n    },\n    {\n      \"column\": \"mean\",\n      \"properties\": {\n        \"dtype\": \"number\",\n        \"std\": 478.9407810658749,\n        \"min\": -119.56970445736432,\n        \"max\": 1425.4767441860465,\n        \"num_unique_values\": 9,\n        \"samples\": [\n          -119.56970445736432\n        ],\n        \"semantic_type\": \"\",\n        \"description\": \"\"\n      }\n    },\n    {\n      \"column\": \"std\",\n      \"properties\": {\n        \"dtype\": \"number\",\n        \"std\": 376.1324387730245,\n        \"min\": 0.47391085679546435,\n        \"max\": 1132.4621217653375,\n        \"num_unique_values\": 9,\n        \"samples\": [\n          2.003531723502581\n        ],\n        \"semantic_type\": \"\",\n        \"description\": \"\"\n      }\n    },\n    {\n      \"column\": \"min\",\n      \"properties\": {\n        \"dtype\": \"number\",\n        \"std\": 44.33553866258807,\n        \"min\": -124.35,\n        \"max\": 32.54,\n        \"num_unique_values\": 9,\n        \"samples\": [\n          -124.35\n        ],\n        \"semantic_type\": \"\",\n        \"description\": \"\"\n      }\n    },\n    {\n      \"column\": \"25%\",\n      \"properties\": {\n        \"dtype\": \"number\",\n        \"std\": 268.4918607575599,\n        \"min\": -121.8,\n        \"max\": 787.0,\n        \"num_unique_values\": 9,\n        \"samples\": [\n          -121.8\n        ],\n        \"semantic_type\": \"\",\n        \"description\": \"\"\n      }\n    },\n    {\n      \"column\": \"50%\",\n      \"properties\": {\n        \"dtype\": \"number\",\n        \"std\": 392.9039762848331,\n        \"min\": -118.49,\n        \"max\": 1166.0,\n        \"num_unique_values\": 9,\n        \"samples\": [\n          -118.49\n        ],\n        \"semantic_type\": \"\",\n        \"description\": \"\"\n      }\n    },\n    {\n      \"column\": \"75%\",\n      \"properties\": {\n        \"dtype\": \"number\",\n        \"std\": 577.8720617203304,\n        \"min\": -118.01,\n        \"max\": 1725.0,\n        \"num_unique_values\": 9,\n        \"samples\": [\n          -118.01\n        ],\n        \"semantic_type\": \"\",\n        \"description\": \"\"\n      }\n    },\n    {\n      \"column\": \"max\",\n      \"properties\": {\n        \"dtype\": \"number\",\n        \"std\": 11841.916076529924,\n        \"min\": -114.31,\n        \"max\": 35682.0,\n        \"num_unique_values\": 9,\n        \"samples\": [\n          -114.31\n        ],\n        \"semantic_type\": \"\",\n        \"description\": \"\"\n      }\n    }\n  ]\n}"
            }
          },
          "metadata": {},
          "execution_count": 137
        }
      ]
    },
    {
      "cell_type": "markdown",
      "source": [
        "## Data Loading as Tensors"
      ],
      "metadata": {
        "id": "Kp9v3MV6DvZe"
      }
    },
    {
      "cell_type": "markdown",
      "source": [
        "Selecte device"
      ],
      "metadata": {
        "id": "eNZORMolDngb"
      }
    },
    {
      "cell_type": "code",
      "source": [
        "# check if cuda is available\n",
        "if torch.cuda.is_available():\n",
        "  device = torch.device('cuda') # use the GPU\n",
        "else:\n",
        "  device = torch.device('cpu') # use the CPU\n",
        "\n",
        "print(f'current device: {device}')"
      ],
      "metadata": {
        "colab": {
          "base_uri": "https://localhost:8080/"
        },
        "id": "RWpqddz6BllS",
        "outputId": "2916f4b2-30a4-4b63-d9a9-3dcd348c4d5e"
      },
      "execution_count": 138,
      "outputs": [
        {
          "output_type": "stream",
          "name": "stdout",
          "text": [
            "current device: cpu\n"
          ]
        }
      ]
    },
    {
      "cell_type": "code",
      "source": [
        "def load_data():\n",
        "  # fetch california housing dataset\n",
        "  features,targets = fetch_california_housing(data_home='/california_housing', as_frame=True, return_X_y=True)\n",
        "\n",
        "  # create feature and target tensor\n",
        "  feature_tensor = torch.tensor(features.values, dtype=torch.float32, device=device)\n",
        "  target_tensor = torch.tensor(targets.values, dtype=torch.float32, device=device)\n",
        "\n",
        "  # create dataset tensor\n",
        "  dataset = TensorDataset(feature_tensor, target_tensor)\n",
        "\n",
        "  # dataset size\n",
        "  dataset_size = len(dataset)\n",
        "\n",
        "  # splitter\n",
        "  train_dataset, validation_dataset, test_dataset = random_split(dataset, lengths=[int(dataset_size*0.7), int(dataset_size*.15),int(dataset_size)-int(dataset_size*0.7)-int(dataset_size*0.15)])\n",
        "\n",
        "  # create a MinMaxScaler instance\n",
        "  scaler = MinMaxScaler()\n",
        "\n",
        "  # fit scaler to training features\n",
        "  scaler.fit(\n",
        "      train_dataset.dataset.tensors[0].cpu().detach().numpy() # access the features dataset (indexed 0 from the tuple of tensors) and converts it to NumPy array\n",
        "      )\n",
        "\n",
        "  # save fitted scaler for further use\n",
        "  scaler_filename = './californiahousing_scaler.joblib'\n",
        "  joblib.dump(scaler, scaler_filename)\n",
        "\n",
        "  return train_dataset, validation_dataset, test_dataset"
      ],
      "metadata": {
        "id": "LPtzGuLX474H"
      },
      "execution_count": 139,
      "outputs": []
    },
    {
      "cell_type": "markdown",
      "source": [
        "Load the train, validation, and test datasets as tensors, and the scaler fitted on the train set"
      ],
      "metadata": {
        "id": "8Chgvl-wcDq3"
      }
    },
    {
      "cell_type": "code",
      "source": [
        "  # load data using load_data function\n",
        "  train_dataset, validation_dataset, test_dataset = load_data() # load data"
      ],
      "metadata": {
        "id": "bSCcl2KFoiXA"
      },
      "execution_count": 140,
      "outputs": []
    },
    {
      "cell_type": "markdown",
      "source": [
        "Create a function for loading the scaler"
      ],
      "metadata": {
        "id": "hQ4hmr0DgUjN"
      }
    },
    {
      "cell_type": "code",
      "source": [
        "# define scaler filename\n",
        "notebook_dir = os.path.abspath(os.path.dirname(\"__file__\"))\n",
        "scaler_filename = os.path.join(notebook_dir, './californiahousing_scaler.joblib')"
      ],
      "metadata": {
        "id": "A_vMVPZsg9TP"
      },
      "execution_count": 141,
      "outputs": []
    },
    {
      "cell_type": "code",
      "source": [
        "def scaler_func(scaler_filename=scaler_filename):\n",
        "  # loads a scaler object given a scaler_filename\n",
        "  scaler = joblib.load(scaler_filename)\n",
        "\n",
        "  return scaler"
      ],
      "metadata": {
        "id": "t8P5tgC8gTag"
      },
      "execution_count": 142,
      "outputs": []
    },
    {
      "cell_type": "markdown",
      "source": [
        "# Neural Network Configuration"
      ],
      "metadata": {
        "id": "6KOfl5Q67cr_"
      }
    },
    {
      "cell_type": "code",
      "source": [
        "class RegressionNet(nn.Module):\n",
        "  def __init__(self, input_size, scaler, l1=64, l2=128, l3=256):\n",
        "    super().__init__() # inherit from parent\n",
        "    self.scaler = scaler # MinMaxScaler\n",
        "    self.fc1 = nn.Linear(input_size,l1) # first fully connected layer with input size of input and output size of 64\n",
        "    self.fc2 = nn.Linear(l1,l2) # second fully connected layer with input size of 64 and output size of 128\n",
        "    self.fc3 = nn.Linear(l2,l3)\n",
        "    self.fc4 = nn.Linear(l3,1) # final fully connected layer with output size of 1 corresponding to the prediction\n",
        "\n",
        "  def forward(self, x): # forward propagation\n",
        "    x = torch.tensor(data=self.scaler.transform(x.cpu().detach().numpy()), dtype=torch.float32, device=device) # normalization step\n",
        "    x = F.relu(self.fc1(x))\n",
        "    x = F.relu(self.fc2(x))\n",
        "    x = F.relu(self.fc3(x))\n",
        "    x = self.fc4(x) # output layer\n",
        "    return x"
      ],
      "metadata": {
        "id": "J0NP9Hkt7aVW"
      },
      "execution_count": 143,
      "outputs": []
    },
    {
      "cell_type": "markdown",
      "source": [
        "# Train Function"
      ],
      "metadata": {
        "id": "yT9bqabO8tQs"
      }
    },
    {
      "cell_type": "code",
      "source": [
        "def train_func(model, optimizer, train_loader, epoch):\n",
        "  device = torch.device('cuda' if torch.cuda.is_available() else 'cpu')\n",
        "  model.train()\n",
        "\n",
        "  running_loss = 0 # reset running loss to 0 for each epoch\n",
        "  train_mse = 0 # reset train_mse to 0 for each epoch\n",
        "  data_points = 0 # reset data_points to 0 for each epoch\n",
        "  total_data_points = 0 # reset total_data_points to 0 for each epoch\n",
        "\n",
        "  # iterate over train batches\n",
        "  for batch_idx, data in enumerate(train_loader):\n",
        "    inputs, targets = data\n",
        "    inputs, targets = inputs.to(device), targets.to(device)\n",
        "\n",
        "    # set gradients to 0\n",
        "    optimizer.zero_grad()\n",
        "\n",
        "    # reshape targets\n",
        "    targets = targets.view(-1,1)\n",
        "\n",
        "    # forward\n",
        "    predictions = model(inputs)\n",
        "\n",
        "    # define loss function\n",
        "    criterion = nn.MSELoss()\n",
        "\n",
        "    # loss\n",
        "    loss = criterion(predictions, targets)\n",
        "\n",
        "    # backward\n",
        "    loss.backward()\n",
        "\n",
        "    # optimizer\n",
        "    optimizer.step()\n",
        "\n",
        "    # monitor number of data points processed\n",
        "    data_points += len(inputs)\n",
        "    total_data_points += len(inputs)\n",
        "\n",
        "    # monitor running_loss\n",
        "    running_loss += loss.item()*len(inputs) # running loss for all batch data points\n",
        "\n",
        "    # monitor_train_mse\n",
        "    train_mse += loss.item()*len(inputs)\n",
        "\n",
        "    # print statistics\n",
        "    if batch_idx % 100 == 99: # print every 100 mini-batches\n",
        "      print(f'[{epoch+1}, {batch_idx+1}] loss: {running_loss/data_points}')\n",
        "      running_loss = 0 # reset running_loss to 0\n",
        "      data_points = 0 # reset running_loss to 0\n",
        "  train_mse /= total_data_points\n",
        "\n",
        "  return train_mse\n"
      ],
      "metadata": {
        "id": "0zEvj5uYbZmI"
      },
      "execution_count": 144,
      "outputs": []
    },
    {
      "cell_type": "markdown",
      "source": [
        "# Test Function"
      ],
      "metadata": {
        "id": "mGQLrEtTcReO"
      }
    },
    {
      "cell_type": "code",
      "source": [
        "def test_func(model, optimizer, test_loader):\n",
        "  # validation loss\n",
        "  loss = 0\n",
        "  data_points = 0\n",
        "  mse = 0\n",
        "\n",
        "  model.eval()\n",
        "\n",
        "  for batch_idx, data in enumerate(test_loader):\n",
        "    with torch.no_grad():\n",
        "      # loading data\n",
        "      inputs, targets = data\n",
        "      inputs, targets = inputs.to(device), targets.to(device)\n",
        "\n",
        "      # reshape targets\n",
        "      targets = targets.view(-1,1)\n",
        "\n",
        "      # forward\n",
        "      predictions = model(inputs)\n",
        "\n",
        "      # define loss function\n",
        "      criterion = nn.MSELoss()\n",
        "\n",
        "      # loss\n",
        "      loss = criterion(predictions, targets)\n",
        "\n",
        "      # monitor loss\n",
        "      mse += loss.item() * len(inputs) # loss for all batch data points\n",
        "\n",
        "      # monitor data_points\n",
        "      data_points += len(inputs)\n",
        "\n",
        "  # average mse across all data points\n",
        "  mse /= data_points\n",
        "\n",
        "  return mse"
      ],
      "metadata": {
        "id": "2s021q_NcUlm"
      },
      "execution_count": 145,
      "outputs": []
    },
    {
      "cell_type": "markdown",
      "source": [
        "# Train Loop"
      ],
      "metadata": {
        "id": "Tzjz3gG_d0io"
      }
    },
    {
      "cell_type": "code",
      "source": [
        "def train_housing(config):\n",
        "\n",
        "  # dataloader\n",
        "  train_loader = DataLoader(train_dataset, batch_size = config['batch_size'], shuffle=True, num_workers=2)\n",
        "  validation_loader = DataLoader(validation_dataset, batch_size = config['batch_size'], shuffle=True, num_workers=2)\n",
        "  test_loader = DataLoader(test_dataset, batch_size = config['batch_size'], shuffle=True, num_workers=2)\n",
        "\n",
        "  # load the scaler using scaler_func\n",
        "  scaler = scaler_func(scaler_filename)\n",
        "\n",
        "  # create network instance with inputs from config\n",
        "  model = RegressionNet(input_size=8, scaler=scaler, l1=config['l1'], l2=config['l2'], l3=config['l3'])\n",
        "\n",
        "  device = torch.device('cuda' if torch.cuda.is_available() else 'cpu')\n",
        "  model.to(device)\n",
        "\n",
        "  # define optimizer\n",
        "  optimizer = optim.Adam(model.parameters(), lr=config[\"lr\"])\n",
        "\n",
        "  # training loop\n",
        "\n",
        "  for epoch in range(0,5):\n",
        "    train_func(model=model, optimizer=optimizer, train_loader=train_loader, epoch=epoch)\n",
        "    # use validation dataset for evaluation\n",
        "    mse = test_func(model=model, optimizer=optimizer, test_loader=validation_loader)\n",
        "\n",
        "    # train report for each epoch\n",
        "    train.report({'mse':mse})\n",
        "\n",
        "    # save checkpoint\n",
        "    with tempfile.TemporaryDirectory() as temp_checkpoint_dir:\n",
        "      checkpoint = None\n",
        "      # saves the model\n",
        "      torch.save(\n",
        "          model.state_dict(),\n",
        "          os.path.join(temp_checkpoint_dir, 'model.pth')\n",
        "      )\n",
        "      checkpoint = Checkpoint.from_directory(temp_checkpoint_dir)\n",
        "\n",
        "      # training report\n",
        "      train.report({'mse': mse}, checkpoint=checkpoint)\n",
        "\n",
        "  print(\"Finished Training\")"
      ],
      "metadata": {
        "id": "UTnsHF7W6yRt"
      },
      "execution_count": 146,
      "outputs": []
    },
    {
      "cell_type": "markdown",
      "source": [
        "# Hyperparamater Tuning"
      ],
      "metadata": {
        "id": "XDvzad9bhtm7"
      }
    },
    {
      "cell_type": "code",
      "source": [
        "# define the search_space\n",
        "search_space ={\n",
        "    'l1': tune.choice([2**i for i in range(3,9)]),\n",
        "    'l2': tune.choice([2**i for i in range(3,9)]),\n",
        "    'l3': tune.choice([2**i for i in range(3,9)]),\n",
        "    'lr': tune.loguniform(1e-4,1e-3),\n",
        "    'batch_size': tune.choice([2**i for i in range(4,7)])\n",
        "}\n",
        "\n",
        "# define tuner\n",
        "tuner = tune.Tuner(\n",
        "    trainable = train_housing,\n",
        "    param_space = search_space,\n",
        "    tune_config = tune.TuneConfig(num_samples=20,mode='min', metric='mse')\n",
        ")\n",
        "\n",
        "# fit tuner\n",
        "results = tuner.fit()\n"
      ],
      "metadata": {
        "colab": {
          "base_uri": "https://localhost:8080/"
        },
        "id": "CFMUDi8jhxXr",
        "outputId": "f76b188b-ea6a-4d01-ad18-4e3c2b513d3c"
      },
      "execution_count": 147,
      "outputs": [
        {
          "output_type": "stream",
          "name": "stderr",
          "text": [
            "2025-01-15 06:36:50,273\tWARNING callback.py:136 -- The TensorboardX logger cannot be instantiated because either TensorboardX or one of it's dependencies is not installed. Please make sure you have the latest version of TensorboardX installed: `pip install -U tensorboardx`\n"
          ]
        },
        {
          "output_type": "stream",
          "name": "stdout",
          "text": [
            "+----------------------------------------------------------------------+\n",
            "| Configuration for experiment     train_housing_2025-01-15_06-36-50   |\n",
            "+----------------------------------------------------------------------+\n",
            "| Search algorithm                 BasicVariantGenerator               |\n",
            "| Scheduler                        FIFOScheduler                       |\n",
            "| Number of trials                 20                                  |\n",
            "+----------------------------------------------------------------------+\n",
            "\n",
            "View detailed results here: /root/ray_results/train_housing_2025-01-15_06-36-50\n",
            "\n",
            "Trial status: 20 PENDING\n",
            "Current time: 2025-01-15 06:36:51. Total running time: 1s\n",
            "Logical resource usage: 0/2 CPUs, 0/0 GPUs\n",
            "+----------------------------------------------------------------------------------------+\n",
            "| Trial name                  status       l1     l2     l3            lr     batch_size |\n",
            "+----------------------------------------------------------------------------------------+\n",
            "| train_housing_19cca_00000   PENDING      32    256    256   0.000436174             16 |\n",
            "| train_housing_19cca_00001   PENDING      32     16     32   0.000174203             64 |\n",
            "| train_housing_19cca_00002   PENDING      32     16     16   0.000167417             32 |\n",
            "| train_housing_19cca_00003   PENDING     128     16    128   0.000106556             16 |\n",
            "| train_housing_19cca_00004   PENDING     128    256    128   0.000997973             32 |\n",
            "| train_housing_19cca_00005   PENDING      64      8    256   0.000153028             64 |\n",
            "| train_housing_19cca_00006   PENDING     256     64     64   0.000248831             16 |\n",
            "| train_housing_19cca_00007   PENDING      32      8     16   0.000436561             16 |\n",
            "| train_housing_19cca_00008   PENDING     256      8    128   0.000483836             64 |\n",
            "| train_housing_19cca_00009   PENDING     256    256     32   0.000165913             64 |\n",
            "| train_housing_19cca_00010   PENDING     128     32     32   0.000368354             32 |\n",
            "| train_housing_19cca_00011   PENDING     256     16    128   0.00064105              32 |\n",
            "| train_housing_19cca_00012   PENDING      16      8     16   0.000734409             32 |\n",
            "| train_housing_19cca_00013   PENDING      64    256      8   0.000181138             16 |\n",
            "| train_housing_19cca_00014   PENDING      16     32      8   0.000272381             64 |\n",
            "| train_housing_19cca_00015   PENDING      16    128     16   0.000236265             32 |\n",
            "| train_housing_19cca_00016   PENDING      16     32     64   0.000112408             64 |\n",
            "| train_housing_19cca_00017   PENDING      16     32     64   0.000523566             64 |\n",
            "| train_housing_19cca_00018   PENDING      16     32    128   0.000131733             64 |\n",
            "| train_housing_19cca_00019   PENDING      32      8      8   0.000937255             32 |\n",
            "+----------------------------------------------------------------------------------------+\n",
            "\n",
            "Trial train_housing_19cca_00000 started with configuration:\n",
            "+----------------------------------------------------+\n",
            "| Trial train_housing_19cca_00000 config             |\n",
            "+----------------------------------------------------+\n",
            "| batch_size                                      16 |\n",
            "| l1                                              32 |\n",
            "| l2                                             256 |\n",
            "| l3                                             256 |\n",
            "| lr                                         0.00044 |\n",
            "+----------------------------------------------------+\n",
            "\n",
            "Trial train_housing_19cca_00001 started with configuration:\n",
            "+----------------------------------------------------+\n",
            "| Trial train_housing_19cca_00001 config             |\n",
            "+----------------------------------------------------+\n",
            "| batch_size                                      64 |\n",
            "| l1                                              32 |\n",
            "| l2                                              16 |\n",
            "| l3                                              32 |\n",
            "| lr                                         0.00017 |\n",
            "+----------------------------------------------------+\n",
            "\u001b[36m(train_housing pid=27062)\u001b[0m [1, 100] loss: 4.984562978744507\n"
          ]
        },
        {
          "output_type": "stream",
          "name": "stderr",
          "text": [
            "\u001b[36m(train_housing pid=27062)\u001b[0m Checkpoint successfully created at: Checkpoint(filesystem=local, path=/root/ray_results/train_housing_2025-01-15_06-36-50/train_housing_19cca_00001_1_batch_size=64,l1=32,l2=16,l3=32,lr=0.0002_2025-01-15_06-36-50/checkpoint_000000)\n"
          ]
        },
        {
          "output_type": "stream",
          "name": "stdout",
          "text": [
            "\u001b[36m(train_housing pid=27062)\u001b[0m [2, 200] loss: 1.3072645497322082\u001b[32m [repeated 7x across cluster]\u001b[0m\n"
          ]
        },
        {
          "output_type": "stream",
          "name": "stderr",
          "text": [
            "\u001b[36m(train_housing pid=27062)\u001b[0m Checkpoint successfully created at: Checkpoint(filesystem=local, path=/root/ray_results/train_housing_2025-01-15_06-36-50/train_housing_19cca_00001_1_batch_size=64,l1=32,l2=16,l3=32,lr=0.0002_2025-01-15_06-36-50/checkpoint_000001)\n",
            "\u001b[36m(train_housing pid=27062)\u001b[0m Checkpoint successfully created at: Checkpoint(filesystem=local, path=/root/ray_results/train_housing_2025-01-15_06-36-50/train_housing_19cca_00001_1_batch_size=64,l1=32,l2=16,l3=32,lr=0.0002_2025-01-15_06-36-50/checkpoint_000002)\n"
          ]
        },
        {
          "output_type": "stream",
          "name": "stdout",
          "text": [
            "\u001b[36m(train_housing pid=27061)\u001b[0m [1, 900] loss: 0.5418917704373598\u001b[32m [repeated 8x across cluster]\u001b[0m\n"
          ]
        },
        {
          "output_type": "stream",
          "name": "stderr",
          "text": [
            "\u001b[36m(train_housing pid=27061)\u001b[0m Checkpoint successfully created at: Checkpoint(filesystem=local, path=/root/ray_results/train_housing_2025-01-15_06-36-50/train_housing_19cca_00000_0_batch_size=16,l1=32,l2=256,l3=256,lr=0.0004_2025-01-15_06-36-50/checkpoint_000000)\n"
          ]
        },
        {
          "output_type": "stream",
          "name": "stdout",
          "text": [
            "\n",
            "Trial status: 2 RUNNING | 18 PENDING\n",
            "Current time: 2025-01-15 06:37:21. Total running time: 31s\n",
            "Logical resource usage: 2.0/2 CPUs, 0/0 GPUs\n",
            "Current best trial: 19cca_00000 with mse=0.52650563892468 and params={'l1': 32, 'l2': 256, 'l3': 256, 'lr': 0.00043617427315480206, 'batch_size': 16}\n",
            "+-------------------------------------------------------------------------------------------------------------------------------+\n",
            "| Trial name                  status       l1     l2     l3            lr     batch_size     iter     total time (s)        mse |\n",
            "+-------------------------------------------------------------------------------------------------------------------------------+\n",
            "| train_housing_19cca_00000   RUNNING      32    256    256   0.000436174             16        2            17.5438   0.526506 |\n",
            "| train_housing_19cca_00001   RUNNING      32     16     32   0.000174203             64        8            17.4526   0.890129 |\n",
            "| train_housing_19cca_00002   PENDING      32     16     16   0.000167417             32                                        |\n",
            "| train_housing_19cca_00003   PENDING     128     16    128   0.000106556             16                                        |\n",
            "| train_housing_19cca_00004   PENDING     128    256    128   0.000997973             32                                        |\n",
            "| train_housing_19cca_00005   PENDING      64      8    256   0.000153028             64                                        |\n",
            "| train_housing_19cca_00006   PENDING     256     64     64   0.000248831             16                                        |\n",
            "| train_housing_19cca_00007   PENDING      32      8     16   0.000436561             16                                        |\n",
            "| train_housing_19cca_00008   PENDING     256      8    128   0.000483836             64                                        |\n",
            "| train_housing_19cca_00009   PENDING     256    256     32   0.000165913             64                                        |\n",
            "| train_housing_19cca_00010   PENDING     128     32     32   0.000368354             32                                        |\n",
            "| train_housing_19cca_00011   PENDING     256     16    128   0.00064105              32                                        |\n",
            "| train_housing_19cca_00012   PENDING      16      8     16   0.000734409             32                                        |\n",
            "| train_housing_19cca_00013   PENDING      64    256      8   0.000181138             16                                        |\n",
            "| train_housing_19cca_00014   PENDING      16     32      8   0.000272381             64                                        |\n",
            "| train_housing_19cca_00015   PENDING      16    128     16   0.000236265             32                                        |\n",
            "| train_housing_19cca_00016   PENDING      16     32     64   0.000112408             64                                        |\n",
            "| train_housing_19cca_00017   PENDING      16     32     64   0.000523566             64                                        |\n",
            "| train_housing_19cca_00018   PENDING      16     32    128   0.000131733             64                                        |\n",
            "| train_housing_19cca_00019   PENDING      32      8      8   0.000937255             32                                        |\n",
            "+-------------------------------------------------------------------------------------------------------------------------------+\n",
            "\u001b[36m(train_housing pid=27062)\u001b[0m [5, 200] loss: 0.7374413907527924\u001b[32m [repeated 4x across cluster]\u001b[0m\n",
            "\n",
            "Trial train_housing_19cca_00001 completed after 10 iterations at 2025-01-15 06:37:24. Total running time: 34s\n",
            "+--------------------------------------------------------------+\n",
            "| Trial train_housing_19cca_00001 result                       |\n",
            "+--------------------------------------------------------------+\n",
            "| checkpoint_dir_name                        checkpoint_000004 |\n",
            "| time_this_iter_s                                     0.00711 |\n",
            "| time_total_s                                        22.85153 |\n",
            "| training_iteration                                        10 |\n",
            "| mse                                                    0.666 |\n",
            "+--------------------------------------------------------------+\n",
            "\u001b[36m(train_housing pid=27062)\u001b[0m Finished Training\n"
          ]
        },
        {
          "output_type": "stream",
          "name": "stderr",
          "text": [
            "\u001b[36m(train_housing pid=27062)\u001b[0m Checkpoint successfully created at: Checkpoint(filesystem=local, path=/root/ray_results/train_housing_2025-01-15_06-36-50/train_housing_19cca_00001_1_batch_size=64,l1=32,l2=16,l3=32,lr=0.0002_2025-01-15_06-36-50/checkpoint_000004)\u001b[32m [repeated 2x across cluster]\u001b[0m\n"
          ]
        },
        {
          "output_type": "stream",
          "name": "stdout",
          "text": [
            "\u001b[36m(train_housing pid=27061)\u001b[0m [2, 500] loss: 0.5136182197928428\u001b[32m [repeated 4x across cluster]\u001b[0m\n",
            "\n",
            "Trial train_housing_19cca_00002 started with configuration:\n",
            "+----------------------------------------------------+\n",
            "| Trial train_housing_19cca_00002 config             |\n",
            "+----------------------------------------------------+\n",
            "| batch_size                                      32 |\n",
            "| l1                                              32 |\n",
            "| l2                                              16 |\n",
            "| l3                                              16 |\n",
            "| lr                                         0.00017 |\n",
            "+----------------------------------------------------+\n"
          ]
        },
        {
          "output_type": "stream",
          "name": "stderr",
          "text": [
            "\u001b[36m(train_housing pid=27061)\u001b[0m Checkpoint successfully created at: Checkpoint(filesystem=local, path=/root/ray_results/train_housing_2025-01-15_06-36-50/train_housing_19cca_00000_0_batch_size=16,l1=32,l2=256,l3=256,lr=0.0004_2025-01-15_06-36-50/checkpoint_000001)\n"
          ]
        },
        {
          "output_type": "stream",
          "name": "stdout",
          "text": [
            "\u001b[36m(train_housing pid=27061)\u001b[0m [3, 100] loss: 0.48858604989945886\u001b[32m [repeated 5x across cluster]\u001b[0m\n",
            "\u001b[36m(train_housing pid=27426)\u001b[0m [1, 200] loss: 5.583499374389649\u001b[32m [repeated 4x across cluster]\u001b[0m\n"
          ]
        },
        {
          "output_type": "stream",
          "name": "stderr",
          "text": [
            "\u001b[36m(train_housing pid=27426)\u001b[0m Checkpoint successfully created at: Checkpoint(filesystem=local, path=/root/ray_results/train_housing_2025-01-15_06-36-50/train_housing_19cca_00002_2_batch_size=32,l1=32,l2=16,l3=16,lr=0.0002_2025-01-15_06-36-50/checkpoint_000000)\n"
          ]
        },
        {
          "output_type": "stream",
          "name": "stdout",
          "text": [
            "\u001b[36m(train_housing pid=27061)\u001b[0m [3, 800] loss: 0.4925384795665741\u001b[32m [repeated 8x across cluster]\u001b[0m\n",
            "\n",
            "Trial status: 2 RUNNING | 1 TERMINATED | 17 PENDING\n",
            "Current time: 2025-01-15 06:37:51. Total running time: 1min 1s\n",
            "Logical resource usage: 2.0/2 CPUs, 0/0 GPUs\n",
            "Current best trial: 19cca_00000 with mse=0.42994000346854677 and params={'l1': 32, 'l2': 256, 'l3': 256, 'lr': 0.00043617427315480206, 'batch_size': 16}\n",
            "+---------------------------------------------------------------------------------------------------------------------------------+\n",
            "| Trial name                  status         l1     l2     l3            lr     batch_size     iter     total time (s)        mse |\n",
            "+---------------------------------------------------------------------------------------------------------------------------------+\n",
            "| train_housing_19cca_00000   RUNNING        32    256    256   0.000436174             16        6            49.3119   0.42994  |\n",
            "| train_housing_19cca_00002   RUNNING        32     16     16   0.000167417             32        4            17.1968   1.12838  |\n",
            "| train_housing_19cca_00001   TERMINATED     32     16     32   0.000174203             64       10            22.8515   0.666002 |\n",
            "| train_housing_19cca_00003   PENDING       128     16    128   0.000106556             16                                        |\n",
            "| train_housing_19cca_00004   PENDING       128    256    128   0.000997973             32                                        |\n",
            "| train_housing_19cca_00005   PENDING        64      8    256   0.000153028             64                                        |\n",
            "| train_housing_19cca_00006   PENDING       256     64     64   0.000248831             16                                        |\n",
            "| train_housing_19cca_00007   PENDING        32      8     16   0.000436561             16                                        |\n",
            "| train_housing_19cca_00008   PENDING       256      8    128   0.000483836             64                                        |\n",
            "| train_housing_19cca_00009   PENDING       256    256     32   0.000165913             64                                        |\n",
            "| train_housing_19cca_00010   PENDING       128     32     32   0.000368354             32                                        |\n",
            "| train_housing_19cca_00011   PENDING       256     16    128   0.00064105              32                                        |\n",
            "| train_housing_19cca_00012   PENDING        16      8     16   0.000734409             32                                        |\n",
            "| train_housing_19cca_00013   PENDING        64    256      8   0.000181138             16                                        |\n",
            "| train_housing_19cca_00014   PENDING        16     32      8   0.000272381             64                                        |\n",
            "| train_housing_19cca_00015   PENDING        16    128     16   0.000236265             32                                        |\n",
            "| train_housing_19cca_00016   PENDING        16     32     64   0.000112408             64                                        |\n",
            "| train_housing_19cca_00017   PENDING        16     32     64   0.000523566             64                                        |\n",
            "| train_housing_19cca_00018   PENDING        16     32    128   0.000131733             64                                        |\n",
            "| train_housing_19cca_00019   PENDING        32      8      8   0.000937255             32                                        |\n",
            "+---------------------------------------------------------------------------------------------------------------------------------+\n"
          ]
        },
        {
          "output_type": "stream",
          "name": "stderr",
          "text": [
            "\u001b[36m(train_housing pid=27426)\u001b[0m Checkpoint successfully created at: Checkpoint(filesystem=local, path=/root/ray_results/train_housing_2025-01-15_06-36-50/train_housing_19cca_00002_2_batch_size=32,l1=32,l2=16,l3=16,lr=0.0002_2025-01-15_06-36-50/checkpoint_000001)\u001b[32m [repeated 2x across cluster]\u001b[0m\n"
          ]
        },
        {
          "output_type": "stream",
          "name": "stdout",
          "text": [
            "\u001b[36m(train_housing pid=27061)\u001b[0m [4, 100] loss: 0.43011786349117753\u001b[32m [repeated 5x across cluster]\u001b[0m\n",
            "\u001b[36m(train_housing pid=27061)\u001b[0m [4, 400] loss: 0.47897744782269003\u001b[32m [repeated 7x across cluster]\u001b[0m\n"
          ]
        },
        {
          "output_type": "stream",
          "name": "stderr",
          "text": [
            "\u001b[36m(train_housing pid=27426)\u001b[0m Checkpoint successfully created at: Checkpoint(filesystem=local, path=/root/ray_results/train_housing_2025-01-15_06-36-50/train_housing_19cca_00002_2_batch_size=32,l1=32,l2=16,l3=16,lr=0.0002_2025-01-15_06-36-50/checkpoint_000002)\n"
          ]
        },
        {
          "output_type": "stream",
          "name": "stdout",
          "text": [
            "\u001b[36m(train_housing pid=27061)\u001b[0m [4, 900] loss: 0.42649253867566583\u001b[32m [repeated 9x across cluster]\u001b[0m\n"
          ]
        },
        {
          "output_type": "stream",
          "name": "stderr",
          "text": [
            "\u001b[36m(train_housing pid=27426)\u001b[0m Checkpoint successfully created at: Checkpoint(filesystem=local, path=/root/ray_results/train_housing_2025-01-15_06-36-50/train_housing_19cca_00002_2_batch_size=32,l1=32,l2=16,l3=16,lr=0.0002_2025-01-15_06-36-50/checkpoint_000003)\n"
          ]
        },
        {
          "output_type": "stream",
          "name": "stdout",
          "text": [
            "\u001b[36m(train_housing pid=27061)\u001b[0m [5, 200] loss: 0.4754515444114804\u001b[32m [repeated 5x across cluster]\u001b[0m\n"
          ]
        },
        {
          "output_type": "stream",
          "name": "stderr",
          "text": [
            "\u001b[36m(train_housing pid=27426)\u001b[0m Checkpoint successfully created at: Checkpoint(filesystem=local, path=/root/ray_results/train_housing_2025-01-15_06-36-50/train_housing_19cca_00002_2_batch_size=32,l1=32,l2=16,l3=16,lr=0.0002_2025-01-15_06-36-50/checkpoint_000004)\u001b[32m [repeated 2x across cluster]\u001b[0m\n"
          ]
        },
        {
          "output_type": "stream",
          "name": "stdout",
          "text": [
            "\n",
            "Trial train_housing_19cca_00002 completed after 10 iterations at 2025-01-15 06:38:12. Total running time: 1min 22s\n",
            "+--------------------------------------------------------------+\n",
            "| Trial train_housing_19cca_00002 result                       |\n",
            "+--------------------------------------------------------------+\n",
            "| checkpoint_dir_name                        checkpoint_000004 |\n",
            "| time_this_iter_s                                     0.00623 |\n",
            "| time_total_s                                        38.11291 |\n",
            "| training_iteration                                        10 |\n",
            "| mse                                                  0.70983 |\n",
            "+--------------------------------------------------------------+\n",
            "\u001b[36m(train_housing pid=27426)\u001b[0m Finished Training\n",
            "\u001b[36m(train_housing pid=27061)\u001b[0m [5, 500] loss: 0.46641052439808844\u001b[32m [repeated 4x across cluster]\u001b[0m\n",
            "\n",
            "Trial status: 1 RUNNING | 2 TERMINATED | 17 PENDING\n",
            "Current time: 2025-01-15 06:38:21. Total running time: 1min 31s\n",
            "Logical resource usage: 2.0/2 CPUs, 0/0 GPUs\n",
            "Current best trial: 19cca_00000 with mse=0.41240637689751863 and params={'l1': 32, 'l2': 256, 'l3': 256, 'lr': 0.00043617427315480206, 'batch_size': 16}\n",
            "+---------------------------------------------------------------------------------------------------------------------------------+\n",
            "| Trial name                  status         l1     l2     l3            lr     batch_size     iter     total time (s)        mse |\n",
            "+---------------------------------------------------------------------------------------------------------------------------------+\n",
            "| train_housing_19cca_00000   RUNNING        32    256    256   0.000436174             16        8            64.3713   0.412406 |\n",
            "| train_housing_19cca_00001   TERMINATED     32     16     32   0.000174203             64       10            22.8515   0.666002 |\n",
            "| train_housing_19cca_00002   TERMINATED     32     16     16   0.000167417             32       10            38.1129   0.70983  |\n",
            "| train_housing_19cca_00003   PENDING       128     16    128   0.000106556             16                                        |\n",
            "| train_housing_19cca_00004   PENDING       128    256    128   0.000997973             32                                        |\n",
            "| train_housing_19cca_00005   PENDING        64      8    256   0.000153028             64                                        |\n",
            "| train_housing_19cca_00006   PENDING       256     64     64   0.000248831             16                                        |\n",
            "| train_housing_19cca_00007   PENDING        32      8     16   0.000436561             16                                        |\n",
            "| train_housing_19cca_00008   PENDING       256      8    128   0.000483836             64                                        |\n",
            "| train_housing_19cca_00009   PENDING       256    256     32   0.000165913             64                                        |\n",
            "| train_housing_19cca_00010   PENDING       128     32     32   0.000368354             32                                        |\n",
            "| train_housing_19cca_00011   PENDING       256     16    128   0.00064105              32                                        |\n",
            "| train_housing_19cca_00012   PENDING        16      8     16   0.000734409             32                                        |\n",
            "| train_housing_19cca_00013   PENDING        64    256      8   0.000181138             16                                        |\n",
            "| train_housing_19cca_00014   PENDING        16     32      8   0.000272381             64                                        |\n",
            "| train_housing_19cca_00015   PENDING        16    128     16   0.000236265             32                                        |\n",
            "| train_housing_19cca_00016   PENDING        16     32     64   0.000112408             64                                        |\n",
            "| train_housing_19cca_00017   PENDING        16     32     64   0.000523566             64                                        |\n",
            "| train_housing_19cca_00018   PENDING        16     32    128   0.000131733             64                                        |\n",
            "| train_housing_19cca_00019   PENDING        32      8      8   0.000937255             32                                        |\n",
            "+---------------------------------------------------------------------------------------------------------------------------------+\n",
            "\n",
            "Trial train_housing_19cca_00003 started with configuration:\n",
            "+----------------------------------------------------+\n",
            "| Trial train_housing_19cca_00003 config             |\n",
            "+----------------------------------------------------+\n",
            "| batch_size                                      16 |\n",
            "| l1                                             128 |\n",
            "| l2                                              16 |\n",
            "| l3                                             128 |\n",
            "| lr                                         0.00011 |\n",
            "+----------------------------------------------------+\n",
            "\n",
            "Trial train_housing_19cca_00000 completed after 10 iterations at 2025-01-15 06:38:22. Total running time: 1min 32s\n",
            "+--------------------------------------------------------------+\n",
            "| Trial train_housing_19cca_00000 result                       |\n",
            "+--------------------------------------------------------------+\n",
            "| checkpoint_dir_name                        checkpoint_000004 |\n",
            "| time_this_iter_s                                     0.00538 |\n",
            "| time_total_s                                        81.00397 |\n",
            "| training_iteration                                        10 |\n",
            "| mse                                                  0.41051 |\n",
            "+--------------------------------------------------------------+\n",
            "\u001b[36m(train_housing pid=27061)\u001b[0m Finished Training\n",
            "\u001b[36m(train_housing pid=27061)\u001b[0m [5, 900] loss: 0.3774108602851629\u001b[32m [repeated 4x across cluster]\u001b[0m\n"
          ]
        },
        {
          "output_type": "stream",
          "name": "stderr",
          "text": [
            "\u001b[36m(train_housing pid=27061)\u001b[0m Checkpoint successfully created at: Checkpoint(filesystem=local, path=/root/ray_results/train_housing_2025-01-15_06-36-50/train_housing_19cca_00000_0_batch_size=16,l1=32,l2=256,l3=256,lr=0.0004_2025-01-15_06-36-50/checkpoint_000004)\n"
          ]
        },
        {
          "output_type": "stream",
          "name": "stdout",
          "text": [
            "\u001b[36m(train_housing pid=27850)\u001b[0m [1, 100] loss: 5.507981407642364\n",
            "\u001b[36m(train_housing pid=27850)\u001b[0m [1, 200] loss: 3.7156477904319765\n",
            "\u001b[36m(train_housing pid=27850)\u001b[0m [1, 300] loss: 1.7228156054019927\n",
            "\u001b[36m(train_housing pid=27850)\u001b[0m [1, 400] loss: 1.2759911918640137\n",
            "\u001b[36m(train_housing pid=27850)\u001b[0m [1, 500] loss: 1.2436394944787026\n",
            "\n",
            "Trial train_housing_19cca_00004 started with configuration:\n",
            "+--------------------------------------------------+\n",
            "| Trial train_housing_19cca_00004 config           |\n",
            "+--------------------------------------------------+\n",
            "| batch_size                                    32 |\n",
            "| l1                                           128 |\n",
            "| l2                                           256 |\n",
            "| l3                                           128 |\n",
            "| lr                                         0.001 |\n",
            "+--------------------------------------------------+\n",
            "\u001b[36m(train_housing pid=27850)\u001b[0m [1, 600] loss: 1.0886511236429215\n",
            "\u001b[36m(train_housing pid=27850)\u001b[0m [1, 700] loss: 1.05352280408144\n",
            "\u001b[36m(train_housing pid=27850)\u001b[0m [1, 800] loss: 0.9903959056735039\n",
            "\u001b[36m(train_housing pid=27850)\u001b[0m [1, 900] loss: 0.9858677411079406\n"
          ]
        },
        {
          "output_type": "stream",
          "name": "stderr",
          "text": [
            "\u001b[36m(train_housing pid=27850)\u001b[0m Checkpoint successfully created at: Checkpoint(filesystem=local, path=/root/ray_results/train_housing_2025-01-15_06-36-50/train_housing_19cca_00003_3_batch_size=16,l1=128,l2=16,l3=128,lr=0.0001_2025-01-15_06-36-50/checkpoint_000000)\n"
          ]
        },
        {
          "output_type": "stream",
          "name": "stdout",
          "text": [
            "\u001b[36m(train_housing pid=27965)\u001b[0m [1, 300] loss: 0.553670704215765\u001b[32m [repeated 5x across cluster]\u001b[0m\n"
          ]
        },
        {
          "output_type": "stream",
          "name": "stderr",
          "text": [
            "\u001b[36m(train_housing pid=27965)\u001b[0m Checkpoint successfully created at: Checkpoint(filesystem=local, path=/root/ray_results/train_housing_2025-01-15_06-36-50/train_housing_19cca_00004_4_batch_size=32,l1=128,l2=256,l3=128,lr=0.0010_2025-01-15_06-36-50/checkpoint_000000)\n"
          ]
        },
        {
          "output_type": "stream",
          "name": "stdout",
          "text": [
            "\u001b[36m(train_housing pid=27850)\u001b[0m [2, 800] loss: 0.555273685157299\u001b[32m [repeated 8x across cluster]\u001b[0m\n"
          ]
        },
        {
          "output_type": "stream",
          "name": "stderr",
          "text": [
            "\u001b[36m(train_housing pid=27850)\u001b[0m Checkpoint successfully created at: Checkpoint(filesystem=local, path=/root/ray_results/train_housing_2025-01-15_06-36-50/train_housing_19cca_00003_3_batch_size=16,l1=128,l2=16,l3=128,lr=0.0001_2025-01-15_06-36-50/checkpoint_000001)\n"
          ]
        },
        {
          "output_type": "stream",
          "name": "stdout",
          "text": [
            "\n",
            "Trial status: 3 TERMINATED | 2 RUNNING | 15 PENDING\n",
            "Current time: 2025-01-15 06:38:51. Total running time: 2min 1s\n",
            "Logical resource usage: 2.0/2 CPUs, 0/0 GPUs\n",
            "Current best trial: 19cca_00000 with mse=0.41051413960158056 and params={'l1': 32, 'l2': 256, 'l3': 256, 'lr': 0.00043617427315480206, 'batch_size': 16}\n",
            "+---------------------------------------------------------------------------------------------------------------------------------+\n",
            "| Trial name                  status         l1     l2     l3            lr     batch_size     iter     total time (s)        mse |\n",
            "+---------------------------------------------------------------------------------------------------------------------------------+\n",
            "| train_housing_19cca_00003   RUNNING       128     16    128   0.000106556             16        4            28.6103   0.546955 |\n",
            "| train_housing_19cca_00004   RUNNING       128    256    128   0.000997973             32        2            12.6448   0.464021 |\n",
            "| train_housing_19cca_00000   TERMINATED     32    256    256   0.000436174             16       10            81.004    0.410514 |\n",
            "| train_housing_19cca_00001   TERMINATED     32     16     32   0.000174203             64       10            22.8515   0.666002 |\n",
            "| train_housing_19cca_00002   TERMINATED     32     16     16   0.000167417             32       10            38.1129   0.70983  |\n",
            "| train_housing_19cca_00005   PENDING        64      8    256   0.000153028             64                                        |\n",
            "| train_housing_19cca_00006   PENDING       256     64     64   0.000248831             16                                        |\n",
            "| train_housing_19cca_00007   PENDING        32      8     16   0.000436561             16                                        |\n",
            "| train_housing_19cca_00008   PENDING       256      8    128   0.000483836             64                                        |\n",
            "| train_housing_19cca_00009   PENDING       256    256     32   0.000165913             64                                        |\n",
            "| train_housing_19cca_00010   PENDING       128     32     32   0.000368354             32                                        |\n",
            "| train_housing_19cca_00011   PENDING       256     16    128   0.00064105              32                                        |\n",
            "| train_housing_19cca_00012   PENDING        16      8     16   0.000734409             32                                        |\n",
            "| train_housing_19cca_00013   PENDING        64    256      8   0.000181138             16                                        |\n",
            "| train_housing_19cca_00014   PENDING        16     32      8   0.000272381             64                                        |\n",
            "| train_housing_19cca_00015   PENDING        16    128     16   0.000236265             32                                        |\n",
            "| train_housing_19cca_00016   PENDING        16     32     64   0.000112408             64                                        |\n",
            "| train_housing_19cca_00017   PENDING        16     32     64   0.000523566             64                                        |\n",
            "| train_housing_19cca_00018   PENDING        16     32    128   0.000131733             64                                        |\n",
            "| train_housing_19cca_00019   PENDING        32      8      8   0.000937255             32                                        |\n",
            "+---------------------------------------------------------------------------------------------------------------------------------+\n",
            "\u001b[36m(train_housing pid=27850)\u001b[0m [3, 300] loss: 0.5494675976037979\u001b[32m [repeated 7x across cluster]\u001b[0m\n",
            "\u001b[36m(train_housing pid=27850)\u001b[0m [3, 700] loss: 0.5113791109621525\u001b[32m [repeated 7x across cluster]\u001b[0m\n"
          ]
        },
        {
          "output_type": "stream",
          "name": "stderr",
          "text": [
            "\u001b[36m(train_housing pid=27965)\u001b[0m Checkpoint successfully created at: Checkpoint(filesystem=local, path=/root/ray_results/train_housing_2025-01-15_06-36-50/train_housing_19cca_00004_4_batch_size=32,l1=128,l2=256,l3=128,lr=0.0010_2025-01-15_06-36-50/checkpoint_000002)\u001b[32m [repeated 2x across cluster]\u001b[0m\n"
          ]
        },
        {
          "output_type": "stream",
          "name": "stdout",
          "text": [
            "\u001b[36m(train_housing pid=27965)\u001b[0m [4, 300] loss: 0.43965414151549337\u001b[32m [repeated 7x across cluster]\u001b[0m\n"
          ]
        },
        {
          "output_type": "stream",
          "name": "stderr",
          "text": [
            "\u001b[36m(train_housing pid=27965)\u001b[0m Checkpoint successfully created at: Checkpoint(filesystem=local, path=/root/ray_results/train_housing_2025-01-15_06-36-50/train_housing_19cca_00004_4_batch_size=32,l1=128,l2=256,l3=128,lr=0.0010_2025-01-15_06-36-50/checkpoint_000003)\u001b[32m [repeated 2x across cluster]\u001b[0m\n"
          ]
        },
        {
          "output_type": "stream",
          "name": "stdout",
          "text": [
            "\u001b[36m(train_housing pid=27850)\u001b[0m [4, 700] loss: 0.5404524523764849\u001b[32m [repeated 8x across cluster]\u001b[0m\n",
            "\u001b[36m(train_housing pid=27965)\u001b[0m [5, 400] loss: 0.4263275226950645\u001b[32m [repeated 5x across cluster]\u001b[0m\n"
          ]
        },
        {
          "output_type": "stream",
          "name": "stderr",
          "text": [
            "\u001b[36m(train_housing pid=27850)\u001b[0m Checkpoint successfully created at: Checkpoint(filesystem=local, path=/root/ray_results/train_housing_2025-01-15_06-36-50/train_housing_19cca_00003_3_batch_size=16,l1=128,l2=16,l3=128,lr=0.0001_2025-01-15_06-36-50/checkpoint_000003)\n"
          ]
        },
        {
          "output_type": "stream",
          "name": "stdout",
          "text": [
            "\n",
            "Trial train_housing_19cca_00004 completed after 10 iterations at 2025-01-15 06:39:17. Total running time: 2min 27s\n",
            "+--------------------------------------------------------------+\n",
            "| Trial train_housing_19cca_00004 result                       |\n",
            "+--------------------------------------------------------------+\n",
            "| checkpoint_dir_name                        checkpoint_000004 |\n",
            "| time_this_iter_s                                     0.01156 |\n",
            "| time_total_s                                        44.24587 |\n",
            "| training_iteration                                        10 |\n",
            "| mse                                                  0.48069 |\n",
            "+--------------------------------------------------------------+\n",
            "\u001b[36m(train_housing pid=27965)\u001b[0m Finished Training\n"
          ]
        },
        {
          "output_type": "stream",
          "name": "stderr",
          "text": [
            "\u001b[36m(train_housing pid=27965)\u001b[0m Checkpoint successfully created at: Checkpoint(filesystem=local, path=/root/ray_results/train_housing_2025-01-15_06-36-50/train_housing_19cca_00004_4_batch_size=32,l1=128,l2=256,l3=128,lr=0.0010_2025-01-15_06-36-50/checkpoint_000004)\n"
          ]
        },
        {
          "output_type": "stream",
          "name": "stdout",
          "text": [
            "\u001b[36m(train_housing pid=27850)\u001b[0m [5, 300] loss: 0.4738954530656338\u001b[32m [repeated 3x across cluster]\u001b[0m\n",
            "\n",
            "Trial status: 4 TERMINATED | 1 RUNNING | 15 PENDING\n",
            "Current time: 2025-01-15 06:39:21. Total running time: 2min 31s\n",
            "Logical resource usage: 2.0/2 CPUs, 0/0 GPUs\n",
            "Current best trial: 19cca_00000 with mse=0.41051413960158056 and params={'l1': 32, 'l2': 256, 'l3': 256, 'lr': 0.00043617427315480206, 'batch_size': 16}\n",
            "+---------------------------------------------------------------------------------------------------------------------------------+\n",
            "| Trial name                  status         l1     l2     l3            lr     batch_size     iter     total time (s)        mse |\n",
            "+---------------------------------------------------------------------------------------------------------------------------------+\n",
            "| train_housing_19cca_00003   RUNNING       128     16    128   0.000106556             16        8            54.6031   0.498812 |\n",
            "| train_housing_19cca_00000   TERMINATED     32    256    256   0.000436174             16       10            81.004    0.410514 |\n",
            "| train_housing_19cca_00001   TERMINATED     32     16     32   0.000174203             64       10            22.8515   0.666002 |\n",
            "| train_housing_19cca_00002   TERMINATED     32     16     16   0.000167417             32       10            38.1129   0.70983  |\n",
            "| train_housing_19cca_00004   TERMINATED    128    256    128   0.000997973             32       10            44.2459   0.480692 |\n",
            "| train_housing_19cca_00005   PENDING        64      8    256   0.000153028             64                                        |\n",
            "| train_housing_19cca_00006   PENDING       256     64     64   0.000248831             16                                        |\n",
            "| train_housing_19cca_00007   PENDING        32      8     16   0.000436561             16                                        |\n",
            "| train_housing_19cca_00008   PENDING       256      8    128   0.000483836             64                                        |\n",
            "| train_housing_19cca_00009   PENDING       256    256     32   0.000165913             64                                        |\n",
            "| train_housing_19cca_00010   PENDING       128     32     32   0.000368354             32                                        |\n",
            "| train_housing_19cca_00011   PENDING       256     16    128   0.00064105              32                                        |\n",
            "| train_housing_19cca_00012   PENDING        16      8     16   0.000734409             32                                        |\n",
            "| train_housing_19cca_00013   PENDING        64    256      8   0.000181138             16                                        |\n",
            "| train_housing_19cca_00014   PENDING        16     32      8   0.000272381             64                                        |\n",
            "| train_housing_19cca_00015   PENDING        16    128     16   0.000236265             32                                        |\n",
            "| train_housing_19cca_00016   PENDING        16     32     64   0.000112408             64                                        |\n",
            "| train_housing_19cca_00017   PENDING        16     32     64   0.000523566             64                                        |\n",
            "| train_housing_19cca_00018   PENDING        16     32    128   0.000131733             64                                        |\n",
            "| train_housing_19cca_00019   PENDING        32      8      8   0.000937255             32                                        |\n",
            "+---------------------------------------------------------------------------------------------------------------------------------+\n",
            "\u001b[36m(train_housing pid=27850)\u001b[0m [5, 800] loss: 0.5711567585170269\u001b[32m [repeated 5x across cluster]\u001b[0m\n",
            "\n",
            "Trial train_housing_19cca_00005 started with configuration:\n",
            "+----------------------------------------------------+\n",
            "| Trial train_housing_19cca_00005 config             |\n",
            "+----------------------------------------------------+\n",
            "| batch_size                                      64 |\n",
            "| l1                                              64 |\n",
            "| l2                                               8 |\n",
            "| l3                                             256 |\n",
            "| lr                                         0.00015 |\n",
            "+----------------------------------------------------+\n",
            "\n",
            "Trial train_housing_19cca_00003 completed after 10 iterations at 2025-01-15 06:39:31. Total running time: 2min 41s\n",
            "+--------------------------------------------------------------+\n",
            "| Trial train_housing_19cca_00003 result                       |\n",
            "+--------------------------------------------------------------+\n",
            "| checkpoint_dir_name                        checkpoint_000004 |\n",
            "| time_this_iter_s                                     0.01094 |\n",
            "| time_total_s                                        69.07543 |\n",
            "| training_iteration                                        10 |\n",
            "| mse                                                  0.48833 |\n",
            "+--------------------------------------------------------------+\n",
            "\u001b[36m(train_housing pid=27850)\u001b[0m Finished Training\n"
          ]
        },
        {
          "output_type": "stream",
          "name": "stderr",
          "text": [
            "\u001b[36m(train_housing pid=27850)\u001b[0m Checkpoint successfully created at: Checkpoint(filesystem=local, path=/root/ray_results/train_housing_2025-01-15_06-36-50/train_housing_19cca_00003_3_batch_size=16,l1=128,l2=16,l3=128,lr=0.0001_2025-01-15_06-36-50/checkpoint_000004)\n"
          ]
        },
        {
          "output_type": "stream",
          "name": "stdout",
          "text": [
            "\u001b[36m(train_housing pid=28450)\u001b[0m [1, 100] loss: 4.864468777179718\u001b[32m [repeated 2x across cluster]\u001b[0m\n"
          ]
        },
        {
          "output_type": "stream",
          "name": "stderr",
          "text": [
            "\u001b[36m(train_housing pid=28450)\u001b[0m Checkpoint successfully created at: Checkpoint(filesystem=local, path=/root/ray_results/train_housing_2025-01-15_06-36-50/train_housing_19cca_00005_5_batch_size=64,l1=64,l2=8,l3=256,lr=0.0002_2025-01-15_06-36-50/checkpoint_000000)\n",
            "\u001b[36m(train_housing pid=28450)\u001b[0m Checkpoint successfully created at: Checkpoint(filesystem=local, path=/root/ray_results/train_housing_2025-01-15_06-36-50/train_housing_19cca_00005_5_batch_size=64,l1=64,l2=8,l3=256,lr=0.0002_2025-01-15_06-36-50/checkpoint_000001)\n"
          ]
        },
        {
          "output_type": "stream",
          "name": "stdout",
          "text": [
            "\u001b[36m(train_housing pid=28450)\u001b[0m [3, 100] loss: 1.0876570242643355\u001b[32m [repeated 4x across cluster]\u001b[0m\n",
            "\n",
            "Trial train_housing_19cca_00006 started with configuration:\n",
            "+----------------------------------------------------+\n",
            "| Trial train_housing_19cca_00006 config             |\n",
            "+----------------------------------------------------+\n",
            "| batch_size                                      16 |\n",
            "| l1                                             256 |\n",
            "| l2                                              64 |\n",
            "| l3                                              64 |\n",
            "| lr                                         0.00025 |\n",
            "+----------------------------------------------------+\n"
          ]
        },
        {
          "output_type": "stream",
          "name": "stderr",
          "text": [
            "\u001b[36m(train_housing pid=28450)\u001b[0m Checkpoint successfully created at: Checkpoint(filesystem=local, path=/root/ray_results/train_housing_2025-01-15_06-36-50/train_housing_19cca_00005_5_batch_size=64,l1=64,l2=8,l3=256,lr=0.0002_2025-01-15_06-36-50/checkpoint_000002)\n"
          ]
        },
        {
          "output_type": "stream",
          "name": "stdout",
          "text": [
            "\u001b[36m(train_housing pid=28450)\u001b[0m [4, 200] loss: 0.8550736665725708\u001b[32m [repeated 3x across cluster]\u001b[0m\n"
          ]
        },
        {
          "output_type": "stream",
          "name": "stderr",
          "text": [
            "\u001b[36m(train_housing pid=28450)\u001b[0m Checkpoint successfully created at: Checkpoint(filesystem=local, path=/root/ray_results/train_housing_2025-01-15_06-36-50/train_housing_19cca_00005_5_batch_size=64,l1=64,l2=8,l3=256,lr=0.0002_2025-01-15_06-36-50/checkpoint_000003)\n"
          ]
        },
        {
          "output_type": "stream",
          "name": "stdout",
          "text": [
            "\n",
            "Trial train_housing_19cca_00005 completed after 10 iterations at 2025-01-15 06:39:51. Total running time: 3min 0s\n",
            "+--------------------------------------------------------------+\n",
            "| Trial train_housing_19cca_00005 result                       |\n",
            "+--------------------------------------------------------------+\n",
            "| checkpoint_dir_name                        checkpoint_000004 |\n",
            "| time_this_iter_s                                     0.00528 |\n",
            "| time_total_s                                        22.94707 |\n",
            "| training_iteration                                        10 |\n",
            "| mse                                                  0.63804 |\n",
            "+--------------------------------------------------------------+\n",
            "\u001b[36m(train_housing pid=28450)\u001b[0m Finished Training\n"
          ]
        },
        {
          "output_type": "stream",
          "name": "stderr",
          "text": [
            "\u001b[36m(train_housing pid=28450)\u001b[0m Checkpoint successfully created at: Checkpoint(filesystem=local, path=/root/ray_results/train_housing_2025-01-15_06-36-50/train_housing_19cca_00005_5_batch_size=64,l1=64,l2=8,l3=256,lr=0.0002_2025-01-15_06-36-50/checkpoint_000004)\n"
          ]
        },
        {
          "output_type": "stream",
          "name": "stdout",
          "text": [
            "\n",
            "Trial status: 6 TERMINATED | 1 RUNNING | 13 PENDING\n",
            "Current time: 2025-01-15 06:39:51. Total running time: 3min 1s\n",
            "Logical resource usage: 1.0/2 CPUs, 0/0 GPUs\n",
            "Current best trial: 19cca_00000 with mse=0.41051413960158056 and params={'l1': 32, 'l2': 256, 'l3': 256, 'lr': 0.00043617427315480206, 'batch_size': 16}\n",
            "+---------------------------------------------------------------------------------------------------------------------------------+\n",
            "| Trial name                  status         l1     l2     l3            lr     batch_size     iter     total time (s)        mse |\n",
            "+---------------------------------------------------------------------------------------------------------------------------------+\n",
            "| train_housing_19cca_00006   RUNNING       256     64     64   0.000248831             16                                        |\n",
            "| train_housing_19cca_00000   TERMINATED     32    256    256   0.000436174             16       10            81.004    0.410514 |\n",
            "| train_housing_19cca_00001   TERMINATED     32     16     32   0.000174203             64       10            22.8515   0.666002 |\n",
            "| train_housing_19cca_00002   TERMINATED     32     16     16   0.000167417             32       10            38.1129   0.70983  |\n",
            "| train_housing_19cca_00003   TERMINATED    128     16    128   0.000106556             16       10            69.0754   0.48833  |\n",
            "| train_housing_19cca_00004   TERMINATED    128    256    128   0.000997973             32       10            44.2459   0.480692 |\n",
            "| train_housing_19cca_00005   TERMINATED     64      8    256   0.000153028             64       10            22.9471   0.638039 |\n",
            "| train_housing_19cca_00007   PENDING        32      8     16   0.000436561             16                                        |\n",
            "| train_housing_19cca_00008   PENDING       256      8    128   0.000483836             64                                        |\n",
            "| train_housing_19cca_00009   PENDING       256    256     32   0.000165913             64                                        |\n",
            "| train_housing_19cca_00010   PENDING       128     32     32   0.000368354             32                                        |\n",
            "| train_housing_19cca_00011   PENDING       256     16    128   0.00064105              32                                        |\n",
            "| train_housing_19cca_00012   PENDING        16      8     16   0.000734409             32                                        |\n",
            "| train_housing_19cca_00013   PENDING        64    256      8   0.000181138             16                                        |\n",
            "| train_housing_19cca_00014   PENDING        16     32      8   0.000272381             64                                        |\n",
            "| train_housing_19cca_00015   PENDING        16    128     16   0.000236265             32                                        |\n",
            "| train_housing_19cca_00016   PENDING        16     32     64   0.000112408             64                                        |\n",
            "| train_housing_19cca_00017   PENDING        16     32     64   0.000523566             64                                        |\n",
            "| train_housing_19cca_00018   PENDING        16     32    128   0.000131733             64                                        |\n",
            "| train_housing_19cca_00019   PENDING        32      8      8   0.000937255             32                                        |\n",
            "+---------------------------------------------------------------------------------------------------------------------------------+\n",
            "\u001b[36m(train_housing pid=28589)\u001b[0m [1, 500] loss: 0.7412342777848244\u001b[32m [repeated 7x across cluster]\u001b[0m\n",
            "\u001b[36m(train_housing pid=28589)\u001b[0m [1, 900] loss: 0.5564560417830944\u001b[32m [repeated 4x across cluster]\u001b[0m\n"
          ]
        },
        {
          "output_type": "stream",
          "name": "stderr",
          "text": [
            "\u001b[36m(train_housing pid=28589)\u001b[0m Checkpoint successfully created at: Checkpoint(filesystem=local, path=/root/ray_results/train_housing_2025-01-15_06-36-50/train_housing_19cca_00006_6_batch_size=16,l1=256,l2=64,l3=64,lr=0.0002_2025-01-15_06-36-50/checkpoint_000000)\n"
          ]
        },
        {
          "output_type": "stream",
          "name": "stdout",
          "text": [
            "\n",
            "Trial train_housing_19cca_00007 started with configuration:\n",
            "+----------------------------------------------------+\n",
            "| Trial train_housing_19cca_00007 config             |\n",
            "+----------------------------------------------------+\n",
            "| batch_size                                      16 |\n",
            "| l1                                              32 |\n",
            "| l2                                               8 |\n",
            "| l3                                              16 |\n",
            "| lr                                         0.00044 |\n",
            "+----------------------------------------------------+\n",
            "\u001b[36m(train_housing pid=28589)\u001b[0m [2, 200] loss: 0.5635708393156529\u001b[32m [repeated 2x across cluster]\u001b[0m\n",
            "\u001b[36m(train_housing pid=28589)\u001b[0m [2, 700] loss: 0.4844223827123642\u001b[32m [repeated 8x across cluster]\u001b[0m\n"
          ]
        },
        {
          "output_type": "stream",
          "name": "stderr",
          "text": [
            "\u001b[36m(train_housing pid=28589)\u001b[0m Checkpoint successfully created at: Checkpoint(filesystem=local, path=/root/ray_results/train_housing_2025-01-15_06-36-50/train_housing_19cca_00006_6_batch_size=16,l1=256,l2=64,l3=64,lr=0.0002_2025-01-15_06-36-50/checkpoint_000001)\n"
          ]
        },
        {
          "output_type": "stream",
          "name": "stdout",
          "text": [
            "\u001b[36m(train_housing pid=28838)\u001b[0m [1, 800] loss: 1.0674838572740555\u001b[32m [repeated 7x across cluster]\u001b[0m\n"
          ]
        },
        {
          "output_type": "stream",
          "name": "stderr",
          "text": [
            "\u001b[36m(train_housing pid=28838)\u001b[0m Checkpoint successfully created at: Checkpoint(filesystem=local, path=/root/ray_results/train_housing_2025-01-15_06-36-50/train_housing_19cca_00007_7_batch_size=16,l1=32,l2=8,l3=16,lr=0.0004_2025-01-15_06-36-50/checkpoint_000000)\n"
          ]
        },
        {
          "output_type": "stream",
          "name": "stdout",
          "text": [
            "\u001b[36m(train_housing pid=28838)\u001b[0m [2, 100] loss: 0.9761020664870739\u001b[32m [repeated 6x across cluster]\u001b[0m\n",
            "\n",
            "Trial status: 6 TERMINATED | 2 RUNNING | 12 PENDING\n",
            "Current time: 2025-01-15 06:40:21. Total running time: 3min 31s\n",
            "Logical resource usage: 2.0/2 CPUs, 0/0 GPUs\n",
            "Current best trial: 19cca_00000 with mse=0.41051413960158056 and params={'l1': 32, 'l2': 256, 'l3': 256, 'lr': 0.00043617427315480206, 'batch_size': 16}\n",
            "+---------------------------------------------------------------------------------------------------------------------------------+\n",
            "| Trial name                  status         l1     l2     l3            lr     batch_size     iter     total time (s)        mse |\n",
            "+---------------------------------------------------------------------------------------------------------------------------------+\n",
            "| train_housing_19cca_00006   RUNNING       256     64     64   0.000248831             16        4            32.2392   0.48066  |\n",
            "| train_housing_19cca_00007   RUNNING        32      8     16   0.000436561             16        2            15.9909   0.991415 |\n",
            "| train_housing_19cca_00000   TERMINATED     32    256    256   0.000436174             16       10            81.004    0.410514 |\n",
            "| train_housing_19cca_00001   TERMINATED     32     16     32   0.000174203             64       10            22.8515   0.666002 |\n",
            "| train_housing_19cca_00002   TERMINATED     32     16     16   0.000167417             32       10            38.1129   0.70983  |\n",
            "| train_housing_19cca_00003   TERMINATED    128     16    128   0.000106556             16       10            69.0754   0.48833  |\n",
            "| train_housing_19cca_00004   TERMINATED    128    256    128   0.000997973             32       10            44.2459   0.480692 |\n",
            "| train_housing_19cca_00005   TERMINATED     64      8    256   0.000153028             64       10            22.9471   0.638039 |\n",
            "| train_housing_19cca_00008   PENDING       256      8    128   0.000483836             64                                        |\n",
            "| train_housing_19cca_00009   PENDING       256    256     32   0.000165913             64                                        |\n",
            "| train_housing_19cca_00010   PENDING       128     32     32   0.000368354             32                                        |\n",
            "| train_housing_19cca_00011   PENDING       256     16    128   0.00064105              32                                        |\n",
            "| train_housing_19cca_00012   PENDING        16      8     16   0.000734409             32                                        |\n",
            "| train_housing_19cca_00013   PENDING        64    256      8   0.000181138             16                                        |\n",
            "| train_housing_19cca_00014   PENDING        16     32      8   0.000272381             64                                        |\n",
            "| train_housing_19cca_00015   PENDING        16    128     16   0.000236265             32                                        |\n",
            "| train_housing_19cca_00016   PENDING        16     32     64   0.000112408             64                                        |\n",
            "| train_housing_19cca_00017   PENDING        16     32     64   0.000523566             64                                        |\n",
            "| train_housing_19cca_00018   PENDING        16     32    128   0.000131733             64                                        |\n",
            "| train_housing_19cca_00019   PENDING        32      8      8   0.000937255             32                                        |\n",
            "+---------------------------------------------------------------------------------------------------------------------------------+\n",
            "\u001b[36m(train_housing pid=28838)\u001b[0m [2, 700] loss: 0.6195028139650822\u001b[32m [repeated 11x across cluster]\u001b[0m\n"
          ]
        },
        {
          "output_type": "stream",
          "name": "stderr",
          "text": [
            "\u001b[36m(train_housing pid=28589)\u001b[0m Checkpoint successfully created at: Checkpoint(filesystem=local, path=/root/ray_results/train_housing_2025-01-15_06-36-50/train_housing_19cca_00006_6_batch_size=16,l1=256,l2=64,l3=64,lr=0.0002_2025-01-15_06-36-50/checkpoint_000002)\n"
          ]
        },
        {
          "output_type": "stream",
          "name": "stdout",
          "text": [
            "\u001b[36m(train_housing pid=28838)\u001b[0m [3, 100] loss: 0.6113950480520726\u001b[32m [repeated 5x across cluster]\u001b[0m\n",
            "\u001b[36m(train_housing pid=28589)\u001b[0m [4, 600] loss: 0.47255773164331916\u001b[32m [repeated 7x across cluster]\u001b[0m\n"
          ]
        },
        {
          "output_type": "stream",
          "name": "stderr",
          "text": [
            "\u001b[36m(train_housing pid=28589)\u001b[0m Checkpoint successfully created at: Checkpoint(filesystem=local, path=/root/ray_results/train_housing_2025-01-15_06-36-50/train_housing_19cca_00006_6_batch_size=16,l1=256,l2=64,l3=64,lr=0.0002_2025-01-15_06-36-50/checkpoint_000003)\u001b[32m [repeated 2x across cluster]\u001b[0m\n"
          ]
        },
        {
          "output_type": "stream",
          "name": "stdout",
          "text": [
            "\u001b[36m(train_housing pid=28589)\u001b[0m [5, 100] loss: 0.4553768830001354\u001b[32m [repeated 9x across cluster]\u001b[0m\n",
            "\u001b[36m(train_housing pid=28589)\u001b[0m [5, 500] loss: 0.49183691799640655\u001b[32m [repeated 8x across cluster]\u001b[0m\n",
            "Trial status: 6 TERMINATED | 2 RUNNING | 12 PENDING\n",
            "Current time: 2025-01-15 06:40:51. Total running time: 4min 1s\n",
            "Logical resource usage: 2.0/2 CPUs, 0/0 GPUs\n",
            "Current best trial: 19cca_00000 with mse=0.41051413960158056 and params={'l1': 32, 'l2': 256, 'l3': 256, 'lr': 0.00043617427315480206, 'batch_size': 16}\n",
            "+---------------------------------------------------------------------------------------------------------------------------------+\n",
            "| Trial name                  status         l1     l2     l3            lr     batch_size     iter     total time (s)        mse |\n",
            "+---------------------------------------------------------------------------------------------------------------------------------+\n",
            "| train_housing_19cca_00006   RUNNING       256     64     64   0.000248831             16        8            59.6388   0.439069 |\n",
            "| train_housing_19cca_00007   RUNNING        32      8     16   0.000436561             16        6            38.1438   0.545759 |\n",
            "| train_housing_19cca_00000   TERMINATED     32    256    256   0.000436174             16       10            81.004    0.410514 |\n",
            "| train_housing_19cca_00001   TERMINATED     32     16     32   0.000174203             64       10            22.8515   0.666002 |\n",
            "| train_housing_19cca_00002   TERMINATED     32     16     16   0.000167417             32       10            38.1129   0.70983  |\n",
            "| train_housing_19cca_00003   TERMINATED    128     16    128   0.000106556             16       10            69.0754   0.48833  |\n",
            "| train_housing_19cca_00004   TERMINATED    128    256    128   0.000997973             32       10            44.2459   0.480692 |\n",
            "| train_housing_19cca_00005   TERMINATED     64      8    256   0.000153028             64       10            22.9471   0.638039 |\n",
            "| train_housing_19cca_00008   PENDING       256      8    128   0.000483836             64                                        |\n",
            "| train_housing_19cca_00009   PENDING       256    256     32   0.000165913             64                                        |\n",
            "| train_housing_19cca_00010   PENDING       128     32     32   0.000368354             32                                        |\n",
            "| train_housing_19cca_00011   PENDING       256     16    128   0.00064105              32                                        |\n",
            "| train_housing_19cca_00012   PENDING        16      8     16   0.000734409             32                                        |\n",
            "| train_housing_19cca_00013   PENDING        64    256      8   0.000181138             16                                        |\n",
            "| train_housing_19cca_00014   PENDING        16     32      8   0.000272381             64                                        |\n",
            "| train_housing_19cca_00015   PENDING        16    128     16   0.000236265             32                                        |\n",
            "| train_housing_19cca_00016   PENDING        16     32     64   0.000112408             64                                        |\n",
            "| train_housing_19cca_00017   PENDING        16     32     64   0.000523566             64                                        |\n",
            "| train_housing_19cca_00018   PENDING        16     32    128   0.000131733             64                                        |\n",
            "| train_housing_19cca_00019   PENDING        32      8      8   0.000937255             32                                        |\n",
            "+---------------------------------------------------------------------------------------------------------------------------------+\n",
            "\u001b[36m(train_housing pid=28589)\u001b[0m [5, 900] loss: 0.4685572259873152\u001b[32m [repeated 9x across cluster]\u001b[0m\n"
          ]
        },
        {
          "output_type": "stream",
          "name": "stderr",
          "text": [
            "\u001b[36m(train_housing pid=28838)\u001b[0m Checkpoint successfully created at: Checkpoint(filesystem=local, path=/root/ray_results/train_housing_2025-01-15_06-36-50/train_housing_19cca_00007_7_batch_size=16,l1=32,l2=8,l3=16,lr=0.0004_2025-01-15_06-36-50/checkpoint_000003)\u001b[32m [repeated 2x across cluster]\u001b[0m\n"
          ]
        },
        {
          "output_type": "stream",
          "name": "stdout",
          "text": [
            "\n",
            "Trial train_housing_19cca_00006 completed after 10 iterations at 2025-01-15 06:40:54. Total running time: 4min 4s\n",
            "+--------------------------------------------------------------+\n",
            "| Trial train_housing_19cca_00006 result                       |\n",
            "+--------------------------------------------------------------+\n",
            "| checkpoint_dir_name                        checkpoint_000004 |\n",
            "| time_this_iter_s                                     0.00465 |\n",
            "| time_total_s                                        73.43484 |\n",
            "| training_iteration                                        10 |\n",
            "| mse                                                  0.43051 |\n",
            "+--------------------------------------------------------------+\n",
            "\u001b[36m(train_housing pid=28589)\u001b[0m Finished Training\n",
            "\u001b[36m(train_housing pid=28838)\u001b[0m [5, 500] loss: 0.5333690315485\u001b[32m [repeated 5x across cluster]\u001b[0m\n",
            "\u001b[36m(train_housing pid=28838)\u001b[0m [5, 900] loss: 0.5686232766509056\u001b[32m [repeated 4x across cluster]\u001b[0m\n",
            "\n",
            "Trial train_housing_19cca_00007 completed after 10 iterations at 2025-01-15 06:41:06. Total running time: 4min 16s\n",
            "+--------------------------------------------------------------+\n",
            "| Trial train_housing_19cca_00007 result                       |\n",
            "+--------------------------------------------------------------+\n",
            "| checkpoint_dir_name                        checkpoint_000004 |\n",
            "| time_this_iter_s                                     0.00407 |\n",
            "| time_total_s                                        62.99829 |\n",
            "| training_iteration                                        10 |\n",
            "| mse                                                  0.50766 |\n",
            "+--------------------------------------------------------------+\n",
            "\u001b[36m(train_housing pid=28838)\u001b[0m Finished Training\n",
            "\n",
            "Trial train_housing_19cca_00008 started with configuration:\n",
            "+----------------------------------------------------+\n",
            "| Trial train_housing_19cca_00008 config             |\n",
            "+----------------------------------------------------+\n",
            "| batch_size                                      64 |\n",
            "| l1                                             256 |\n",
            "| l2                                               8 |\n",
            "| l3                                             128 |\n",
            "| lr                                         0.00048 |\n",
            "+----------------------------------------------------+\n"
          ]
        },
        {
          "output_type": "stream",
          "name": "stderr",
          "text": [
            "\u001b[36m(train_housing pid=28838)\u001b[0m Checkpoint successfully created at: Checkpoint(filesystem=local, path=/root/ray_results/train_housing_2025-01-15_06-36-50/train_housing_19cca_00007_7_batch_size=16,l1=32,l2=8,l3=16,lr=0.0004_2025-01-15_06-36-50/checkpoint_000004)\u001b[32m [repeated 2x across cluster]\u001b[0m\n"
          ]
        },
        {
          "output_type": "stream",
          "name": "stdout",
          "text": [
            "\u001b[36m(train_housing pid=29345)\u001b[0m [1, 100] loss: 2.824853705763817\n",
            "\u001b[36m(train_housing pid=29345)\u001b[0m [1, 200] loss: 1.0747960823774338\n"
          ]
        },
        {
          "output_type": "stream",
          "name": "stderr",
          "text": [
            "\u001b[36m(train_housing pid=29345)\u001b[0m Checkpoint successfully created at: Checkpoint(filesystem=local, path=/root/ray_results/train_housing_2025-01-15_06-36-50/train_housing_19cca_00008_8_batch_size=64,l1=256,l2=8,l3=128,lr=0.0005_2025-01-15_06-36-50/checkpoint_000000)\n"
          ]
        },
        {
          "output_type": "stream",
          "name": "stdout",
          "text": [
            "\u001b[36m(train_housing pid=29345)\u001b[0m [2, 100] loss: 0.6973529326915741\n",
            "\u001b[36m(train_housing pid=29345)\u001b[0m [2, 200] loss: 0.606024622619152\n",
            "\n",
            "Trial train_housing_19cca_00009 started with configuration:\n",
            "+----------------------------------------------------+\n",
            "| Trial train_housing_19cca_00009 config             |\n",
            "+----------------------------------------------------+\n",
            "| batch_size                                      64 |\n",
            "| l1                                             256 |\n",
            "| l2                                             256 |\n",
            "| l3                                              32 |\n",
            "| lr                                         0.00017 |\n",
            "+----------------------------------------------------+\n"
          ]
        },
        {
          "output_type": "stream",
          "name": "stderr",
          "text": [
            "\u001b[36m(train_housing pid=29345)\u001b[0m Checkpoint successfully created at: Checkpoint(filesystem=local, path=/root/ray_results/train_housing_2025-01-15_06-36-50/train_housing_19cca_00008_8_batch_size=64,l1=256,l2=8,l3=128,lr=0.0005_2025-01-15_06-36-50/checkpoint_000001)\n"
          ]
        },
        {
          "output_type": "stream",
          "name": "stdout",
          "text": [
            "\u001b[36m(train_housing pid=29345)\u001b[0m [3, 100] loss: 0.5538397762179375\n",
            "\u001b[36m(train_housing pid=29345)\u001b[0m [3, 200] loss: 0.5407907193899155\n",
            "\n",
            "Trial status: 8 TERMINATED | 2 RUNNING | 10 PENDING\n",
            "Current time: 2025-01-15 06:41:22. Total running time: 4min 31s\n",
            "Logical resource usage: 2.0/2 CPUs, 0/0 GPUs\n",
            "Current best trial: 19cca_00000 with mse=0.41051413960158056 and params={'l1': 32, 'l2': 256, 'l3': 256, 'lr': 0.00043617427315480206, 'batch_size': 16}\n",
            "+---------------------------------------------------------------------------------------------------------------------------------+\n",
            "| Trial name                  status         l1     l2     l3            lr     batch_size     iter     total time (s)        mse |\n",
            "+---------------------------------------------------------------------------------------------------------------------------------+\n",
            "| train_housing_19cca_00008   RUNNING       256      8    128   0.000483836             64        4            10.8786   0.532263 |\n",
            "| train_housing_19cca_00009   RUNNING       256    256     32   0.000165913             64                                        |\n",
            "| train_housing_19cca_00000   TERMINATED     32    256    256   0.000436174             16       10            81.004    0.410514 |\n",
            "| train_housing_19cca_00001   TERMINATED     32     16     32   0.000174203             64       10            22.8515   0.666002 |\n",
            "| train_housing_19cca_00002   TERMINATED     32     16     16   0.000167417             32       10            38.1129   0.70983  |\n",
            "| train_housing_19cca_00003   TERMINATED    128     16    128   0.000106556             16       10            69.0754   0.48833  |\n",
            "| train_housing_19cca_00004   TERMINATED    128    256    128   0.000997973             32       10            44.2459   0.480692 |\n",
            "| train_housing_19cca_00005   TERMINATED     64      8    256   0.000153028             64       10            22.9471   0.638039 |\n",
            "| train_housing_19cca_00006   TERMINATED    256     64     64   0.000248831             16       10            73.4348   0.430506 |\n",
            "| train_housing_19cca_00007   TERMINATED     32      8     16   0.000436561             16       10            62.9983   0.507663 |\n",
            "| train_housing_19cca_00010   PENDING       128     32     32   0.000368354             32                                        |\n",
            "| train_housing_19cca_00011   PENDING       256     16    128   0.00064105              32                                        |\n",
            "| train_housing_19cca_00012   PENDING        16      8     16   0.000734409             32                                        |\n",
            "| train_housing_19cca_00013   PENDING        64    256      8   0.000181138             16                                        |\n",
            "| train_housing_19cca_00014   PENDING        16     32      8   0.000272381             64                                        |\n",
            "| train_housing_19cca_00015   PENDING        16    128     16   0.000236265             32                                        |\n",
            "| train_housing_19cca_00016   PENDING        16     32     64   0.000112408             64                                        |\n",
            "| train_housing_19cca_00017   PENDING        16     32     64   0.000523566             64                                        |\n",
            "| train_housing_19cca_00018   PENDING        16     32    128   0.000131733             64                                        |\n",
            "| train_housing_19cca_00019   PENDING        32      8      8   0.000937255             32                                        |\n",
            "+---------------------------------------------------------------------------------------------------------------------------------+\n"
          ]
        },
        {
          "output_type": "stream",
          "name": "stderr",
          "text": [
            "\u001b[36m(train_housing pid=29345)\u001b[0m Checkpoint successfully created at: Checkpoint(filesystem=local, path=/root/ray_results/train_housing_2025-01-15_06-36-50/train_housing_19cca_00008_8_batch_size=64,l1=256,l2=8,l3=128,lr=0.0005_2025-01-15_06-36-50/checkpoint_000002)\n",
            "\u001b[36m(train_housing pid=29345)\u001b[0m Checkpoint successfully created at: Checkpoint(filesystem=local, path=/root/ray_results/train_housing_2025-01-15_06-36-50/train_housing_19cca_00008_8_batch_size=64,l1=256,l2=8,l3=128,lr=0.0005_2025-01-15_06-36-50/checkpoint_000003)\n"
          ]
        },
        {
          "output_type": "stream",
          "name": "stdout",
          "text": [
            "\u001b[36m(train_housing pid=29345)\u001b[0m [5, 100] loss: 0.5063288766145706\u001b[32m [repeated 5x across cluster]\u001b[0m\n",
            "\n",
            "Trial train_housing_19cca_00008 completed after 10 iterations at 2025-01-15 06:41:28. Total running time: 4min 38s\n",
            "+--------------------------------------------------------------+\n",
            "| Trial train_housing_19cca_00008 result                       |\n",
            "+--------------------------------------------------------------+\n",
            "| checkpoint_dir_name                        checkpoint_000004 |\n",
            "| time_this_iter_s                                     0.00491 |\n",
            "| time_total_s                                        22.26878 |\n",
            "| training_iteration                                        10 |\n",
            "| mse                                                  0.46905 |\n",
            "+--------------------------------------------------------------+\n",
            "\u001b[36m(train_housing pid=29345)\u001b[0m Finished Training\n",
            "\u001b[36m(train_housing pid=29469)\u001b[0m [3, 100] loss: 0.5980340990424157\u001b[32m [repeated 4x across cluster]\u001b[0m\n"
          ]
        },
        {
          "output_type": "stream",
          "name": "stderr",
          "text": [
            "\u001b[36m(train_housing pid=29469)\u001b[0m Checkpoint successfully created at: Checkpoint(filesystem=local, path=/root/ray_results/train_housing_2025-01-15_06-36-50/train_housing_19cca_00009_9_batch_size=64,l1=256,l2=256,l3=32,lr=0.0002_2025-01-15_06-36-50/checkpoint_000002)\u001b[32m [repeated 4x across cluster]\u001b[0m\n"
          ]
        },
        {
          "output_type": "stream",
          "name": "stdout",
          "text": [
            "\u001b[36m(train_housing pid=29469)\u001b[0m [4, 100] loss: 0.5409074941277504\u001b[32m [repeated 2x across cluster]\u001b[0m\n",
            "\n",
            "Trial train_housing_19cca_00010 started with configuration:\n",
            "+----------------------------------------------------+\n",
            "| Trial train_housing_19cca_00010 config             |\n",
            "+----------------------------------------------------+\n",
            "| batch_size                                      32 |\n",
            "| l1                                             128 |\n",
            "| l2                                              32 |\n",
            "| l3                                              32 |\n",
            "| lr                                         0.00037 |\n",
            "+----------------------------------------------------+\n",
            "\n",
            "Trial train_housing_19cca_00009 completed after 10 iterations at 2025-01-15 06:41:44. Total running time: 4min 54s\n",
            "+--------------------------------------------------------------+\n",
            "| Trial train_housing_19cca_00009 result                       |\n",
            "+--------------------------------------------------------------+\n",
            "| checkpoint_dir_name                        checkpoint_000004 |\n",
            "| time_this_iter_s                                     0.00583 |\n",
            "| time_total_s                                         28.2262 |\n",
            "| training_iteration                                        10 |\n",
            "| mse                                                  0.48461 |\n",
            "+--------------------------------------------------------------+\n",
            "\u001b[36m(train_housing pid=29469)\u001b[0m Finished Training\n",
            "\u001b[36m(train_housing pid=29469)\u001b[0m [5, 200] loss: 0.5232128179073334\u001b[32m [repeated 3x across cluster]\u001b[0m\n"
          ]
        },
        {
          "output_type": "stream",
          "name": "stderr",
          "text": [
            "\u001b[36m(train_housing pid=29469)\u001b[0m Checkpoint successfully created at: Checkpoint(filesystem=local, path=/root/ray_results/train_housing_2025-01-15_06-36-50/train_housing_19cca_00009_9_batch_size=64,l1=256,l2=256,l3=32,lr=0.0002_2025-01-15_06-36-50/checkpoint_000004)\u001b[32m [repeated 2x across cluster]\u001b[0m\n"
          ]
        },
        {
          "output_type": "stream",
          "name": "stdout",
          "text": [
            "\u001b[36m(train_housing pid=29778)\u001b[0m [1, 400] loss: 0.7374819713830948\u001b[32m [repeated 4x across cluster]\u001b[0m\n",
            "\n",
            "Trial status: 10 TERMINATED | 1 RUNNING | 9 PENDING\n",
            "Current time: 2025-01-15 06:41:52. Total running time: 5min 1s\n",
            "Logical resource usage: 2.0/2 CPUs, 0/0 GPUs\n",
            "Current best trial: 19cca_00000 with mse=0.41051413960158056 and params={'l1': 32, 'l2': 256, 'l3': 256, 'lr': 0.00043617427315480206, 'batch_size': 16}\n",
            "+---------------------------------------------------------------------------------------------------------------------------------+\n",
            "| Trial name                  status         l1     l2     l3            lr     batch_size     iter     total time (s)        mse |\n",
            "+---------------------------------------------------------------------------------------------------------------------------------+\n",
            "| train_housing_19cca_00010   RUNNING       128     32     32   0.000368354             32                                        |\n",
            "| train_housing_19cca_00000   TERMINATED     32    256    256   0.000436174             16       10            81.004    0.410514 |\n",
            "| train_housing_19cca_00001   TERMINATED     32     16     32   0.000174203             64       10            22.8515   0.666002 |\n",
            "| train_housing_19cca_00002   TERMINATED     32     16     16   0.000167417             32       10            38.1129   0.70983  |\n",
            "| train_housing_19cca_00003   TERMINATED    128     16    128   0.000106556             16       10            69.0754   0.48833  |\n",
            "| train_housing_19cca_00004   TERMINATED    128    256    128   0.000997973             32       10            44.2459   0.480692 |\n",
            "| train_housing_19cca_00005   TERMINATED     64      8    256   0.000153028             64       10            22.9471   0.638039 |\n",
            "| train_housing_19cca_00006   TERMINATED    256     64     64   0.000248831             16       10            73.4348   0.430506 |\n",
            "| train_housing_19cca_00007   TERMINATED     32      8     16   0.000436561             16       10            62.9983   0.507663 |\n",
            "| train_housing_19cca_00008   TERMINATED    256      8    128   0.000483836             64       10            22.2688   0.46905  |\n",
            "| train_housing_19cca_00009   TERMINATED    256    256     32   0.000165913             64       10            28.2262   0.484612 |\n",
            "| train_housing_19cca_00011   PENDING       256     16    128   0.00064105              32                                        |\n",
            "| train_housing_19cca_00012   PENDING        16      8     16   0.000734409             32                                        |\n",
            "| train_housing_19cca_00013   PENDING        64    256      8   0.000181138             16                                        |\n",
            "| train_housing_19cca_00014   PENDING        16     32      8   0.000272381             64                                        |\n",
            "| train_housing_19cca_00015   PENDING        16    128     16   0.000236265             32                                        |\n",
            "| train_housing_19cca_00016   PENDING        16     32     64   0.000112408             64                                        |\n",
            "| train_housing_19cca_00017   PENDING        16     32     64   0.000523566             64                                        |\n",
            "| train_housing_19cca_00018   PENDING        16     32    128   0.000131733             64                                        |\n",
            "| train_housing_19cca_00019   PENDING        32      8      8   0.000937255             32                                        |\n",
            "+---------------------------------------------------------------------------------------------------------------------------------+\n"
          ]
        },
        {
          "output_type": "stream",
          "name": "stderr",
          "text": [
            "\u001b[36m(train_housing pid=29778)\u001b[0m Checkpoint successfully created at: Checkpoint(filesystem=local, path=/root/ray_results/train_housing_2025-01-15_06-36-50/train_housing_19cca_00010_10_batch_size=32,l1=128,l2=32,l3=32,lr=0.0004_2025-01-15_06-36-51/checkpoint_000000)\n"
          ]
        },
        {
          "output_type": "stream",
          "name": "stdout",
          "text": [
            "\u001b[36m(train_housing pid=29778)\u001b[0m [2, 300] loss: 0.537588709294796\u001b[32m [repeated 3x across cluster]\u001b[0m\n",
            "\n",
            "Trial train_housing_19cca_00011 started with configuration:\n",
            "+----------------------------------------------------+\n",
            "| Trial train_housing_19cca_00011 config             |\n",
            "+----------------------------------------------------+\n",
            "| batch_size                                      32 |\n",
            "| l1                                             256 |\n",
            "| l2                                              16 |\n",
            "| l3                                             128 |\n",
            "| lr                                         0.00064 |\n",
            "+----------------------------------------------------+\n"
          ]
        },
        {
          "output_type": "stream",
          "name": "stderr",
          "text": [
            "\u001b[36m(train_housing pid=29778)\u001b[0m Checkpoint successfully created at: Checkpoint(filesystem=local, path=/root/ray_results/train_housing_2025-01-15_06-36-50/train_housing_19cca_00010_10_batch_size=32,l1=128,l2=32,l3=32,lr=0.0004_2025-01-15_06-36-51/checkpoint_000001)\n"
          ]
        },
        {
          "output_type": "stream",
          "name": "stdout",
          "text": [
            "\u001b[36m(train_housing pid=29778)\u001b[0m [3, 300] loss: 0.5548232236504554\u001b[32m [repeated 5x across cluster]\u001b[0m\n"
          ]
        },
        {
          "output_type": "stream",
          "name": "stderr",
          "text": [
            "\u001b[36m(train_housing pid=29778)\u001b[0m Checkpoint successfully created at: Checkpoint(filesystem=local, path=/root/ray_results/train_housing_2025-01-15_06-36-50/train_housing_19cca_00010_10_batch_size=32,l1=128,l2=32,l3=32,lr=0.0004_2025-01-15_06-36-51/checkpoint_000002)\n",
            "\u001b[36m(train_housing pid=29969)\u001b[0m Checkpoint successfully created at: Checkpoint(filesystem=local, path=/root/ray_results/train_housing_2025-01-15_06-36-50/train_housing_19cca_00011_11_batch_size=32,l1=256,l2=16,l3=128,lr=0.0006_2025-01-15_06-36-51/checkpoint_000000)\n"
          ]
        },
        {
          "output_type": "stream",
          "name": "stdout",
          "text": [
            "\u001b[36m(train_housing pid=29778)\u001b[0m [4, 200] loss: 0.5383782079815864\u001b[32m [repeated 6x across cluster]\u001b[0m\n"
          ]
        },
        {
          "output_type": "stream",
          "name": "stderr",
          "text": [
            "\u001b[36m(train_housing pid=29778)\u001b[0m Checkpoint successfully created at: Checkpoint(filesystem=local, path=/root/ray_results/train_housing_2025-01-15_06-36-50/train_housing_19cca_00010_10_batch_size=32,l1=128,l2=32,l3=32,lr=0.0004_2025-01-15_06-36-51/checkpoint_000003)\n",
            "\u001b[36m(train_housing pid=29969)\u001b[0m Checkpoint successfully created at: Checkpoint(filesystem=local, path=/root/ray_results/train_housing_2025-01-15_06-36-50/train_housing_19cca_00011_11_batch_size=32,l1=256,l2=16,l3=128,lr=0.0006_2025-01-15_06-36-51/checkpoint_000001)\n"
          ]
        },
        {
          "output_type": "stream",
          "name": "stdout",
          "text": [
            "\u001b[36m(train_housing pid=29778)\u001b[0m [5, 200] loss: 0.49565575897693637\u001b[32m [repeated 8x across cluster]\u001b[0m\n",
            "\n",
            "Trial train_housing_19cca_00010 completed after 10 iterations at 2025-01-15 06:42:17. Total running time: 5min 27s\n",
            "+--------------------------------------------------------------+\n",
            "| Trial train_housing_19cca_00010 result                       |\n",
            "+--------------------------------------------------------------+\n",
            "| checkpoint_dir_name                        checkpoint_000004 |\n",
            "| time_this_iter_s                                     0.00923 |\n",
            "| time_total_s                                        36.32198 |\n",
            "| training_iteration                                        10 |\n",
            "| mse                                                  0.46346 |\n",
            "+--------------------------------------------------------------+\n",
            "\u001b[36m(train_housing pid=29778)\u001b[0m Finished Training\n"
          ]
        },
        {
          "output_type": "stream",
          "name": "stderr",
          "text": [
            "\u001b[36m(train_housing pid=29969)\u001b[0m Checkpoint successfully created at: Checkpoint(filesystem=local, path=/root/ray_results/train_housing_2025-01-15_06-36-50/train_housing_19cca_00011_11_batch_size=32,l1=256,l2=16,l3=128,lr=0.0006_2025-01-15_06-36-51/checkpoint_000002)\u001b[32m [repeated 2x across cluster]\u001b[0m\n"
          ]
        },
        {
          "output_type": "stream",
          "name": "stdout",
          "text": [
            "\n",
            "Trial status: 11 TERMINATED | 1 RUNNING | 8 PENDING\n",
            "Current time: 2025-01-15 06:42:22. Total running time: 5min 31s\n",
            "Logical resource usage: 2.0/2 CPUs, 0/0 GPUs\n",
            "Current best trial: 19cca_00000 with mse=0.41051413960158056 and params={'l1': 32, 'l2': 256, 'l3': 256, 'lr': 0.00043617427315480206, 'batch_size': 16}\n",
            "+---------------------------------------------------------------------------------------------------------------------------------+\n",
            "| Trial name                  status         l1     l2     l3            lr     batch_size     iter     total time (s)        mse |\n",
            "+---------------------------------------------------------------------------------------------------------------------------------+\n",
            "| train_housing_19cca_00011   RUNNING       256     16    128   0.00064105              32        6            23.4086   0.461275 |\n",
            "| train_housing_19cca_00000   TERMINATED     32    256    256   0.000436174             16       10            81.004    0.410514 |\n",
            "| train_housing_19cca_00001   TERMINATED     32     16     32   0.000174203             64       10            22.8515   0.666002 |\n",
            "| train_housing_19cca_00002   TERMINATED     32     16     16   0.000167417             32       10            38.1129   0.70983  |\n",
            "| train_housing_19cca_00003   TERMINATED    128     16    128   0.000106556             16       10            69.0754   0.48833  |\n",
            "| train_housing_19cca_00004   TERMINATED    128    256    128   0.000997973             32       10            44.2459   0.480692 |\n",
            "| train_housing_19cca_00005   TERMINATED     64      8    256   0.000153028             64       10            22.9471   0.638039 |\n",
            "| train_housing_19cca_00006   TERMINATED    256     64     64   0.000248831             16       10            73.4348   0.430506 |\n",
            "| train_housing_19cca_00007   TERMINATED     32      8     16   0.000436561             16       10            62.9983   0.507663 |\n",
            "| train_housing_19cca_00008   TERMINATED    256      8    128   0.000483836             64       10            22.2688   0.46905  |\n",
            "| train_housing_19cca_00009   TERMINATED    256    256     32   0.000165913             64       10            28.2262   0.484612 |\n",
            "| train_housing_19cca_00010   TERMINATED    128     32     32   0.000368354             32       10            36.322    0.463456 |\n",
            "| train_housing_19cca_00012   PENDING        16      8     16   0.000734409             32                                        |\n",
            "| train_housing_19cca_00013   PENDING        64    256      8   0.000181138             16                                        |\n",
            "| train_housing_19cca_00014   PENDING        16     32      8   0.000272381             64                                        |\n",
            "| train_housing_19cca_00015   PENDING        16    128     16   0.000236265             32                                        |\n",
            "| train_housing_19cca_00016   PENDING        16     32     64   0.000112408             64                                        |\n",
            "| train_housing_19cca_00017   PENDING        16     32     64   0.000523566             64                                        |\n",
            "| train_housing_19cca_00018   PENDING        16     32    128   0.000131733             64                                        |\n",
            "| train_housing_19cca_00019   PENDING        32      8      8   0.000937255             32                                        |\n",
            "+---------------------------------------------------------------------------------------------------------------------------------+\n",
            "\u001b[36m(train_housing pid=29969)\u001b[0m [4, 100] loss: 0.4834985160827637\u001b[32m [repeated 7x across cluster]\u001b[0m\n"
          ]
        },
        {
          "output_type": "stream",
          "name": "stderr",
          "text": [
            "\u001b[36m(train_housing pid=29969)\u001b[0m Checkpoint successfully created at: Checkpoint(filesystem=local, path=/root/ray_results/train_housing_2025-01-15_06-36-50/train_housing_19cca_00011_11_batch_size=32,l1=256,l2=16,l3=128,lr=0.0006_2025-01-15_06-36-51/checkpoint_000003)\n"
          ]
        },
        {
          "output_type": "stream",
          "name": "stdout",
          "text": [
            "\u001b[36m(train_housing pid=29969)\u001b[0m [5, 100] loss: 0.44716423511505127\u001b[32m [repeated 4x across cluster]\u001b[0m\n",
            "\n",
            "Trial train_housing_19cca_00012 started with configuration:\n",
            "+----------------------------------------------------+\n",
            "| Trial train_housing_19cca_00012 config             |\n",
            "+----------------------------------------------------+\n",
            "| batch_size                                      32 |\n",
            "| l1                                              16 |\n",
            "| l2                                               8 |\n",
            "| l3                                              16 |\n",
            "| lr                                         0.00073 |\n",
            "+----------------------------------------------------+\n",
            "\n",
            "Trial train_housing_19cca_00011 completed after 10 iterations at 2025-01-15 06:42:33. Total running time: 5min 43s\n",
            "+--------------------------------------------------------------+\n",
            "| Trial train_housing_19cca_00011 result                       |\n",
            "+--------------------------------------------------------------+\n",
            "| checkpoint_dir_name                        checkpoint_000004 |\n",
            "| time_this_iter_s                                     0.00447 |\n",
            "| time_total_s                                        37.09945 |\n",
            "| training_iteration                                        10 |\n",
            "| mse                                                  0.44056 |\n",
            "+--------------------------------------------------------------+\n",
            "\u001b[36m(train_housing pid=29969)\u001b[0m Finished Training\n"
          ]
        },
        {
          "output_type": "stream",
          "name": "stderr",
          "text": [
            "\u001b[36m(train_housing pid=29969)\u001b[0m Checkpoint successfully created at: Checkpoint(filesystem=local, path=/root/ray_results/train_housing_2025-01-15_06-36-50/train_housing_19cca_00011_11_batch_size=32,l1=256,l2=16,l3=128,lr=0.0006_2025-01-15_06-36-51/checkpoint_000004)\n"
          ]
        },
        {
          "output_type": "stream",
          "name": "stdout",
          "text": [
            "\u001b[36m(train_housing pid=30333)\u001b[0m [1, 200] loss: 1.98828950881958\u001b[32m [repeated 5x across cluster]\u001b[0m\n",
            "\u001b[36m(train_housing pid=30333)\u001b[0m [1, 400] loss: 1.1934983932971954\u001b[32m [repeated 2x across cluster]\u001b[0m\n"
          ]
        },
        {
          "output_type": "stream",
          "name": "stderr",
          "text": [
            "\u001b[36m(train_housing pid=30333)\u001b[0m Checkpoint successfully created at: Checkpoint(filesystem=local, path=/root/ray_results/train_housing_2025-01-15_06-36-50/train_housing_19cca_00012_12_batch_size=32,l1=16,l2=8,l3=16,lr=0.0007_2025-01-15_06-36-51/checkpoint_000000)\n"
          ]
        },
        {
          "output_type": "stream",
          "name": "stdout",
          "text": [
            "\n",
            "Trial train_housing_19cca_00013 started with configuration:\n",
            "+----------------------------------------------------+\n",
            "| Trial train_housing_19cca_00013 config             |\n",
            "+----------------------------------------------------+\n",
            "| batch_size                                      16 |\n",
            "| l1                                              64 |\n",
            "| l2                                             256 |\n",
            "| l3                                               8 |\n",
            "| lr                                         0.00018 |\n",
            "+----------------------------------------------------+\n",
            "\u001b[36m(train_housing pid=30333)\u001b[0m [2, 400] loss: 0.7170225867629051\u001b[32m [repeated 4x across cluster]\u001b[0m\n"
          ]
        },
        {
          "output_type": "stream",
          "name": "stderr",
          "text": [
            "\u001b[36m(train_housing pid=30333)\u001b[0m Checkpoint successfully created at: Checkpoint(filesystem=local, path=/root/ray_results/train_housing_2025-01-15_06-36-50/train_housing_19cca_00012_12_batch_size=32,l1=16,l2=8,l3=16,lr=0.0007_2025-01-15_06-36-51/checkpoint_000001)\n"
          ]
        },
        {
          "output_type": "stream",
          "name": "stdout",
          "text": [
            "\u001b[36m(train_housing pid=30500)\u001b[0m [1, 300] loss: 1.313706881403923\u001b[32m [repeated 6x across cluster]\u001b[0m\n",
            "\n",
            "Trial status: 12 TERMINATED | 2 RUNNING | 6 PENDING\n",
            "Current time: 2025-01-15 06:42:52. Total running time: 6min 2s\n",
            "Logical resource usage: 2.0/2 CPUs, 0/0 GPUs\n",
            "Current best trial: 19cca_00000 with mse=0.41051413960158056 and params={'l1': 32, 'l2': 256, 'l3': 256, 'lr': 0.00043617427315480206, 'batch_size': 16}\n",
            "+---------------------------------------------------------------------------------------------------------------------------------+\n",
            "| Trial name                  status         l1     l2     l3            lr     batch_size     iter     total time (s)        mse |\n",
            "+---------------------------------------------------------------------------------------------------------------------------------+\n",
            "| train_housing_19cca_00012   RUNNING        16      8     16   0.000734409             32        4            17.3891   0.586546 |\n",
            "| train_housing_19cca_00013   RUNNING        64    256      8   0.000181138             16                                        |\n",
            "| train_housing_19cca_00000   TERMINATED     32    256    256   0.000436174             16       10            81.004    0.410514 |\n",
            "| train_housing_19cca_00001   TERMINATED     32     16     32   0.000174203             64       10            22.8515   0.666002 |\n",
            "| train_housing_19cca_00002   TERMINATED     32     16     16   0.000167417             32       10            38.1129   0.70983  |\n",
            "| train_housing_19cca_00003   TERMINATED    128     16    128   0.000106556             16       10            69.0754   0.48833  |\n",
            "| train_housing_19cca_00004   TERMINATED    128    256    128   0.000997973             32       10            44.2459   0.480692 |\n",
            "| train_housing_19cca_00005   TERMINATED     64      8    256   0.000153028             64       10            22.9471   0.638039 |\n",
            "| train_housing_19cca_00006   TERMINATED    256     64     64   0.000248831             16       10            73.4348   0.430506 |\n",
            "| train_housing_19cca_00007   TERMINATED     32      8     16   0.000436561             16       10            62.9983   0.507663 |\n",
            "| train_housing_19cca_00008   TERMINATED    256      8    128   0.000483836             64       10            22.2688   0.46905  |\n",
            "| train_housing_19cca_00009   TERMINATED    256    256     32   0.000165913             64       10            28.2262   0.484612 |\n",
            "| train_housing_19cca_00010   TERMINATED    128     32     32   0.000368354             32       10            36.322    0.463456 |\n",
            "| train_housing_19cca_00011   TERMINATED    256     16    128   0.00064105              32       10            37.0994   0.440563 |\n",
            "| train_housing_19cca_00014   PENDING        16     32      8   0.000272381             64                                        |\n",
            "| train_housing_19cca_00015   PENDING        16    128     16   0.000236265             32                                        |\n",
            "| train_housing_19cca_00016   PENDING        16     32     64   0.000112408             64                                        |\n",
            "| train_housing_19cca_00017   PENDING        16     32     64   0.000523566             64                                        |\n",
            "| train_housing_19cca_00018   PENDING        16     32    128   0.000131733             64                                        |\n",
            "| train_housing_19cca_00019   PENDING        32      8      8   0.000937255             32                                        |\n",
            "+---------------------------------------------------------------------------------------------------------------------------------+\n"
          ]
        },
        {
          "output_type": "stream",
          "name": "stderr",
          "text": [
            "\u001b[36m(train_housing pid=30333)\u001b[0m Checkpoint successfully created at: Checkpoint(filesystem=local, path=/root/ray_results/train_housing_2025-01-15_06-36-50/train_housing_19cca_00012_12_batch_size=32,l1=16,l2=8,l3=16,lr=0.0007_2025-01-15_06-36-51/checkpoint_000002)\n"
          ]
        },
        {
          "output_type": "stream",
          "name": "stdout",
          "text": [
            "\u001b[36m(train_housing pid=30500)\u001b[0m [1, 600] loss: 1.1490925151109694\u001b[32m [repeated 5x across cluster]\u001b[0m\n"
          ]
        },
        {
          "output_type": "stream",
          "name": "stderr",
          "text": [
            "\u001b[36m(train_housing pid=30333)\u001b[0m Checkpoint successfully created at: Checkpoint(filesystem=local, path=/root/ray_results/train_housing_2025-01-15_06-36-50/train_housing_19cca_00012_12_batch_size=32,l1=16,l2=8,l3=16,lr=0.0007_2025-01-15_06-36-51/checkpoint_000003)\n"
          ]
        },
        {
          "output_type": "stream",
          "name": "stdout",
          "text": [
            "\u001b[36m(train_housing pid=30333)\u001b[0m [5, 200] loss: 0.546441655009985\u001b[32m [repeated 8x across cluster]\u001b[0m\n",
            "\n",
            "Trial train_housing_19cca_00012 completed after 10 iterations at 2025-01-15 06:43:05. Total running time: 6min 15s\n",
            "+--------------------------------------------------------------+\n",
            "| Trial train_housing_19cca_00012 result                       |\n",
            "+--------------------------------------------------------------+\n",
            "| checkpoint_dir_name                        checkpoint_000004 |\n",
            "| time_this_iter_s                                     0.00946 |\n",
            "| time_total_s                                        35.58863 |\n",
            "| training_iteration                                        10 |\n",
            "| mse                                                  0.52281 |\n",
            "+--------------------------------------------------------------+\n",
            "\u001b[36m(train_housing pid=30333)\u001b[0m Finished Training\n"
          ]
        },
        {
          "output_type": "stream",
          "name": "stderr",
          "text": [
            "\u001b[36m(train_housing pid=30333)\u001b[0m Checkpoint successfully created at: Checkpoint(filesystem=local, path=/root/ray_results/train_housing_2025-01-15_06-36-50/train_housing_19cca_00012_12_batch_size=32,l1=16,l2=8,l3=16,lr=0.0007_2025-01-15_06-36-51/checkpoint_000004)\u001b[32m [repeated 2x across cluster]\u001b[0m\n"
          ]
        },
        {
          "output_type": "stream",
          "name": "stdout",
          "text": [
            "\u001b[36m(train_housing pid=30500)\u001b[0m [2, 600] loss: 0.5569499468803406\u001b[32m [repeated 8x across cluster]\u001b[0m\n",
            "\u001b[36m(train_housing pid=30500)\u001b[0m [2, 800] loss: 0.5076701699197292\u001b[32m [repeated 2x across cluster]\u001b[0m\n"
          ]
        },
        {
          "output_type": "stream",
          "name": "stderr",
          "text": [
            "\u001b[36m(train_housing pid=30500)\u001b[0m Checkpoint successfully created at: Checkpoint(filesystem=local, path=/root/ray_results/train_housing_2025-01-15_06-36-50/train_housing_19cca_00013_13_batch_size=16,l1=64,l2=256,l3=8,lr=0.0002_2025-01-15_06-36-51/checkpoint_000001)\n"
          ]
        },
        {
          "output_type": "stream",
          "name": "stdout",
          "text": [
            "\n",
            "Trial train_housing_19cca_00014 started with configuration:\n",
            "+----------------------------------------------------+\n",
            "| Trial train_housing_19cca_00014 config             |\n",
            "+----------------------------------------------------+\n",
            "| batch_size                                      64 |\n",
            "| l1                                              16 |\n",
            "| l2                                              32 |\n",
            "| l3                                               8 |\n",
            "| lr                                         0.00027 |\n",
            "+----------------------------------------------------+\n",
            "\u001b[36m(train_housing pid=30500)\u001b[0m [3, 300] loss: 0.5263418456912041\u001b[32m [repeated 4x across cluster]\u001b[0m\n",
            "\n",
            "Trial status: 13 TERMINATED | 2 RUNNING | 5 PENDING\n",
            "Current time: 2025-01-15 06:43:22. Total running time: 6min 32s\n",
            "Logical resource usage: 2.0/2 CPUs, 0/0 GPUs\n",
            "Current best trial: 19cca_00000 with mse=0.41051413960158056 and params={'l1': 32, 'l2': 256, 'l3': 256, 'lr': 0.00043617427315480206, 'batch_size': 16}\n",
            "+---------------------------------------------------------------------------------------------------------------------------------+\n",
            "| Trial name                  status         l1     l2     l3            lr     batch_size     iter     total time (s)        mse |\n",
            "+---------------------------------------------------------------------------------------------------------------------------------+\n",
            "| train_housing_19cca_00013   RUNNING        64    256      8   0.000181138             16        4            31.1428   0.51415  |\n",
            "| train_housing_19cca_00014   RUNNING        16     32      8   0.000272381             64                                        |\n",
            "| train_housing_19cca_00000   TERMINATED     32    256    256   0.000436174             16       10            81.004    0.410514 |\n",
            "| train_housing_19cca_00001   TERMINATED     32     16     32   0.000174203             64       10            22.8515   0.666002 |\n",
            "| train_housing_19cca_00002   TERMINATED     32     16     16   0.000167417             32       10            38.1129   0.70983  |\n",
            "| train_housing_19cca_00003   TERMINATED    128     16    128   0.000106556             16       10            69.0754   0.48833  |\n",
            "| train_housing_19cca_00004   TERMINATED    128    256    128   0.000997973             32       10            44.2459   0.480692 |\n",
            "| train_housing_19cca_00005   TERMINATED     64      8    256   0.000153028             64       10            22.9471   0.638039 |\n",
            "| train_housing_19cca_00006   TERMINATED    256     64     64   0.000248831             16       10            73.4348   0.430506 |\n",
            "| train_housing_19cca_00007   TERMINATED     32      8     16   0.000436561             16       10            62.9983   0.507663 |\n",
            "| train_housing_19cca_00008   TERMINATED    256      8    128   0.000483836             64       10            22.2688   0.46905  |\n",
            "| train_housing_19cca_00009   TERMINATED    256    256     32   0.000165913             64       10            28.2262   0.484612 |\n",
            "| train_housing_19cca_00010   TERMINATED    128     32     32   0.000368354             32       10            36.322    0.463456 |\n",
            "| train_housing_19cca_00011   TERMINATED    256     16    128   0.00064105              32       10            37.0994   0.440563 |\n",
            "| train_housing_19cca_00012   TERMINATED     16      8     16   0.000734409             32       10            35.5886   0.522814 |\n",
            "| train_housing_19cca_00015   PENDING        16    128     16   0.000236265             32                                        |\n",
            "| train_housing_19cca_00016   PENDING        16     32     64   0.000112408             64                                        |\n",
            "| train_housing_19cca_00017   PENDING        16     32     64   0.000523566             64                                        |\n",
            "| train_housing_19cca_00018   PENDING        16     32    128   0.000131733             64                                        |\n",
            "| train_housing_19cca_00019   PENDING        32      8      8   0.000937255             32                                        |\n",
            "+---------------------------------------------------------------------------------------------------------------------------------+\n",
            "\u001b[36m(train_housing pid=30500)\u001b[0m [3, 800] loss: 0.5800399899482727\u001b[32m [repeated 7x across cluster]\u001b[0m\n"
          ]
        },
        {
          "output_type": "stream",
          "name": "stderr",
          "text": [
            "\u001b[36m(train_housing pid=30824)\u001b[0m Checkpoint successfully created at: Checkpoint(filesystem=local, path=/root/ray_results/train_housing_2025-01-15_06-36-50/train_housing_19cca_00014_14_batch_size=64,l1=16,l2=32,l3=8,lr=0.0003_2025-01-15_06-36-51/checkpoint_000000)\n"
          ]
        },
        {
          "output_type": "stream",
          "name": "stdout",
          "text": [
            "\u001b[36m(train_housing pid=30500)\u001b[0m [4, 100] loss: 0.5975530780851841\u001b[32m [repeated 4x across cluster]\u001b[0m\n"
          ]
        },
        {
          "output_type": "stream",
          "name": "stderr",
          "text": [
            "\u001b[36m(train_housing pid=30824)\u001b[0m Checkpoint successfully created at: Checkpoint(filesystem=local, path=/root/ray_results/train_housing_2025-01-15_06-36-50/train_housing_19cca_00014_14_batch_size=64,l1=16,l2=32,l3=8,lr=0.0003_2025-01-15_06-36-51/checkpoint_000002)\u001b[32m [repeated 3x across cluster]\u001b[0m\n"
          ]
        },
        {
          "output_type": "stream",
          "name": "stdout",
          "text": [
            "\u001b[36m(train_housing pid=30500)\u001b[0m [4, 600] loss: 0.49952441699802874\u001b[32m [repeated 9x across cluster]\u001b[0m\n",
            "\n",
            "Trial train_housing_19cca_00014 completed after 10 iterations at 2025-01-15 06:43:38. Total running time: 6min 48s\n",
            "+--------------------------------------------------------------+\n",
            "| Trial train_housing_19cca_00014 result                       |\n",
            "+--------------------------------------------------------------+\n",
            "| checkpoint_dir_name                        checkpoint_000004 |\n",
            "| time_this_iter_s                                     0.00678 |\n",
            "| time_total_s                                        20.45662 |\n",
            "| training_iteration                                        10 |\n",
            "| mse                                                  0.75838 |\n",
            "+--------------------------------------------------------------+\n",
            "\u001b[36m(train_housing pid=30824)\u001b[0m Finished Training\n"
          ]
        },
        {
          "output_type": "stream",
          "name": "stderr",
          "text": [
            "\u001b[36m(train_housing pid=30824)\u001b[0m Checkpoint successfully created at: Checkpoint(filesystem=local, path=/root/ray_results/train_housing_2025-01-15_06-36-50/train_housing_19cca_00014_14_batch_size=64,l1=16,l2=32,l3=8,lr=0.0003_2025-01-15_06-36-51/checkpoint_000004)\u001b[32m [repeated 2x across cluster]\u001b[0m\n",
            "\u001b[36m(train_housing pid=30500)\u001b[0m Checkpoint successfully created at: Checkpoint(filesystem=local, path=/root/ray_results/train_housing_2025-01-15_06-36-50/train_housing_19cca_00013_13_batch_size=16,l1=64,l2=256,l3=8,lr=0.0002_2025-01-15_06-36-51/checkpoint_000003)\n"
          ]
        },
        {
          "output_type": "stream",
          "name": "stdout",
          "text": [
            "\u001b[36m(train_housing pid=30500)\u001b[0m [5, 100] loss: 0.5131307468563319\u001b[32m [repeated 6x across cluster]\u001b[0m\n",
            "\n",
            "Trial train_housing_19cca_00015 started with configuration:\n",
            "+----------------------------------------------------+\n",
            "| Trial train_housing_19cca_00015 config             |\n",
            "+----------------------------------------------------+\n",
            "| batch_size                                      32 |\n",
            "| l1                                              16 |\n",
            "| l2                                             128 |\n",
            "| l3                                              16 |\n",
            "| lr                                         0.00024 |\n",
            "+----------------------------------------------------+\n",
            "\u001b[36m(train_housing pid=30500)\u001b[0m [5, 700] loss: 0.4582758989185095\u001b[32m [repeated 6x across cluster]\u001b[0m\n",
            "\n",
            "Trial status: 14 TERMINATED | 2 RUNNING | 4 PENDING\n",
            "Current time: 2025-01-15 06:43:52. Total running time: 7min 2s\n",
            "Logical resource usage: 2.0/2 CPUs, 0/0 GPUs\n",
            "Current best trial: 19cca_00000 with mse=0.41051413960158056 and params={'l1': 32, 'l2': 256, 'l3': 256, 'lr': 0.00043617427315480206, 'batch_size': 16}\n",
            "+---------------------------------------------------------------------------------------------------------------------------------+\n",
            "| Trial name                  status         l1     l2     l3            lr     batch_size     iter     total time (s)        mse |\n",
            "+---------------------------------------------------------------------------------------------------------------------------------+\n",
            "| train_housing_19cca_00013   RUNNING        64    256      8   0.000181138             16        8            60.0134   0.488234 |\n",
            "| train_housing_19cca_00015   RUNNING        16    128     16   0.000236265             32                                        |\n",
            "| train_housing_19cca_00000   TERMINATED     32    256    256   0.000436174             16       10            81.004    0.410514 |\n",
            "| train_housing_19cca_00001   TERMINATED     32     16     32   0.000174203             64       10            22.8515   0.666002 |\n",
            "| train_housing_19cca_00002   TERMINATED     32     16     16   0.000167417             32       10            38.1129   0.70983  |\n",
            "| train_housing_19cca_00003   TERMINATED    128     16    128   0.000106556             16       10            69.0754   0.48833  |\n",
            "| train_housing_19cca_00004   TERMINATED    128    256    128   0.000997973             32       10            44.2459   0.480692 |\n",
            "| train_housing_19cca_00005   TERMINATED     64      8    256   0.000153028             64       10            22.9471   0.638039 |\n",
            "| train_housing_19cca_00006   TERMINATED    256     64     64   0.000248831             16       10            73.4348   0.430506 |\n",
            "| train_housing_19cca_00007   TERMINATED     32      8     16   0.000436561             16       10            62.9983   0.507663 |\n",
            "| train_housing_19cca_00008   TERMINATED    256      8    128   0.000483836             64       10            22.2688   0.46905  |\n",
            "| train_housing_19cca_00009   TERMINATED    256    256     32   0.000165913             64       10            28.2262   0.484612 |\n",
            "| train_housing_19cca_00010   TERMINATED    128     32     32   0.000368354             32       10            36.322    0.463456 |\n",
            "| train_housing_19cca_00011   TERMINATED    256     16    128   0.00064105              32       10            37.0994   0.440563 |\n",
            "| train_housing_19cca_00012   TERMINATED     16      8     16   0.000734409             32       10            35.5886   0.522814 |\n",
            "| train_housing_19cca_00014   TERMINATED     16     32      8   0.000272381             64       10            20.4566   0.758379 |\n",
            "| train_housing_19cca_00016   PENDING        16     32     64   0.000112408             64                                        |\n",
            "| train_housing_19cca_00017   PENDING        16     32     64   0.000523566             64                                        |\n",
            "| train_housing_19cca_00018   PENDING        16     32    128   0.000131733             64                                        |\n",
            "| train_housing_19cca_00019   PENDING        32      8      8   0.000937255             32                                        |\n",
            "+---------------------------------------------------------------------------------------------------------------------------------+\n",
            "\n",
            "Trial train_housing_19cca_00013 completed after 10 iterations at 2025-01-15 06:43:55. Total running time: 7min 5s\n",
            "+--------------------------------------------------------------+\n",
            "| Trial train_housing_19cca_00013 result                       |\n",
            "+--------------------------------------------------------------+\n",
            "| checkpoint_dir_name                        checkpoint_000004 |\n",
            "| time_this_iter_s                                     0.00935 |\n",
            "| time_total_s                                        71.11838 |\n",
            "| training_iteration                                        10 |\n",
            "| mse                                                  0.47638 |\n",
            "+--------------------------------------------------------------+\n",
            "\u001b[36m(train_housing pid=30500)\u001b[0m Finished Training\n"
          ]
        },
        {
          "output_type": "stream",
          "name": "stderr",
          "text": [
            "\u001b[36m(train_housing pid=30500)\u001b[0m Checkpoint successfully created at: Checkpoint(filesystem=local, path=/root/ray_results/train_housing_2025-01-15_06-36-50/train_housing_19cca_00013_13_batch_size=16,l1=64,l2=256,l3=8,lr=0.0002_2025-01-15_06-36-51/checkpoint_000004)\n"
          ]
        },
        {
          "output_type": "stream",
          "name": "stdout",
          "text": [
            "\u001b[36m(train_housing pid=31172)\u001b[0m [1, 300] loss: 1.951649267077446\u001b[32m [repeated 5x across cluster]\u001b[0m\n"
          ]
        },
        {
          "output_type": "stream",
          "name": "stderr",
          "text": [
            "\u001b[36m(train_housing pid=31172)\u001b[0m Checkpoint successfully created at: Checkpoint(filesystem=local, path=/root/ray_results/train_housing_2025-01-15_06-36-50/train_housing_19cca_00015_15_batch_size=32,l1=16,l2=128,l3=16,lr=0.0002_2025-01-15_06-36-51/checkpoint_000000)\n"
          ]
        },
        {
          "output_type": "stream",
          "name": "stdout",
          "text": [
            "\u001b[36m(train_housing pid=31172)\u001b[0m [2, 100] loss: 1.1632641220092774\u001b[32m [repeated 2x across cluster]\u001b[0m\n",
            "\n",
            "Trial train_housing_19cca_00016 started with configuration:\n",
            "+----------------------------------------------------+\n",
            "| Trial train_housing_19cca_00016 config             |\n",
            "+----------------------------------------------------+\n",
            "| batch_size                                      64 |\n",
            "| l1                                              16 |\n",
            "| l2                                              32 |\n",
            "| l3                                              64 |\n",
            "| lr                                         0.00011 |\n",
            "+----------------------------------------------------+\n"
          ]
        },
        {
          "output_type": "stream",
          "name": "stderr",
          "text": [
            "\u001b[36m(train_housing pid=31172)\u001b[0m Checkpoint successfully created at: Checkpoint(filesystem=local, path=/root/ray_results/train_housing_2025-01-15_06-36-50/train_housing_19cca_00015_15_batch_size=32,l1=16,l2=128,l3=16,lr=0.0002_2025-01-15_06-36-51/checkpoint_000001)\n"
          ]
        },
        {
          "output_type": "stream",
          "name": "stdout",
          "text": [
            "\u001b[36m(train_housing pid=31172)\u001b[0m [3, 100] loss: 0.9325777593255044\u001b[32m [repeated 4x across cluster]\u001b[0m\n"
          ]
        },
        {
          "output_type": "stream",
          "name": "stderr",
          "text": [
            "\u001b[36m(train_housing pid=31337)\u001b[0m Checkpoint successfully created at: Checkpoint(filesystem=local, path=/root/ray_results/train_housing_2025-01-15_06-36-50/train_housing_19cca_00016_16_batch_size=64,l1=16,l2=32,l3=64,lr=0.0001_2025-01-15_06-36-51/checkpoint_000000)\n"
          ]
        },
        {
          "output_type": "stream",
          "name": "stdout",
          "text": [
            "\u001b[36m(train_housing pid=31337)\u001b[0m [2, 100] loss: 3.226222151517868\u001b[32m [repeated 6x across cluster]\u001b[0m\n"
          ]
        },
        {
          "output_type": "stream",
          "name": "stderr",
          "text": [
            "\u001b[36m(train_housing pid=31172)\u001b[0m Checkpoint successfully created at: Checkpoint(filesystem=local, path=/root/ray_results/train_housing_2025-01-15_06-36-50/train_housing_19cca_00015_15_batch_size=32,l1=16,l2=128,l3=16,lr=0.0002_2025-01-15_06-36-51/checkpoint_000002)\n",
            "\u001b[36m(train_housing pid=31337)\u001b[0m Checkpoint successfully created at: Checkpoint(filesystem=local, path=/root/ray_results/train_housing_2025-01-15_06-36-50/train_housing_19cca_00016_16_batch_size=64,l1=16,l2=32,l3=64,lr=0.0001_2025-01-15_06-36-51/checkpoint_000002)\u001b[32m [repeated 2x across cluster]\u001b[0m\n"
          ]
        },
        {
          "output_type": "stream",
          "name": "stdout",
          "text": [
            "\n",
            "Trial status: 15 TERMINATED | 2 RUNNING | 3 PENDING\n",
            "Current time: 2025-01-15 06:44:22. Total running time: 7min 32s\n",
            "Logical resource usage: 2.0/2 CPUs, 0/0 GPUs\n",
            "Current best trial: 19cca_00000 with mse=0.41051413960158056 and params={'l1': 32, 'l2': 256, 'l3': 256, 'lr': 0.00043617427315480206, 'batch_size': 16}\n",
            "+---------------------------------------------------------------------------------------------------------------------------------+\n",
            "| Trial name                  status         l1     l2     l3            lr     batch_size     iter     total time (s)        mse |\n",
            "+---------------------------------------------------------------------------------------------------------------------------------+\n",
            "| train_housing_19cca_00015   RUNNING        16    128     16   0.000236265             32        6            26.7644   0.61822  |\n",
            "| train_housing_19cca_00016   RUNNING        16     32     64   0.000112408             64        6            15.2273   1.31366  |\n",
            "| train_housing_19cca_00000   TERMINATED     32    256    256   0.000436174             16       10            81.004    0.410514 |\n",
            "| train_housing_19cca_00001   TERMINATED     32     16     32   0.000174203             64       10            22.8515   0.666002 |\n",
            "| train_housing_19cca_00002   TERMINATED     32     16     16   0.000167417             32       10            38.1129   0.70983  |\n",
            "| train_housing_19cca_00003   TERMINATED    128     16    128   0.000106556             16       10            69.0754   0.48833  |\n",
            "| train_housing_19cca_00004   TERMINATED    128    256    128   0.000997973             32       10            44.2459   0.480692 |\n",
            "| train_housing_19cca_00005   TERMINATED     64      8    256   0.000153028             64       10            22.9471   0.638039 |\n",
            "| train_housing_19cca_00006   TERMINATED    256     64     64   0.000248831             16       10            73.4348   0.430506 |\n",
            "| train_housing_19cca_00007   TERMINATED     32      8     16   0.000436561             16       10            62.9983   0.507663 |\n",
            "| train_housing_19cca_00008   TERMINATED    256      8    128   0.000483836             64       10            22.2688   0.46905  |\n",
            "| train_housing_19cca_00009   TERMINATED    256    256     32   0.000165913             64       10            28.2262   0.484612 |\n",
            "| train_housing_19cca_00010   TERMINATED    128     32     32   0.000368354             32       10            36.322    0.463456 |\n",
            "| train_housing_19cca_00011   TERMINATED    256     16    128   0.00064105              32       10            37.0994   0.440563 |\n",
            "| train_housing_19cca_00012   TERMINATED     16      8     16   0.000734409             32       10            35.5886   0.522814 |\n",
            "| train_housing_19cca_00013   TERMINATED     64    256      8   0.000181138             16       10            71.1184   0.476379 |\n",
            "| train_housing_19cca_00014   TERMINATED     16     32      8   0.000272381             64       10            20.4566   0.758379 |\n",
            "| train_housing_19cca_00017   PENDING        16     32     64   0.000523566             64                                        |\n",
            "| train_housing_19cca_00018   PENDING        16     32    128   0.000131733             64                                        |\n",
            "| train_housing_19cca_00019   PENDING        32      8      8   0.000937255             32                                        |\n",
            "+---------------------------------------------------------------------------------------------------------------------------------+\n",
            "\u001b[36m(train_housing pid=31337)\u001b[0m [4, 100] loss: 1.2725453132390976\u001b[32m [repeated 8x across cluster]\u001b[0m\n",
            "\n",
            "Trial train_housing_19cca_00016 completed after 10 iterations at 2025-01-15 06:44:28. Total running time: 7min 38s\n",
            "+--------------------------------------------------------------+\n",
            "| Trial train_housing_19cca_00016 result                       |\n",
            "+--------------------------------------------------------------+\n",
            "| checkpoint_dir_name                        checkpoint_000004 |\n",
            "| time_this_iter_s                                     0.00842 |\n",
            "| time_total_s                                        22.27908 |\n",
            "| training_iteration                                        10 |\n",
            "| mse                                                  1.15881 |\n",
            "+--------------------------------------------------------------+\n",
            "\u001b[36m(train_housing pid=31337)\u001b[0m Finished Training\n",
            "\u001b[36m(train_housing pid=31337)\u001b[0m [5, 200] loss: 1.1518426519632339\u001b[32m [repeated 7x across cluster]\u001b[0m\n"
          ]
        },
        {
          "output_type": "stream",
          "name": "stderr",
          "text": [
            "\u001b[36m(train_housing pid=31337)\u001b[0m Checkpoint successfully created at: Checkpoint(filesystem=local, path=/root/ray_results/train_housing_2025-01-15_06-36-50/train_housing_19cca_00016_16_batch_size=64,l1=16,l2=32,l3=64,lr=0.0001_2025-01-15_06-36-51/checkpoint_000004)\u001b[32m [repeated 3x across cluster]\u001b[0m\n"
          ]
        },
        {
          "output_type": "stream",
          "name": "stdout",
          "text": [
            "\n",
            "Trial train_housing_19cca_00015 completed after 10 iterations at 2025-01-15 06:44:29. Total running time: 7min 39s\n",
            "+--------------------------------------------------------------+\n",
            "| Trial train_housing_19cca_00015 result                       |\n",
            "+--------------------------------------------------------------+\n",
            "| checkpoint_dir_name                        checkpoint_000004 |\n",
            "| time_this_iter_s                                     0.01075 |\n",
            "| time_total_s                                        39.35842 |\n",
            "| training_iteration                                        10 |\n",
            "| mse                                                  0.51842 |\n",
            "+--------------------------------------------------------------+\n",
            "\n",
            "Trial train_housing_19cca_00017 started with configuration:\n",
            "+----------------------------------------------------+\n",
            "| Trial train_housing_19cca_00017 config             |\n",
            "+----------------------------------------------------+\n",
            "| batch_size                                      64 |\n",
            "| l1                                              16 |\n",
            "| l2                                              32 |\n",
            "| l3                                              64 |\n",
            "| lr                                         0.00052 |\n",
            "+----------------------------------------------------+\n",
            "\n",
            "Trial train_housing_19cca_00018 started with configuration:\n",
            "+----------------------------------------------------+\n",
            "| Trial train_housing_19cca_00018 config             |\n",
            "+----------------------------------------------------+\n",
            "| batch_size                                      64 |\n",
            "| l1                                              16 |\n",
            "| l2                                              32 |\n",
            "| l3                                             128 |\n",
            "| lr                                         0.00013 |\n",
            "+----------------------------------------------------+\n",
            "\u001b[36m(train_housing pid=31172)\u001b[0m Finished Training\n",
            "\u001b[36m(train_housing pid=31764)\u001b[0m [1, 100] loss: 4.193966900110245\n",
            "\u001b[36m(train_housing pid=31764)\u001b[0m [1, 200] loss: 1.2946444779634476\n"
          ]
        },
        {
          "output_type": "stream",
          "name": "stderr",
          "text": [
            "\u001b[36m(train_housing pid=31764)\u001b[0m Checkpoint successfully created at: Checkpoint(filesystem=local, path=/root/ray_results/train_housing_2025-01-15_06-36-50/train_housing_19cca_00017_17_batch_size=64,l1=16,l2=32,l3=64,lr=0.0005_2025-01-15_06-36-51/checkpoint_000000)\u001b[32m [repeated 2x across cluster]\u001b[0m\n"
          ]
        },
        {
          "output_type": "stream",
          "name": "stdout",
          "text": [
            "\u001b[36m(train_housing pid=31766)\u001b[0m [2, 200] loss: 1.1932340216636659\u001b[32m [repeated 6x across cluster]\u001b[0m\n",
            "\n",
            "Trial status: 17 TERMINATED | 2 RUNNING | 1 PENDING\n",
            "Current time: 2025-01-15 06:44:52. Total running time: 8min 2s\n",
            "Logical resource usage: 2.0/2 CPUs, 0/0 GPUs\n",
            "Current best trial: 19cca_00000 with mse=0.41051413960158056 and params={'l1': 32, 'l2': 256, 'l3': 256, 'lr': 0.00043617427315480206, 'batch_size': 16}\n",
            "+---------------------------------------------------------------------------------------------------------------------------------+\n",
            "| Trial name                  status         l1     l2     l3            lr     batch_size     iter     total time (s)        mse |\n",
            "+---------------------------------------------------------------------------------------------------------------------------------+\n",
            "| train_housing_19cca_00017   RUNNING        16     32     64   0.000523566             64        4           11.6091    0.640291 |\n",
            "| train_housing_19cca_00018   RUNNING        16     32    128   0.000131733             64        2            9.63016   2.37477  |\n",
            "| train_housing_19cca_00000   TERMINATED     32    256    256   0.000436174             16       10           81.004     0.410514 |\n",
            "| train_housing_19cca_00001   TERMINATED     32     16     32   0.000174203             64       10           22.8515    0.666002 |\n",
            "| train_housing_19cca_00002   TERMINATED     32     16     16   0.000167417             32       10           38.1129    0.70983  |\n",
            "| train_housing_19cca_00003   TERMINATED    128     16    128   0.000106556             16       10           69.0754    0.48833  |\n",
            "| train_housing_19cca_00004   TERMINATED    128    256    128   0.000997973             32       10           44.2459    0.480692 |\n",
            "| train_housing_19cca_00005   TERMINATED     64      8    256   0.000153028             64       10           22.9471    0.638039 |\n",
            "| train_housing_19cca_00006   TERMINATED    256     64     64   0.000248831             16       10           73.4348    0.430506 |\n",
            "| train_housing_19cca_00007   TERMINATED     32      8     16   0.000436561             16       10           62.9983    0.507663 |\n",
            "| train_housing_19cca_00008   TERMINATED    256      8    128   0.000483836             64       10           22.2688    0.46905  |\n",
            "| train_housing_19cca_00009   TERMINATED    256    256     32   0.000165913             64       10           28.2262    0.484612 |\n",
            "| train_housing_19cca_00010   TERMINATED    128     32     32   0.000368354             32       10           36.322     0.463456 |\n",
            "| train_housing_19cca_00011   TERMINATED    256     16    128   0.00064105              32       10           37.0994    0.440563 |\n",
            "| train_housing_19cca_00012   TERMINATED     16      8     16   0.000734409             32       10           35.5886    0.522814 |\n",
            "| train_housing_19cca_00013   TERMINATED     64    256      8   0.000181138             16       10           71.1184    0.476379 |\n",
            "| train_housing_19cca_00014   TERMINATED     16     32      8   0.000272381             64       10           20.4566    0.758379 |\n",
            "| train_housing_19cca_00015   TERMINATED     16    128     16   0.000236265             32       10           39.3584    0.518423 |\n",
            "| train_housing_19cca_00016   TERMINATED     16     32     64   0.000112408             64       10           22.2791    1.15881  |\n",
            "| train_housing_19cca_00019   PENDING        32      8      8   0.000937255             32                                        |\n",
            "+---------------------------------------------------------------------------------------------------------------------------------+\n"
          ]
        },
        {
          "output_type": "stream",
          "name": "stderr",
          "text": [
            "\u001b[36m(train_housing pid=31764)\u001b[0m Checkpoint successfully created at: Checkpoint(filesystem=local, path=/root/ray_results/train_housing_2025-01-15_06-36-50/train_housing_19cca_00017_17_batch_size=64,l1=16,l2=32,l3=64,lr=0.0005_2025-01-15_06-36-51/checkpoint_000002)\u001b[32m [repeated 4x across cluster]\u001b[0m\n"
          ]
        },
        {
          "output_type": "stream",
          "name": "stdout",
          "text": [
            "\u001b[36m(train_housing pid=31766)\u001b[0m [4, 100] loss: 1.0583375161886215\u001b[32m [repeated 7x across cluster]\u001b[0m\n"
          ]
        },
        {
          "output_type": "stream",
          "name": "stderr",
          "text": [
            "\u001b[36m(train_housing pid=31766)\u001b[0m Checkpoint successfully created at: Checkpoint(filesystem=local, path=/root/ray_results/train_housing_2025-01-15_06-36-50/train_housing_19cca_00018_18_batch_size=64,l1=16,l2=32,l3=128,lr=0.0001_2025-01-15_06-36-51/checkpoint_000003)\u001b[32m [repeated 3x across cluster]\u001b[0m\n"
          ]
        },
        {
          "output_type": "stream",
          "name": "stdout",
          "text": [
            "\n",
            "Trial train_housing_19cca_00017 completed after 10 iterations at 2025-01-15 06:45:02. Total running time: 8min 12s\n",
            "+--------------------------------------------------------------+\n",
            "| Trial train_housing_19cca_00017 result                       |\n",
            "+--------------------------------------------------------------+\n",
            "| checkpoint_dir_name                        checkpoint_000004 |\n",
            "| time_this_iter_s                                     0.00987 |\n",
            "| time_total_s                                        22.76191 |\n",
            "| training_iteration                                        10 |\n",
            "| mse                                                  0.50665 |\n",
            "+--------------------------------------------------------------+\n",
            "\u001b[36m(train_housing pid=31764)\u001b[0m Finished Training\n",
            "\u001b[36m(train_housing pid=31766)\u001b[0m [5, 100] loss: 0.929458886384964\u001b[32m [repeated 4x across cluster]\u001b[0m\n",
            "\n",
            "Trial train_housing_19cca_00018 completed after 10 iterations at 2025-01-15 06:45:06. Total running time: 8min 16s\n",
            "+--------------------------------------------------------------+\n",
            "| Trial train_housing_19cca_00018 result                       |\n",
            "+--------------------------------------------------------------+\n",
            "| checkpoint_dir_name                        checkpoint_000004 |\n",
            "| time_this_iter_s                                     0.01164 |\n",
            "| time_total_s                                        26.23347 |\n",
            "| training_iteration                                        10 |\n",
            "| mse                                                  0.78489 |\n",
            "+--------------------------------------------------------------+\n"
          ]
        },
        {
          "output_type": "stream",
          "name": "stderr",
          "text": [
            "\u001b[36m(train_housing pid=31766)\u001b[0m Checkpoint successfully created at: Checkpoint(filesystem=local, path=/root/ray_results/train_housing_2025-01-15_06-36-50/train_housing_19cca_00018_18_batch_size=64,l1=16,l2=32,l3=128,lr=0.0001_2025-01-15_06-36-51/checkpoint_000004)\u001b[32m [repeated 2x across cluster]\u001b[0m\n"
          ]
        },
        {
          "output_type": "stream",
          "name": "stdout",
          "text": [
            "\n",
            "Trial train_housing_19cca_00019 started with configuration:\n",
            "+----------------------------------------------------+\n",
            "| Trial train_housing_19cca_00019 config             |\n",
            "+----------------------------------------------------+\n",
            "| batch_size                                      32 |\n",
            "| l1                                              32 |\n",
            "| l2                                               8 |\n",
            "| l3                                               8 |\n",
            "| lr                                         0.00094 |\n",
            "+----------------------------------------------------+\n",
            "\u001b[36m(train_housing pid=31766)\u001b[0m Finished Training\n",
            "\u001b[36m(train_housing pid=32189)\u001b[0m [1, 100] loss: 4.759677908420563\u001b[32m [repeated 2x across cluster]\u001b[0m\n"
          ]
        },
        {
          "output_type": "stream",
          "name": "stderr",
          "text": [
            "\u001b[36m(train_housing pid=32189)\u001b[0m Checkpoint successfully created at: Checkpoint(filesystem=local, path=/root/ray_results/train_housing_2025-01-15_06-36-50/train_housing_19cca_00019_19_batch_size=32,l1=32,l2=8,l3=8,lr=0.0009_2025-01-15_06-36-51/checkpoint_000000)\n"
          ]
        },
        {
          "output_type": "stream",
          "name": "stdout",
          "text": [
            "\u001b[36m(train_housing pid=32189)\u001b[0m [2, 200] loss: 0.5618675117194653\u001b[32m [repeated 5x across cluster]\u001b[0m\n"
          ]
        },
        {
          "output_type": "stream",
          "name": "stderr",
          "text": [
            "\u001b[36m(train_housing pid=32189)\u001b[0m Checkpoint successfully created at: Checkpoint(filesystem=local, path=/root/ray_results/train_housing_2025-01-15_06-36-50/train_housing_19cca_00019_19_batch_size=32,l1=32,l2=8,l3=8,lr=0.0009_2025-01-15_06-36-51/checkpoint_000001)\n"
          ]
        },
        {
          "output_type": "stream",
          "name": "stdout",
          "text": [
            "\n",
            "Trial status: 19 TERMINATED | 1 RUNNING\n",
            "Current time: 2025-01-15 06:45:22. Total running time: 8min 32s\n",
            "Logical resource usage: 1.0/2 CPUs, 0/0 GPUs\n",
            "Current best trial: 19cca_00000 with mse=0.41051413960158056 and params={'l1': 32, 'l2': 256, 'l3': 256, 'lr': 0.00043617427315480206, 'batch_size': 16}\n",
            "+---------------------------------------------------------------------------------------------------------------------------------+\n",
            "| Trial name                  status         l1     l2     l3            lr     batch_size     iter     total time (s)        mse |\n",
            "+---------------------------------------------------------------------------------------------------------------------------------+\n",
            "| train_housing_19cca_00019   RUNNING        32      8      8   0.000937255             32        4            10.4326   0.519382 |\n",
            "| train_housing_19cca_00000   TERMINATED     32    256    256   0.000436174             16       10            81.004    0.410514 |\n",
            "| train_housing_19cca_00001   TERMINATED     32     16     32   0.000174203             64       10            22.8515   0.666002 |\n",
            "| train_housing_19cca_00002   TERMINATED     32     16     16   0.000167417             32       10            38.1129   0.70983  |\n",
            "| train_housing_19cca_00003   TERMINATED    128     16    128   0.000106556             16       10            69.0754   0.48833  |\n",
            "| train_housing_19cca_00004   TERMINATED    128    256    128   0.000997973             32       10            44.2459   0.480692 |\n",
            "| train_housing_19cca_00005   TERMINATED     64      8    256   0.000153028             64       10            22.9471   0.638039 |\n",
            "| train_housing_19cca_00006   TERMINATED    256     64     64   0.000248831             16       10            73.4348   0.430506 |\n",
            "| train_housing_19cca_00007   TERMINATED     32      8     16   0.000436561             16       10            62.9983   0.507663 |\n",
            "| train_housing_19cca_00008   TERMINATED    256      8    128   0.000483836             64       10            22.2688   0.46905  |\n",
            "| train_housing_19cca_00009   TERMINATED    256    256     32   0.000165913             64       10            28.2262   0.484612 |\n",
            "| train_housing_19cca_00010   TERMINATED    128     32     32   0.000368354             32       10            36.322    0.463456 |\n",
            "| train_housing_19cca_00011   TERMINATED    256     16    128   0.00064105              32       10            37.0994   0.440563 |\n",
            "| train_housing_19cca_00012   TERMINATED     16      8     16   0.000734409             32       10            35.5886   0.522814 |\n",
            "| train_housing_19cca_00013   TERMINATED     64    256      8   0.000181138             16       10            71.1184   0.476379 |\n",
            "| train_housing_19cca_00014   TERMINATED     16     32      8   0.000272381             64       10            20.4566   0.758379 |\n",
            "| train_housing_19cca_00015   TERMINATED     16    128     16   0.000236265             32       10            39.3584   0.518423 |\n",
            "| train_housing_19cca_00016   TERMINATED     16     32     64   0.000112408             64       10            22.2791   1.15881  |\n",
            "| train_housing_19cca_00017   TERMINATED     16     32     64   0.000523566             64       10            22.7619   0.506648 |\n",
            "| train_housing_19cca_00018   TERMINATED     16     32    128   0.000131733             64       10            26.2335   0.784885 |\n",
            "+---------------------------------------------------------------------------------------------------------------------------------+\n"
          ]
        },
        {
          "output_type": "stream",
          "name": "stderr",
          "text": [
            "\u001b[36m(train_housing pid=32189)\u001b[0m Checkpoint successfully created at: Checkpoint(filesystem=local, path=/root/ray_results/train_housing_2025-01-15_06-36-50/train_housing_19cca_00019_19_batch_size=32,l1=32,l2=8,l3=8,lr=0.0009_2025-01-15_06-36-51/checkpoint_000002)\n"
          ]
        },
        {
          "output_type": "stream",
          "name": "stdout",
          "text": [
            "\u001b[36m(train_housing pid=32189)\u001b[0m [4, 100] loss: 0.5153458598256111\u001b[32m [repeated 7x across cluster]\u001b[0m\n"
          ]
        },
        {
          "output_type": "stream",
          "name": "stderr",
          "text": [
            "\u001b[36m(train_housing pid=32189)\u001b[0m Checkpoint successfully created at: Checkpoint(filesystem=local, path=/root/ray_results/train_housing_2025-01-15_06-36-50/train_housing_19cca_00019_19_batch_size=32,l1=32,l2=8,l3=8,lr=0.0009_2025-01-15_06-36-51/checkpoint_000003)\n"
          ]
        },
        {
          "output_type": "stream",
          "name": "stdout",
          "text": [
            "\u001b[36m(train_housing pid=32189)\u001b[0m [5, 400] loss: 0.516531143784523\u001b[32m [repeated 7x across cluster]\u001b[0m\n"
          ]
        },
        {
          "output_type": "stream",
          "name": "stderr",
          "text": [
            "2025-01-15 06:45:32,430\tINFO tune.py:1009 -- Wrote the latest version of all result files and experiment state to '/root/ray_results/train_housing_2025-01-15_06-36-50' in 0.0248s.\n"
          ]
        },
        {
          "output_type": "stream",
          "name": "stdout",
          "text": [
            "\n",
            "Trial train_housing_19cca_00019 completed after 10 iterations at 2025-01-15 06:45:32. Total running time: 8min 42s\n",
            "+--------------------------------------------------------------+\n",
            "| Trial train_housing_19cca_00019 result                       |\n",
            "+--------------------------------------------------------------+\n",
            "| checkpoint_dir_name                        checkpoint_000004 |\n",
            "| time_this_iter_s                                     0.00464 |\n",
            "| time_total_s                                        21.22974 |\n",
            "| training_iteration                                        10 |\n",
            "| mse                                                  0.46953 |\n",
            "+--------------------------------------------------------------+\n",
            "\n",
            "Trial status: 20 TERMINATED\n",
            "Current time: 2025-01-15 06:45:32. Total running time: 8min 42s\n",
            "Logical resource usage: 1.0/2 CPUs, 0/0 GPUs\n",
            "Current best trial: 19cca_00000 with mse=0.41051413960158056 and params={'l1': 32, 'l2': 256, 'l3': 256, 'lr': 0.00043617427315480206, 'batch_size': 16}\n",
            "+---------------------------------------------------------------------------------------------------------------------------------+\n",
            "| Trial name                  status         l1     l2     l3            lr     batch_size     iter     total time (s)        mse |\n",
            "+---------------------------------------------------------------------------------------------------------------------------------+\n",
            "| train_housing_19cca_00000   TERMINATED     32    256    256   0.000436174             16       10            81.004    0.410514 |\n",
            "| train_housing_19cca_00001   TERMINATED     32     16     32   0.000174203             64       10            22.8515   0.666002 |\n",
            "| train_housing_19cca_00002   TERMINATED     32     16     16   0.000167417             32       10            38.1129   0.70983  |\n",
            "| train_housing_19cca_00003   TERMINATED    128     16    128   0.000106556             16       10            69.0754   0.48833  |\n",
            "| train_housing_19cca_00004   TERMINATED    128    256    128   0.000997973             32       10            44.2459   0.480692 |\n",
            "| train_housing_19cca_00005   TERMINATED     64      8    256   0.000153028             64       10            22.9471   0.638039 |\n",
            "| train_housing_19cca_00006   TERMINATED    256     64     64   0.000248831             16       10            73.4348   0.430506 |\n",
            "| train_housing_19cca_00007   TERMINATED     32      8     16   0.000436561             16       10            62.9983   0.507663 |\n",
            "| train_housing_19cca_00008   TERMINATED    256      8    128   0.000483836             64       10            22.2688   0.46905  |\n",
            "| train_housing_19cca_00009   TERMINATED    256    256     32   0.000165913             64       10            28.2262   0.484612 |\n",
            "| train_housing_19cca_00010   TERMINATED    128     32     32   0.000368354             32       10            36.322    0.463456 |\n",
            "| train_housing_19cca_00011   TERMINATED    256     16    128   0.00064105              32       10            37.0994   0.440563 |\n",
            "| train_housing_19cca_00012   TERMINATED     16      8     16   0.000734409             32       10            35.5886   0.522814 |\n",
            "| train_housing_19cca_00013   TERMINATED     64    256      8   0.000181138             16       10            71.1184   0.476379 |\n",
            "| train_housing_19cca_00014   TERMINATED     16     32      8   0.000272381             64       10            20.4566   0.758379 |\n",
            "| train_housing_19cca_00015   TERMINATED     16    128     16   0.000236265             32       10            39.3584   0.518423 |\n",
            "| train_housing_19cca_00016   TERMINATED     16     32     64   0.000112408             64       10            22.2791   1.15881  |\n",
            "| train_housing_19cca_00017   TERMINATED     16     32     64   0.000523566             64       10            22.7619   0.506648 |\n",
            "| train_housing_19cca_00018   TERMINATED     16     32    128   0.000131733             64       10            26.2335   0.784885 |\n",
            "| train_housing_19cca_00019   TERMINATED     32      8      8   0.000937255             32       10            21.2297   0.46953  |\n",
            "+---------------------------------------------------------------------------------------------------------------------------------+\n",
            "\n",
            "\u001b[36m(train_housing pid=32189)\u001b[0m Finished Training\n"
          ]
        },
        {
          "output_type": "stream",
          "name": "stderr",
          "text": [
            "\u001b[36m(train_housing pid=32189)\u001b[0m Checkpoint successfully created at: Checkpoint(filesystem=local, path=/root/ray_results/train_housing_2025-01-15_06-36-50/train_housing_19cca_00019_19_batch_size=32,l1=32,l2=8,l3=8,lr=0.0009_2025-01-15_06-36-51/checkpoint_000004)\n"
          ]
        }
      ]
    },
    {
      "cell_type": "markdown",
      "source": [
        "# Model Training with Best Configuration"
      ],
      "metadata": {
        "id": "N033prZyl15x"
      }
    },
    {
      "cell_type": "code",
      "source": [
        "# retrieve best results\n",
        "best_results = results.get_best_result()\n",
        "best_config = best_results.config\n",
        "best_checkpoint = best_results.checkpoint\n",
        "\n",
        "print(best_config)\n"
      ],
      "metadata": {
        "colab": {
          "base_uri": "https://localhost:8080/"
        },
        "id": "QBzugKsutnV9",
        "outputId": "a7a8124b-effe-4e1d-fa66-cfd75201fe53"
      },
      "execution_count": 148,
      "outputs": [
        {
          "output_type": "stream",
          "name": "stdout",
          "text": [
            "{'l1': 32, 'l2': 256, 'l3': 256, 'lr': 0.00043617427315480206, 'batch_size': 16}\n"
          ]
        }
      ]
    },
    {
      "cell_type": "markdown",
      "source": [
        "Continue training with the best configuration"
      ],
      "metadata": {
        "id": "3GL1YuiOcyJB"
      }
    },
    {
      "cell_type": "code",
      "source": [
        "def train_housing_best(config, best_checkpoint, epoch_start=0, epoch_end=100, patience=5):\n",
        "\n",
        "  # dataloader\n",
        "  train_loader = DataLoader(train_dataset, batch_size = config['batch_size'], shuffle=True, num_workers=2)\n",
        "  validation_loader = DataLoader(validation_dataset, batch_size = config['batch_size'], shuffle=True, num_workers=2)\n",
        "\n",
        "  # load scaler\n",
        "  scaler = scaler_func(scaler_filename=scaler_filename)\n",
        "\n",
        "  # create network instance with inputs from config\n",
        "  model = RegressionNet(input_size=8, scaler=scaler, l1=config['l1'], l2=config['l2'], l3=config['l3'])\n",
        "\n",
        "  with best_checkpoint.as_directory() as checkpoint_dir:\n",
        "    model.load_state_dict(torch.load(os.path.join(checkpoint_dir, 'model.pth')))\n",
        "\n",
        "  device = torch.device('cuda' if torch.cuda.is_available() else 'cpu')\n",
        "  model.to(device)\n",
        "\n",
        "  # define optimizer\n",
        "  optimizer = optim.Adam(model.parameters(), lr=config[\"lr\"])\n",
        "\n",
        "  # training loop\n",
        "\n",
        "  history = {'epoch':[], 'train_mse':[], 'validation_mse':[]} # dictionary for history of epoch and mse\n",
        "  best_validation_mse = float('inf') # initialize best validation mse with a large value\n",
        "  patience = patience # number of epochs to wait for improvement\n",
        "  counter = 0\n",
        "\n",
        "  for epoch in range(epoch_start,epoch_end):\n",
        "    train_mse = train_func(model=model, optimizer=optimizer, train_loader=train_loader, epoch=epoch)\n",
        "    # use validation for model evaluation\n",
        "    validation_mse = test_func(model=model, optimizer=optimizer, test_loader=validation_loader)\n",
        "\n",
        "    history['epoch'].append(epoch)\n",
        "    history['train_mse'].append(train_mse)\n",
        "    history['validation_mse'].append(validation_mse)\n",
        "\n",
        "    # check for improvement\n",
        "    if validation_mse < best_validation_mse:\n",
        "      best_validation_mse = validation_mse\n",
        "      counter = 0 # reset if validation mse improves\n",
        "    else:\n",
        "      counter += 1\n",
        "\n",
        "    # early stopping\n",
        "\n",
        "    if counter >= patience:\n",
        "      print(f'Early stopping at epoch {epoch+1}')\n",
        "      # save model for future use if stopped early\n",
        "      path = './californiahousing_net.pth'\n",
        "      torch.save(model.state_dict(), path) # saves the state_dict of the model\n",
        "      break # exit loop\n",
        "\n",
        "  print(\"Finished Training\")\n",
        "  # save model for future use after completion of training\n",
        "  path = './californiahousing_net.pth'\n",
        "  torch.save(model.state_dict(), path) # saves the state_dict of the model\n",
        "  return history"
      ],
      "metadata": {
        "id": "vSz51fMylsHa"
      },
      "execution_count": 149,
      "outputs": []
    },
    {
      "cell_type": "code",
      "source": [
        "history = train_housing_best(config=best_config, best_checkpoint=best_checkpoint, epoch_start=5, epoch_end=101, patience=8)"
      ],
      "metadata": {
        "colab": {
          "base_uri": "https://localhost:8080/"
        },
        "id": "Fg3ZwPotmVXW",
        "outputId": "4537a999-edda-41f4-fc2b-135da63ac95a"
      },
      "execution_count": 150,
      "outputs": [
        {
          "output_type": "stream",
          "name": "stderr",
          "text": [
            "<ipython-input-149-742301022a4f>:14: FutureWarning: You are using `torch.load` with `weights_only=False` (the current default value), which uses the default pickle module implicitly. It is possible to construct malicious pickle data which will execute arbitrary code during unpickling (See https://github.com/pytorch/pytorch/blob/main/SECURITY.md#untrusted-models for more details). In a future release, the default value for `weights_only` will be flipped to `True`. This limits the functions that could be executed during unpickling. Arbitrary objects will no longer be allowed to be loaded via this mode unless they are explicitly allowlisted by the user via `torch.serialization.add_safe_globals`. We recommend you start setting `weights_only=True` for any use case where you don't have full control of the loaded file. Please open an issue on GitHub for any issues related to this experimental feature.\n",
            "  model.load_state_dict(torch.load(os.path.join(checkpoint_dir, 'model.pth')))\n"
          ]
        },
        {
          "output_type": "stream",
          "name": "stdout",
          "text": [
            "[6, 100] loss: 0.43992550946772097\n",
            "[6, 200] loss: 0.41003829181194307\n",
            "[6, 300] loss: 0.46025003008544446\n",
            "[6, 400] loss: 0.4619616287946701\n",
            "[6, 500] loss: 0.4018963458389044\n",
            "[6, 600] loss: 0.42284397169947624\n",
            "[6, 700] loss: 0.3784097822383046\n",
            "[6, 800] loss: 0.4788512632995844\n",
            "[6, 900] loss: 0.4361240126937628\n",
            "[7, 100] loss: 0.4467804666608572\n",
            "[7, 200] loss: 0.40777265556156633\n",
            "[7, 300] loss: 0.44675603047013285\n",
            "[7, 400] loss: 0.42123438805341723\n",
            "[7, 500] loss: 0.4345101089775562\n",
            "[7, 600] loss: 0.39720775790512564\n",
            "[7, 700] loss: 0.43883985668420794\n",
            "[7, 800] loss: 0.44071739077568056\n",
            "[7, 900] loss: 0.39165641434490683\n",
            "[8, 100] loss: 0.44095240227878096\n",
            "[8, 200] loss: 0.4314886587113142\n",
            "[8, 300] loss: 0.38980943635106086\n",
            "[8, 400] loss: 0.39842921018600463\n",
            "[8, 500] loss: 0.4675421653687954\n",
            "[8, 600] loss: 0.39858133062720297\n",
            "[8, 700] loss: 0.44441462561488154\n",
            "[8, 800] loss: 0.379276030883193\n",
            "[8, 900] loss: 0.4324522841349244\n",
            "[9, 100] loss: 0.40792856000363825\n",
            "[9, 200] loss: 0.410123336315155\n",
            "[9, 300] loss: 0.4335136891901493\n",
            "[9, 400] loss: 0.4225486846268177\n",
            "[9, 500] loss: 0.38512698605656626\n",
            "[9, 600] loss: 0.3908186208456755\n",
            "[9, 700] loss: 0.3885402533784509\n",
            "[9, 800] loss: 0.45852088674902913\n",
            "[9, 900] loss: 0.3906900704652071\n",
            "[10, 100] loss: 0.3775993884727359\n",
            "[10, 200] loss: 0.38248225063085556\n",
            "[10, 300] loss: 0.4244524344056845\n",
            "[10, 400] loss: 0.3852376762777567\n",
            "[10, 500] loss: 0.3976823166012764\n",
            "[10, 600] loss: 0.46399320371448993\n",
            "[10, 700] loss: 0.3925679843872786\n",
            "[10, 800] loss: 0.39534723058342935\n",
            "[10, 900] loss: 0.4434591818600893\n",
            "[11, 100] loss: 0.4161231453716755\n",
            "[11, 200] loss: 0.45659073621034624\n",
            "[11, 300] loss: 0.3936883448809385\n",
            "[11, 400] loss: 0.4010860850661993\n",
            "[11, 500] loss: 0.3761403861641884\n",
            "[11, 600] loss: 0.3851745614409447\n",
            "[11, 700] loss: 0.386684391759336\n",
            "[11, 800] loss: 0.4157401741296053\n",
            "[11, 900] loss: 0.39391079638153315\n",
            "[12, 100] loss: 0.3913985271751881\n",
            "[12, 200] loss: 0.3926026201248169\n",
            "[12, 300] loss: 0.398672750890255\n",
            "[12, 400] loss: 0.3910062887519598\n",
            "[12, 500] loss: 0.39142218306660653\n",
            "[12, 600] loss: 0.4294174690917134\n",
            "[12, 700] loss: 0.36049655377864837\n",
            "[12, 800] loss: 0.43295593589544296\n",
            "[12, 900] loss: 0.39786357127130034\n",
            "[13, 100] loss: 0.39988136194646356\n",
            "[13, 200] loss: 0.3960187243670225\n",
            "[13, 300] loss: 0.39430469378829003\n",
            "[13, 400] loss: 0.3766355813294649\n",
            "[13, 500] loss: 0.39979163378477095\n",
            "[13, 600] loss: 0.3974201028048992\n",
            "[13, 700] loss: 0.4108742297440767\n",
            "[13, 800] loss: 0.36158129915595055\n",
            "[13, 900] loss: 0.3802528206259012\n",
            "[14, 100] loss: 0.3998057127743959\n",
            "[14, 200] loss: 0.3646640681475401\n",
            "[14, 300] loss: 0.38216774106025697\n",
            "[14, 400] loss: 0.3712429843097925\n",
            "[14, 500] loss: 0.3451060562953353\n",
            "[14, 600] loss: 0.40721440717577934\n",
            "[14, 700] loss: 0.37957821115851403\n",
            "[14, 800] loss: 0.41560626789927485\n",
            "[14, 900] loss: 0.4043038156628609\n",
            "[15, 100] loss: 0.37321911580860617\n",
            "[15, 200] loss: 0.4234903711080551\n",
            "[15, 300] loss: 0.381286900639534\n",
            "[15, 400] loss: 0.34543903067708015\n",
            "[15, 500] loss: 0.35929223112761977\n",
            "[15, 600] loss: 0.364458911716938\n",
            "[15, 700] loss: 0.39721407659351826\n",
            "[15, 800] loss: 0.397173011302948\n",
            "[15, 900] loss: 0.3770524591207504\n",
            "[16, 100] loss: 0.40152359433472157\n",
            "[16, 200] loss: 0.3976248382031918\n",
            "[16, 300] loss: 0.3895588806271553\n",
            "[16, 400] loss: 0.3479322746768594\n",
            "[16, 500] loss: 0.3958401219546795\n",
            "[16, 600] loss: 0.4075303951278329\n",
            "[16, 700] loss: 0.3583752166479826\n",
            "[16, 800] loss: 0.3637978159636259\n",
            "[16, 900] loss: 0.3524583214521408\n",
            "[17, 100] loss: 0.34874838531017305\n",
            "[17, 200] loss: 0.3817107666283846\n",
            "[17, 300] loss: 0.3608302064239979\n",
            "[17, 400] loss: 0.35588291913270953\n",
            "[17, 500] loss: 0.3982743018120527\n",
            "[17, 600] loss: 0.40645183093845844\n",
            "[17, 700] loss: 0.3569372920691967\n",
            "[17, 800] loss: 0.36816450975835324\n",
            "[17, 900] loss: 0.39159755237400534\n",
            "[18, 100] loss: 0.3694812487438321\n",
            "[18, 200] loss: 0.396041923686862\n",
            "[18, 300] loss: 0.3418096106685698\n",
            "[18, 400] loss: 0.39871387742459774\n",
            "[18, 500] loss: 0.35378589332103727\n",
            "[18, 600] loss: 0.40811161197721957\n",
            "[18, 700] loss: 0.3550948191434145\n",
            "[18, 800] loss: 0.3581566724553704\n",
            "[18, 900] loss: 0.3630066955089569\n",
            "[19, 100] loss: 0.39800755470991134\n",
            "[19, 200] loss: 0.3434653230011463\n",
            "[19, 300] loss: 0.37542695119977\n",
            "[19, 400] loss: 0.36943316780030727\n",
            "[19, 500] loss: 0.35776824340224267\n",
            "[19, 600] loss: 0.3650879391282797\n",
            "[19, 700] loss: 0.3892385032773018\n",
            "[19, 800] loss: 0.3513565965741873\n",
            "[19, 900] loss: 0.3712535474449396\n",
            "[20, 100] loss: 0.37024924166500567\n",
            "[20, 200] loss: 0.36906183235347273\n",
            "[20, 300] loss: 0.3773346761614084\n",
            "[20, 400] loss: 0.3350603845715523\n",
            "[20, 500] loss: 0.37725664995610714\n",
            "[20, 600] loss: 0.4023166217654943\n",
            "[20, 700] loss: 0.3921159167587757\n",
            "[20, 800] loss: 0.37646637447178366\n",
            "[20, 900] loss: 0.309724293500185\n",
            "[21, 100] loss: 0.37573433376848697\n",
            "[21, 200] loss: 0.3778190910071135\n",
            "[21, 300] loss: 0.3557436415553093\n",
            "[21, 400] loss: 0.3775261902064085\n",
            "[21, 500] loss: 0.3737244959920645\n",
            "[21, 600] loss: 0.34275619246065614\n",
            "[21, 700] loss: 0.3433020909130573\n",
            "[21, 800] loss: 0.3380050566978753\n",
            "[21, 900] loss: 0.3578061215206981\n",
            "[22, 100] loss: 0.35455269418656826\n",
            "[22, 200] loss: 0.319546447172761\n",
            "[22, 300] loss: 0.3659972435608506\n",
            "[22, 400] loss: 0.3992409908398986\n",
            "[22, 500] loss: 0.36391675382852556\n",
            "[22, 600] loss: 0.3879941590130329\n",
            "[22, 700] loss: 0.3321869972348213\n",
            "[22, 800] loss: 0.34981729187071325\n",
            "[22, 900] loss: 0.38212953332811594\n",
            "[23, 100] loss: 0.3727675997465849\n",
            "[23, 200] loss: 0.34254464752972125\n",
            "[23, 300] loss: 0.31694511968642475\n",
            "[23, 400] loss: 0.3669282428920269\n",
            "[23, 500] loss: 0.37378933377563955\n",
            "[23, 600] loss: 0.3530650631338358\n",
            "[23, 700] loss: 0.37788241561502217\n",
            "[23, 800] loss: 0.36203505247831347\n",
            "[23, 900] loss: 0.3414144505560398\n",
            "[24, 100] loss: 0.3671734688431025\n",
            "[24, 200] loss: 0.344116213992238\n",
            "[24, 300] loss: 0.3400368202477694\n",
            "[24, 400] loss: 0.33136926271021366\n",
            "[24, 500] loss: 0.35660704649984837\n",
            "[24, 600] loss: 0.3402201586961746\n",
            "[24, 700] loss: 0.34538783207535745\n",
            "[24, 800] loss: 0.38341061808168886\n",
            "[24, 900] loss: 0.3557454186677933\n",
            "[25, 100] loss: 0.34276359075680374\n",
            "[25, 200] loss: 0.35820830963552\n",
            "[25, 300] loss: 0.3654064382612705\n",
            "[25, 400] loss: 0.34026121251285074\n",
            "[25, 500] loss: 0.36714275769889354\n",
            "[25, 600] loss: 0.3461447148770094\n",
            "[25, 700] loss: 0.3562870137766004\n",
            "[25, 800] loss: 0.3537153399735689\n",
            "[25, 900] loss: 0.33997525200247763\n",
            "[26, 100] loss: 0.36105675987899305\n",
            "[26, 200] loss: 0.3591018943488598\n",
            "[26, 300] loss: 0.3141233832761645\n",
            "[26, 400] loss: 0.36994574204087255\n",
            "[26, 500] loss: 0.3286473986506462\n",
            "[26, 600] loss: 0.32908350564539435\n",
            "[26, 700] loss: 0.3620197310298681\n",
            "[26, 800] loss: 0.3558452644944191\n",
            "[26, 900] loss: 0.33567664239555595\n",
            "[27, 100] loss: 0.3498953951522708\n",
            "[27, 200] loss: 0.3603356824070215\n",
            "[27, 300] loss: 0.35534718096256257\n",
            "[27, 400] loss: 0.3017934404313564\n",
            "[27, 500] loss: 0.3610819944739342\n",
            "[27, 600] loss: 0.3796444119513035\n",
            "[27, 700] loss: 0.3543561014160514\n",
            "[27, 800] loss: 0.3277755456417799\n",
            "[27, 900] loss: 0.343574448004365\n",
            "[28, 100] loss: 0.37272501714527606\n",
            "[28, 200] loss: 0.3829823085665703\n",
            "[28, 300] loss: 0.3231622289121151\n",
            "[28, 400] loss: 0.30229501247406004\n",
            "[28, 500] loss: 0.37563519857823846\n",
            "[28, 600] loss: 0.3167414513975382\n",
            "[28, 700] loss: 0.3325336057692766\n",
            "[28, 800] loss: 0.3060467201843858\n",
            "[28, 900] loss: 0.35316459752619267\n",
            "[29, 100] loss: 0.3580308187380433\n",
            "[29, 200] loss: 0.34009836718440056\n",
            "[29, 300] loss: 0.3428412812575698\n",
            "[29, 400] loss: 0.34332165770232675\n",
            "[29, 500] loss: 0.3262887927144766\n",
            "[29, 600] loss: 0.3435371693968773\n",
            "[29, 700] loss: 0.32594111904501916\n",
            "[29, 800] loss: 0.3163593539968133\n",
            "[29, 900] loss: 0.338638396859169\n",
            "[30, 100] loss: 0.3534128022566438\n",
            "[30, 200] loss: 0.3121883411705494\n",
            "[30, 300] loss: 0.33126158468425276\n",
            "[30, 400] loss: 0.35973420828580854\n",
            "[30, 500] loss: 0.33166840970516204\n",
            "[30, 600] loss: 0.35226491536945104\n",
            "[30, 700] loss: 0.3335209606960416\n",
            "[30, 800] loss: 0.3676282986998558\n",
            "[30, 900] loss: 0.3108960091695189\n",
            "[31, 100] loss: 0.3165661410987377\n",
            "[31, 200] loss: 0.317113441452384\n",
            "[31, 300] loss: 0.3469765694439411\n",
            "[31, 400] loss: 0.30771369092166423\n",
            "[31, 500] loss: 0.3550820439681411\n",
            "[31, 600] loss: 0.31479548089206216\n",
            "[31, 700] loss: 0.3428187368437648\n",
            "[31, 800] loss: 0.3471445724368095\n",
            "[31, 900] loss: 0.3569668107479811\n",
            "[32, 100] loss: 0.3260370969027281\n",
            "[32, 200] loss: 0.34361841399222615\n",
            "[32, 300] loss: 0.36490555115044115\n",
            "[32, 400] loss: 0.36442863766103983\n",
            "[32, 500] loss: 0.34775258306413886\n",
            "[32, 600] loss: 0.3236427217721939\n",
            "[32, 700] loss: 0.315126427449286\n",
            "[32, 800] loss: 0.3303996290266514\n",
            "[32, 900] loss: 0.2755765974521637\n",
            "[33, 100] loss: 0.36056655026972295\n",
            "[33, 200] loss: 0.35374413423240186\n",
            "[33, 300] loss: 0.32021364811807873\n",
            "[33, 400] loss: 0.31726351819932463\n",
            "[33, 500] loss: 0.30647584222257135\n",
            "[33, 600] loss: 0.31847881637513636\n",
            "[33, 700] loss: 0.33707575395703315\n",
            "[33, 800] loss: 0.3207635263353586\n",
            "[33, 900] loss: 0.36249916907399893\n",
            "[34, 100] loss: 0.31631578639149666\n",
            "[34, 200] loss: 0.328922629468143\n",
            "[34, 300] loss: 0.3184717807173729\n",
            "[34, 400] loss: 0.32056137967854736\n",
            "[34, 500] loss: 0.32978775948286054\n",
            "[34, 600] loss: 0.3199144837632775\n",
            "[34, 700] loss: 0.3585835385322571\n",
            "[34, 800] loss: 0.3307224303483963\n",
            "[34, 900] loss: 0.3493331652134657\n",
            "[35, 100] loss: 0.32803283326327803\n",
            "[35, 200] loss: 0.3665219505131245\n",
            "[35, 300] loss: 0.30570505421608685\n",
            "[35, 400] loss: 0.31485428780317304\n",
            "[35, 500] loss: 0.33565871462225916\n",
            "[35, 600] loss: 0.347724483422935\n",
            "[35, 700] loss: 0.30407898366451264\n",
            "[35, 800] loss: 0.3298748990148306\n",
            "[35, 900] loss: 0.2935293254349381\n",
            "[36, 100] loss: 0.35933488931506874\n",
            "[36, 200] loss: 0.33757399156689644\n",
            "[36, 300] loss: 0.3107745113223791\n",
            "[36, 400] loss: 0.33652729615569116\n",
            "[36, 500] loss: 0.3043013977259397\n",
            "[36, 600] loss: 0.33546500448137523\n",
            "[36, 700] loss: 0.3186134868115187\n",
            "[36, 800] loss: 0.33892333958297965\n",
            "[36, 900] loss: 0.29195965468883517\n",
            "[37, 100] loss: 0.31013908237218857\n",
            "[37, 200] loss: 0.3147541905939579\n",
            "[37, 300] loss: 0.40744894444942475\n",
            "[37, 400] loss: 0.32855756636708977\n",
            "[37, 500] loss: 0.3231863771378994\n",
            "[37, 600] loss: 0.30762535594403745\n",
            "[37, 700] loss: 0.3068158662319183\n",
            "[37, 800] loss: 0.3121786072850227\n",
            "[37, 900] loss: 0.303007620498538\n",
            "[38, 100] loss: 0.2946104697883129\n",
            "[38, 200] loss: 0.3100718715041876\n",
            "[38, 300] loss: 0.284045432433486\n",
            "[38, 400] loss: 0.34690836690366267\n",
            "[38, 500] loss: 0.3243005959317088\n",
            "[38, 600] loss: 0.3230462386459112\n",
            "[38, 700] loss: 0.3390695417672396\n",
            "[38, 800] loss: 0.3268390977010131\n",
            "[38, 900] loss: 0.3358907110244036\n",
            "[39, 100] loss: 0.3329058665037155\n",
            "[39, 200] loss: 0.2872886233404279\n",
            "[39, 300] loss: 0.34369437826797367\n",
            "[39, 400] loss: 0.30944940067827703\n",
            "[39, 500] loss: 0.3359310492873192\n",
            "[39, 600] loss: 0.2929452332854271\n",
            "[39, 700] loss: 0.3207562768831849\n",
            "[39, 800] loss: 0.3223908830434084\n",
            "[39, 900] loss: 0.3330932671204209\n",
            "[40, 100] loss: 0.3152518131956458\n",
            "[40, 200] loss: 0.3203511820733547\n",
            "[40, 300] loss: 0.3445533276721835\n",
            "[40, 400] loss: 0.3892575301975012\n",
            "[40, 500] loss: 0.2705782666057348\n",
            "[40, 600] loss: 0.34808299466967585\n",
            "[40, 700] loss: 0.28392207812517883\n",
            "[40, 800] loss: 0.3245129376649857\n",
            "[40, 900] loss: 0.28844490766525266\n",
            "[41, 100] loss: 0.28409666381776333\n",
            "[41, 200] loss: 0.3349169460684061\n",
            "[41, 300] loss: 0.30218407142907383\n",
            "[41, 400] loss: 0.3142938316240907\n",
            "[41, 500] loss: 0.29201621003448963\n",
            "[41, 600] loss: 0.32576744046062234\n",
            "[41, 700] loss: 0.32846043348312376\n",
            "[41, 800] loss: 0.3289367076009512\n",
            "[41, 900] loss: 0.32438431039452553\n",
            "[42, 100] loss: 0.31638924181461336\n",
            "[42, 200] loss: 0.3008382709696889\n",
            "[42, 300] loss: 0.36320222321897744\n",
            "[42, 400] loss: 0.28299336664378644\n",
            "[42, 500] loss: 0.29662850446999073\n",
            "[42, 600] loss: 0.299345297627151\n",
            "[42, 700] loss: 0.30462463937699796\n",
            "[42, 800] loss: 0.30956185728311536\n",
            "[42, 900] loss: 0.34276912271976473\n",
            "[43, 100] loss: 0.276515029668808\n",
            "[43, 200] loss: 0.29924528434872627\n",
            "[43, 300] loss: 0.3247135604172945\n",
            "[43, 400] loss: 0.2942655029147863\n",
            "[43, 500] loss: 0.33795181147754194\n",
            "[43, 600] loss: 0.31557806573808195\n",
            "[43, 700] loss: 0.3070971932634711\n",
            "[43, 800] loss: 0.3246991143375635\n",
            "[43, 900] loss: 0.3084536653012037\n",
            "[44, 100] loss: 0.34270924095064403\n",
            "[44, 200] loss: 0.29207459568977356\n",
            "[44, 300] loss: 0.324516666829586\n",
            "[44, 400] loss: 0.26807790592312813\n",
            "[44, 500] loss: 0.34327178612351417\n",
            "[44, 600] loss: 0.33326823346316814\n",
            "[44, 700] loss: 0.2980694953724742\n",
            "[44, 800] loss: 0.30362657699733975\n",
            "[44, 900] loss: 0.2827578091993928\n",
            "[45, 100] loss: 0.30698195718228816\n",
            "[45, 200] loss: 0.3128200490027666\n",
            "[45, 300] loss: 0.3117624647170305\n",
            "[45, 400] loss: 0.2926183217763901\n",
            "[45, 500] loss: 0.3077014650404453\n",
            "[45, 600] loss: 0.2961622086912394\n",
            "[45, 700] loss: 0.3152325142920017\n",
            "[45, 800] loss: 0.34503256555646655\n",
            "[45, 900] loss: 0.3023894848674536\n",
            "[46, 100] loss: 0.2762474788725376\n",
            "[46, 200] loss: 0.2958220194280148\n",
            "[46, 300] loss: 0.3186377448774874\n",
            "[46, 400] loss: 0.299553780592978\n",
            "[46, 500] loss: 0.33299883749336007\n",
            "[46, 600] loss: 0.29771330259740353\n",
            "[46, 700] loss: 0.2785383307561278\n",
            "[46, 800] loss: 0.303169577345252\n",
            "[46, 900] loss: 0.3270490517653525\n",
            "[47, 100] loss: 0.30771203991025686\n",
            "[47, 200] loss: 0.29981251019984484\n",
            "[47, 300] loss: 0.3680063722282648\n",
            "[47, 400] loss: 0.3105151192843914\n",
            "[47, 500] loss: 0.296326619386673\n",
            "[47, 600] loss: 0.312175201587379\n",
            "[47, 700] loss: 0.25554454378783703\n",
            "[47, 800] loss: 0.3424639558792114\n",
            "[47, 900] loss: 0.2819146999716759\n",
            "[48, 100] loss: 0.27979991979897023\n",
            "[48, 200] loss: 0.32494291801005604\n",
            "[48, 300] loss: 0.3044706277921796\n",
            "[48, 400] loss: 0.2836492874473333\n",
            "[48, 500] loss: 0.3308110727369785\n",
            "[48, 600] loss: 0.29402431450784206\n",
            "[48, 700] loss: 0.30187938652932644\n",
            "[48, 800] loss: 0.2889658648520708\n",
            "[48, 900] loss: 0.31925055116415024\n",
            "[49, 100] loss: 0.2775266183167696\n",
            "[49, 200] loss: 0.31642015554010866\n",
            "[49, 300] loss: 0.30722411651164294\n",
            "[49, 400] loss: 0.27521869242191316\n",
            "[49, 500] loss: 0.3143494123965502\n",
            "[49, 600] loss: 0.30043586518615484\n",
            "[49, 700] loss: 0.29580525666475294\n",
            "[49, 800] loss: 0.2994057362154126\n",
            "[49, 900] loss: 0.2946415397897363\n",
            "[50, 100] loss: 0.31670512065291406\n",
            "[50, 200] loss: 0.3098220860958099\n",
            "[50, 300] loss: 0.29634875085204837\n",
            "[50, 400] loss: 0.26678513787686825\n",
            "[50, 500] loss: 0.2826027865707874\n",
            "[50, 600] loss: 0.3317353040724993\n",
            "[50, 700] loss: 0.2880128779262304\n",
            "[50, 800] loss: 0.3121348126605153\n",
            "[50, 900] loss: 0.2999567375332117\n",
            "[51, 100] loss: 0.30466054782271385\n",
            "[51, 200] loss: 0.25543901685625314\n",
            "[51, 300] loss: 0.30826406996697187\n",
            "[51, 400] loss: 0.27471774332225324\n",
            "[51, 500] loss: 0.3082923369854689\n",
            "[51, 600] loss: 0.302564979121089\n",
            "[51, 700] loss: 0.3186861857771873\n",
            "[51, 800] loss: 0.27460397109389306\n",
            "[51, 900] loss: 0.3141000556945801\n",
            "[52, 100] loss: 0.2916492254287004\n",
            "[52, 200] loss: 0.2717175017297268\n",
            "[52, 300] loss: 0.2911021883785725\n",
            "[52, 400] loss: 0.2963280691951513\n",
            "[52, 500] loss: 0.26735557831823825\n",
            "[52, 600] loss: 0.33920255534350874\n",
            "[52, 700] loss: 0.3605954327061772\n",
            "[52, 800] loss: 0.2761912347376347\n",
            "[52, 900] loss: 0.305981562808156\n",
            "[53, 100] loss: 0.2894450800120831\n",
            "[53, 200] loss: 0.32858637504279614\n",
            "[53, 300] loss: 0.30759016711264847\n",
            "[53, 400] loss: 0.26504520878195764\n",
            "[53, 500] loss: 0.2956972877308726\n",
            "[53, 600] loss: 0.2645659479498863\n",
            "[53, 700] loss: 0.30244808696210385\n",
            "[53, 800] loss: 0.28907397914677857\n",
            "[53, 900] loss: 0.3155130881816149\n",
            "[54, 100] loss: 0.29034877914935353\n",
            "[54, 200] loss: 0.26084203377366066\n",
            "[54, 300] loss: 0.3048805804550648\n",
            "[54, 400] loss: 0.27541031435132024\n",
            "[54, 500] loss: 0.32651155650615693\n",
            "[54, 600] loss: 0.29671792961657045\n",
            "[54, 700] loss: 0.29325813814997675\n",
            "[54, 800] loss: 0.2756096198409796\n",
            "[54, 900] loss: 0.32857799299061297\n",
            "[55, 100] loss: 0.3051011345162988\n",
            "[55, 200] loss: 0.30767482835799453\n",
            "[55, 300] loss: 0.28525695137679574\n",
            "[55, 400] loss: 0.29539693720638754\n",
            "[55, 500] loss: 0.3028488877415657\n",
            "[55, 600] loss: 0.2675678787007928\n",
            "[55, 700] loss: 0.283996197655797\n",
            "[55, 800] loss: 0.30804222904145717\n",
            "[55, 900] loss: 0.28561620503664015\n",
            "[56, 100] loss: 0.2902923723682761\n",
            "[56, 200] loss: 0.29492465712130067\n",
            "[56, 300] loss: 0.31124624971300363\n",
            "[56, 400] loss: 0.2908275017514825\n",
            "[56, 500] loss: 0.3005422426387668\n",
            "[56, 600] loss: 0.3232173042371869\n",
            "[56, 700] loss: 0.25651597395539283\n",
            "[56, 800] loss: 0.287243117056787\n",
            "[56, 900] loss: 0.32120257131755353\n",
            "[57, 100] loss: 0.30426476158201693\n",
            "[57, 200] loss: 0.27303650598973034\n",
            "[57, 300] loss: 0.3086955890059471\n",
            "[57, 400] loss: 0.2875616857409477\n",
            "[57, 500] loss: 0.2716719414666295\n",
            "[57, 600] loss: 0.296291142553091\n",
            "[57, 700] loss: 0.26504567768424747\n",
            "[57, 800] loss: 0.2947524630650878\n",
            "[57, 900] loss: 0.2761961493641138\n",
            "[58, 100] loss: 0.3368139484524727\n",
            "[58, 200] loss: 0.32791463620960715\n",
            "[58, 300] loss: 0.2738101910054684\n",
            "[58, 400] loss: 0.3162431460246444\n",
            "[58, 500] loss: 0.2730399886891246\n",
            "[58, 600] loss: 0.29173341758549215\n",
            "[58, 700] loss: 0.2782631764933467\n",
            "[58, 800] loss: 0.27713053781539204\n",
            "[58, 900] loss: 0.2725418645143509\n",
            "[59, 100] loss: 0.2901259480044246\n",
            "[59, 200] loss: 0.29960855960845945\n",
            "[59, 300] loss: 0.2799959611147642\n",
            "[59, 400] loss: 0.2906760672479868\n",
            "[59, 500] loss: 0.2841674603894353\n",
            "[59, 600] loss: 0.2817566055804491\n",
            "[59, 700] loss: 0.2909659779444337\n",
            "[59, 800] loss: 0.2996801243722439\n",
            "[59, 900] loss: 0.25595772560685875\n",
            "[60, 100] loss: 0.2887799647450447\n",
            "[60, 200] loss: 0.27725747726857664\n",
            "[60, 300] loss: 0.30214993327856066\n",
            "[60, 400] loss: 0.2627894202619791\n",
            "[60, 500] loss: 0.3366200260072947\n",
            "[60, 600] loss: 0.30048495799303054\n",
            "[60, 700] loss: 0.2790882385522127\n",
            "[60, 800] loss: 0.26796616803854706\n",
            "[60, 900] loss: 0.2921533799171448\n",
            "[61, 100] loss: 0.24865528408437967\n",
            "[61, 200] loss: 0.34176977816969156\n",
            "[61, 300] loss: 0.3264735572040081\n",
            "[61, 400] loss: 0.29684153363108634\n",
            "[61, 500] loss: 0.3019093358516693\n",
            "[61, 600] loss: 0.3177761463262141\n",
            "[61, 700] loss: 0.2576706376299262\n",
            "[61, 800] loss: 0.26409121047705414\n",
            "[61, 900] loss: 0.2537470857426524\n",
            "[62, 100] loss: 0.27759623814374207\n",
            "[62, 200] loss: 0.27600399814546106\n",
            "[62, 300] loss: 0.2768567355722189\n",
            "[62, 400] loss: 0.32009056307375433\n",
            "[62, 500] loss: 0.3051847698166966\n",
            "[62, 600] loss: 0.23975975677371025\n",
            "[62, 700] loss: 0.28840802781283853\n",
            "[62, 800] loss: 0.322605792209506\n",
            "[62, 900] loss: 0.2833430552482605\n",
            "[63, 100] loss: 0.3158725640922785\n",
            "[63, 200] loss: 0.24960085339844226\n",
            "[63, 300] loss: 0.2844842138886452\n",
            "[63, 400] loss: 0.284049856737256\n",
            "[63, 500] loss: 0.2802638468146324\n",
            "[63, 600] loss: 0.2505194455385208\n",
            "[63, 700] loss: 0.30926323264837263\n",
            "[63, 800] loss: 0.26002967938780785\n",
            "[63, 900] loss: 0.27931624948978423\n",
            "[64, 100] loss: 0.258536277897656\n",
            "[64, 200] loss: 0.30437492311000824\n",
            "[64, 300] loss: 0.2932697832211852\n",
            "[64, 400] loss: 0.2981228930875659\n",
            "[64, 500] loss: 0.2647100094333291\n",
            "[64, 600] loss: 0.30259833581745627\n",
            "[64, 700] loss: 0.2794006015360355\n",
            "[64, 800] loss: 0.2944257650896907\n",
            "[64, 900] loss: 0.24599746704101563\n",
            "[65, 100] loss: 0.323262669891119\n",
            "[65, 200] loss: 0.2592681906372309\n",
            "[65, 300] loss: 0.26224424071609975\n",
            "[65, 400] loss: 0.27659637849777935\n",
            "[65, 500] loss: 0.30122211270034316\n",
            "[65, 600] loss: 0.2903341747820377\n",
            "[65, 700] loss: 0.27977525785565377\n",
            "[65, 800] loss: 0.2783656480908394\n",
            "[65, 900] loss: 0.2696130802296102\n",
            "[66, 100] loss: 0.29183915253728626\n",
            "[66, 200] loss: 0.27591235518455504\n",
            "[66, 300] loss: 0.27930812336504457\n",
            "[66, 400] loss: 0.26534765217453243\n",
            "[66, 500] loss: 0.27266695179045203\n",
            "[66, 600] loss: 0.28055189628154037\n",
            "[66, 700] loss: 0.2596151875331998\n",
            "[66, 800] loss: 0.2993478161841631\n",
            "[66, 900] loss: 0.3060492408275604\n",
            "[67, 100] loss: 0.28044764071702954\n",
            "[67, 200] loss: 0.2410784774646163\n",
            "[67, 300] loss: 0.2550358751416206\n",
            "[67, 400] loss: 0.3103329752385616\n",
            "[67, 500] loss: 0.30722181115299463\n",
            "[67, 600] loss: 0.2835356063768268\n",
            "[67, 700] loss: 0.27930501718074086\n",
            "[67, 800] loss: 0.2970159227401018\n",
            "[67, 900] loss: 0.2679258116334677\n",
            "[68, 100] loss: 0.29339284885674716\n",
            "[68, 200] loss: 0.29047556322067974\n",
            "[68, 300] loss: 0.3071435160934925\n",
            "[68, 400] loss: 0.25114931363612414\n",
            "[68, 500] loss: 0.2701040648669004\n",
            "[68, 600] loss: 0.26182016238570216\n",
            "[68, 700] loss: 0.26261171497404573\n",
            "[68, 800] loss: 0.28691757313907146\n",
            "[68, 900] loss: 0.31001091085374355\n",
            "[69, 100] loss: 0.2833969670534134\n",
            "[69, 200] loss: 0.2802045834064484\n",
            "[69, 300] loss: 0.2693496608361602\n",
            "[69, 400] loss: 0.2997477714344859\n",
            "[69, 500] loss: 0.3019602320343256\n",
            "[69, 600] loss: 0.2596709945052862\n",
            "[69, 700] loss: 0.28517473611980676\n",
            "[69, 800] loss: 0.2762729061767459\n",
            "[69, 900] loss: 0.24276037592440844\n",
            "[70, 100] loss: 0.2794143579527736\n",
            "[70, 200] loss: 0.30357654388993977\n",
            "[70, 300] loss: 0.2774016624316573\n",
            "[70, 400] loss: 0.23283433180302382\n",
            "[70, 500] loss: 0.28182689657434823\n",
            "[70, 600] loss: 0.2994308494031429\n",
            "[70, 700] loss: 0.26845173090696334\n",
            "[70, 800] loss: 0.28468779657036064\n",
            "[70, 900] loss: 0.31093658205121755\n",
            "[71, 100] loss: 0.3110251794010401\n",
            "[71, 200] loss: 0.2687401155754924\n",
            "[71, 300] loss: 0.26640065129846335\n",
            "[71, 400] loss: 0.2470565028488636\n",
            "[71, 500] loss: 0.2731022988632321\n",
            "[71, 600] loss: 0.22621152877807618\n",
            "[71, 700] loss: 0.31631333779543636\n",
            "[71, 800] loss: 0.2612680758535862\n",
            "[71, 900] loss: 0.320997103266418\n",
            "[72, 100] loss: 0.31727575566619637\n",
            "[72, 200] loss: 0.26420209772884845\n",
            "[72, 300] loss: 0.2550951607897878\n",
            "[72, 400] loss: 0.27218038532882927\n",
            "[72, 500] loss: 0.29967563942074776\n",
            "[72, 600] loss: 0.29036514461040497\n",
            "[72, 700] loss: 0.25342390112578866\n",
            "[72, 800] loss: 0.2582480866089463\n",
            "[72, 900] loss: 0.2813906818255782\n",
            "[73, 100] loss: 0.2959796193614602\n",
            "[73, 200] loss: 0.2932799194008112\n",
            "[73, 300] loss: 0.2694382994621992\n",
            "[73, 400] loss: 0.3011041581630707\n",
            "[73, 500] loss: 0.27833914168179036\n",
            "[73, 600] loss: 0.2380384173244238\n",
            "[73, 700] loss: 0.29739015650004147\n",
            "[73, 800] loss: 0.267945944480598\n",
            "[73, 900] loss: 0.3002711595222354\n",
            "[74, 100] loss: 0.2708813431859016\n",
            "[74, 200] loss: 0.26640308152884246\n",
            "[74, 300] loss: 0.28171482279896737\n",
            "[74, 400] loss: 0.2645821685343981\n",
            "[74, 500] loss: 0.2700016297027469\n",
            "[74, 600] loss: 0.29019724156707527\n",
            "[74, 700] loss: 0.26218793462961915\n",
            "[74, 800] loss: 0.2606230804696679\n",
            "[74, 900] loss: 0.27148277204483745\n",
            "[75, 100] loss: 0.30443035248667\n",
            "[75, 200] loss: 0.2432660886272788\n",
            "[75, 300] loss: 0.2526183915324509\n",
            "[75, 400] loss: 0.2693731421418488\n",
            "[75, 500] loss: 0.2721097024157643\n",
            "[75, 600] loss: 0.30329276591539384\n",
            "[75, 700] loss: 0.27034869499504566\n",
            "[75, 800] loss: 0.25721901763230565\n",
            "[75, 900] loss: 0.26737759735435246\n",
            "[76, 100] loss: 0.2719647438451648\n",
            "[76, 200] loss: 0.2817349587380886\n",
            "[76, 300] loss: 0.25292275801301\n",
            "[76, 400] loss: 0.2823943988606334\n",
            "[76, 500] loss: 0.31205651246011257\n",
            "[76, 600] loss: 0.2583920197933912\n",
            "[76, 700] loss: 0.2574469541758299\n",
            "[76, 800] loss: 0.28136555172502997\n",
            "[76, 900] loss: 0.2705119992047548\n",
            "[77, 100] loss: 0.2930690450593829\n",
            "[77, 200] loss: 0.25363639555871487\n",
            "[77, 300] loss: 0.25640418119728564\n",
            "[77, 400] loss: 0.3076286660134792\n",
            "[77, 500] loss: 0.2589569775760174\n",
            "[77, 600] loss: 0.27107455730438235\n",
            "[77, 700] loss: 0.23757814712822437\n",
            "[77, 800] loss: 0.2761997224763036\n",
            "[77, 900] loss: 0.26223816759884355\n",
            "[78, 100] loss: 0.24923383753746747\n",
            "[78, 200] loss: 0.27922491550445555\n",
            "[78, 300] loss: 0.2667894481867552\n",
            "[78, 400] loss: 0.24154149774461986\n",
            "[78, 500] loss: 0.2646440363675356\n",
            "[78, 600] loss: 0.25209879986941813\n",
            "[78, 700] loss: 0.28742030940949914\n",
            "[78, 800] loss: 0.272304967045784\n",
            "[78, 900] loss: 0.3356348492577672\n",
            "[79, 100] loss: 0.2966606643423438\n",
            "[79, 200] loss: 0.2743015092611313\n",
            "[79, 300] loss: 0.2722036693990231\n",
            "[79, 400] loss: 0.28545369386672975\n",
            "[79, 500] loss: 0.2650334795564413\n",
            "[79, 600] loss: 0.2742778202518821\n",
            "[79, 700] loss: 0.2537709421291947\n",
            "[79, 800] loss: 0.2532995031774044\n",
            "[79, 900] loss: 0.28181258387863634\n",
            "[80, 100] loss: 0.2610785223916173\n",
            "[80, 200] loss: 0.2798059823364019\n",
            "[80, 300] loss: 0.2810105359554291\n",
            "[80, 400] loss: 0.28678677789866924\n",
            "[80, 500] loss: 0.24057705651968717\n",
            "[80, 600] loss: 0.2525061874464154\n",
            "[80, 700] loss: 0.2880904649570584\n",
            "[80, 800] loss: 0.2600635054148734\n",
            "[80, 900] loss: 0.2689912183955312\n",
            "[81, 100] loss: 0.26533642508089544\n",
            "[81, 200] loss: 0.28443594817072154\n",
            "[81, 300] loss: 0.305096084959805\n",
            "[81, 400] loss: 0.25193537317216397\n",
            "[81, 500] loss: 0.24249479934573173\n",
            "[81, 600] loss: 0.2684772204235196\n",
            "[81, 700] loss: 0.23733102375641466\n",
            "[81, 800] loss: 0.26883638635277746\n",
            "[81, 900] loss: 0.2739130184426904\n",
            "[82, 100] loss: 0.2826390103250742\n",
            "[82, 200] loss: 0.29386375349015\n",
            "[82, 300] loss: 0.2870625384151936\n",
            "[82, 400] loss: 0.25482470136135815\n",
            "[82, 500] loss: 0.2656300836801529\n",
            "[82, 600] loss: 0.26993943110108376\n",
            "[82, 700] loss: 0.25466526951640844\n",
            "[82, 800] loss: 0.2676921571418643\n",
            "[82, 900] loss: 0.275009501054883\n",
            "[83, 100] loss: 0.2561641094088554\n",
            "[83, 200] loss: 0.25658704690635203\n",
            "[83, 300] loss: 0.2872370110079646\n",
            "[83, 400] loss: 0.27586218249052763\n",
            "[83, 500] loss: 0.2640423354879022\n",
            "[83, 600] loss: 0.23722751196473837\n",
            "[83, 700] loss: 0.30382981840521095\n",
            "[83, 800] loss: 0.2693276087194681\n",
            "[83, 900] loss: 0.25129288077354434\n",
            "[84, 100] loss: 0.25750045746564865\n",
            "[84, 200] loss: 0.2675573593750596\n",
            "[84, 300] loss: 0.2837542797625065\n",
            "[84, 400] loss: 0.23016465548425913\n",
            "[84, 500] loss: 0.29480946335941555\n",
            "[84, 600] loss: 0.29135007634758947\n",
            "[84, 700] loss: 0.28059250984340905\n",
            "[84, 800] loss: 0.2908948057517409\n",
            "[84, 900] loss: 0.2488712280243635\n",
            "Early stopping at epoch 84\n",
            "Finished Training\n"
          ]
        }
      ]
    },
    {
      "cell_type": "markdown",
      "source": [
        "## Plotting Metrics"
      ],
      "metadata": {
        "id": "AbAFI2MQk9Dm"
      }
    },
    {
      "cell_type": "code",
      "source": [
        "# Plot the MSEs vs epoch\n",
        "fig, ax1 = plt.subplots()\n",
        "\n",
        "# plot train_mse vs epoch\n",
        "ax1.plot(history['epoch'], history['train_mse'], label='Train MSE')\n",
        "\n",
        "# superimpose validation mse vs epoch\n",
        "ax1.plot(history['epoch'], history['validation_mse'], label='Validation MSE')\n",
        "\n",
        "# add legend\n",
        "ax1.legend();\n",
        "\n",
        "# title\n",
        "ax1.set_title('Plot of MSEs vs Epoch')\n",
        "\n",
        "# labels\n",
        "ax1.set_xlabel('Epoch')\n",
        "ax1.set_ylabel('MSE')\n",
        "\n",
        "# display plot\n",
        "plt.show()\n"
      ],
      "metadata": {
        "colab": {
          "base_uri": "https://localhost:8080/",
          "height": 472
        },
        "id": "NH-0L8DZ0ZA3",
        "outputId": "75d674f6-ba16-4ac6-9980-924f56cdd560"
      },
      "execution_count": 151,
      "outputs": [
        {
          "output_type": "display_data",
          "data": {
            "text/plain": [
              "<Figure size 640x480 with 1 Axes>"
            ],
            "image/png": "[encoded data removed]"
          },
          "metadata": {}
        }
      ]
    },
    {
      "cell_type": "markdown",
      "source": [
        "# Model Evaluation on Test Data"
      ],
      "metadata": {
        "id": "7XMIeH7dnSXX"
      }
    },
    {
      "cell_type": "markdown",
      "source": [
        "## Loading the Model"
      ],
      "metadata": {
        "id": "fGJWy_bGcqb4"
      }
    },
    {
      "cell_type": "code",
      "source": [
        "# load scaler\n",
        "scaler = scaler_func(scaler_filename=scaler_filename)\n",
        "\n",
        "# Define model using the best configuration\n",
        "model = RegressionNet(input_size=8, scaler=scaler, l1=best_config['l1'], l2=best_config['l2'], l3=best_config['l3'])\n",
        "\n",
        "# load state_dictionary from a save file\n",
        "path = './californiahousing_net.pth'\n",
        "\n",
        "# load model\n",
        "model.load_state_dict(torch.load(path, weights_only=True))"
      ],
      "metadata": {
        "colab": {
          "base_uri": "https://localhost:8080/"
        },
        "id": "aNObMj1XcsRb",
        "outputId": "1db205de-0905-418a-8522-23e042160c6a"
      },
      "execution_count": 152,
      "outputs": [
        {
          "output_type": "execute_result",
          "data": {
            "text/plain": [
              "<All keys matched successfully>"
            ]
          },
          "metadata": {},
          "execution_count": 152
        }
      ]
    },
    {
      "cell_type": "markdown",
      "source": [
        "## Evaluation on the Test Data"
      ],
      "metadata": {
        "id": "16i2feoObViF"
      }
    },
    {
      "cell_type": "code",
      "source": [
        "# load test data\n",
        "test_loader = DataLoader(test_dataset, batch_size = best_config['batch_size'], shuffle=True, num_workers=2)\n",
        "\n",
        "model.eval()\n",
        "with torch.no_grad():\n",
        "  test_mse = 0 # set initial mse to 0\n",
        "  data_points = 0\n",
        "  for data in test_loader:\n",
        "    inputs, targets = data\n",
        "\n",
        "    targets = targets.view(-1,1)\n",
        "\n",
        "    # predictions\n",
        "    predictions = model(inputs)\n",
        "\n",
        "    # define loss function\n",
        "    criterion = nn.MSELoss()\n",
        "\n",
        "    # loss\n",
        "    loss = criterion(predictions, targets)\n",
        "\n",
        "    # monitor number of data points\n",
        "    data_points += len(inputs)\n",
        "\n",
        "    # monitor MSE\n",
        "    test_mse += loss.item()*len(inputs) # right side multiplies the average batch mse to the total number of inputs\n",
        "  # take the average MSE across the entire dataset\n",
        "  test_mse /= data_points\n",
        "\n",
        "  print (f'Test MSE: {test_mse:.4f} \\nTest RMSE: {np.sqrt(test_mse):.4f}')\n"
      ],
      "metadata": {
        "colab": {
          "base_uri": "https://localhost:8080/"
        },
        "id": "Y_Gq8mtGcO9a",
        "outputId": "64f6423d-663b-47dd-ab4e-30213eb39483"
      },
      "execution_count": 153,
      "outputs": [
        {
          "output_type": "stream",
          "name": "stdout",
          "text": [
            "Test MSE: 0.2981 \n",
            "Test RMSE: 0.5460\n"
          ]
        }
      ]
    }
  ]
}
